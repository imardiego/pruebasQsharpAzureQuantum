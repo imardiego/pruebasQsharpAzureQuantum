{
 "cells": [
  {
   "cell_type": "markdown",
   "id": "98faddce",
   "metadata": {},
   "source": [
    "# Qsharp\n",
    "\n",
    "Q# es un lenguaje de programación de código abierto de alto nivel desarrollado por Microsoft para escribir programas cuánticos. \n",
    "\n",
    "\n",
    "Q# se incluye en el Kit de desarrollo de Quantum (QDK). Para obtener más información, consulte Configuración del kit de desarrollo de Quantum.\n",
    "\n",
    "Como lenguaje de programación cuántica, Q# cumple los siguientes requisitos para el lenguaje, el compilador y el entorno de ejecución:\n",
    "\n",
    "**Independiente del hardware:** los cúbits de los algoritmos cuánticos no están vinculados a un diseño o hardware cuántico específico. El Q# compilador y el tiempo de ejecución controlan la asignación de cúbits de programa a cúbits físicos, lo que permite que el mismo código se ejecute en diferentes procesadores cuánticos.\n",
    "\n",
    "**Integración de la computación cuántica y clásica:** Q# permite la integración decálculos cuánticos y clásicos, que es esencial para la computación cuántica universal.\n",
    "\n",
    "**Administración de qubits:** Q# proporciona operaciones y funciones integradas para administrar cúbits, incluida la creación de estados de superposición, el entrelazamiento de cúbits y la realización de medidas cuánticas.\n",
    "\n",
    "**Respetar las leyes de la física:** Q# y los algoritmos cuánticos deben seguir las reglas de la física cuántica. Por ejemplo, no se puede copiar ni acceder directamente al estado de cúbit en Q#.\n",
    "\n",
    "Introducción a Q#:\n",
    "\n",
    "https://learn.microsoft.com/es-es/azure/quantum/qsharp-overview\n",
    "\n",
    "https://github.com/microsoft/qsharp\n",
    "\n"
   ]
  },
  {
   "cell_type": "markdown",
   "id": "adbaaaa9",
   "metadata": {},
   "source": [
    "### Instalación de Q# en linux\n",
    "\n",
    "Ahora instalaremos Q# en linux WSL2 Ubuntu 24.04 , dentro del entorno de trabajo de QsharpAzureQuantum\n",
    "\n",
    "Más adelante haremos la instalación del SDK Quantum Microsoft. \n",
    "\n",
    "https://pypi.org/project/qsharp/"
   ]
  },
  {
   "cell_type": "code",
   "execution_count": null,
   "id": "5cd51fed",
   "metadata": {},
   "outputs": [],
   "source": [
    "# instalo qsharp\n",
    "\n",
    "%pip install qsharp"
   ]
  },
  {
   "cell_type": "markdown",
   "id": "e1c4f909",
   "metadata": {},
   "source": [
    "### Estructura básica de un programa Q#\n",
    "\n",
    "Antes de empezar a escribir Q# programas, es importante comprender su estructura y componentes. \n",
    "\n",
    "Veamos un ejemplo sencillo de un Q# programa, denominado Superposición, que crea un estado de superposición:"
   ]
  },
  {
   "cell_type": "code",
   "execution_count": 1,
   "id": "58bb9b17",
   "metadata": {},
   "outputs": [
    {
     "data": {
      "application/javascript": "// Copyright (c) Microsoft Corporation.\n// Licensed under the MIT License.\n\n// This file provides CodeMirror syntax highlighting for Q# magic cells\n// in classic Jupyter Notebooks. It does nothing in other (Jupyter Notebook 7,\n// VS Code, Azure Notebooks, etc.) environments.\n\n// Detect the prerequisites and do nothing if they don't exist.\nif (window.require && window.CodeMirror && window.Jupyter) {\n  // The simple mode plugin for CodeMirror is not loaded by default, so require it.\n  window.require([\"codemirror/addon/mode/simple\"], function defineMode() {\n    let rules = [\n      {\n        token: \"comment\",\n        regex: /(\\/\\/).*/,\n        beginWord: false,\n      },\n      {\n        token: \"string\",\n        regex: String.raw`^\\\"(?:[^\\\"\\\\]|\\\\[\\s\\S])*(?:\\\"|$)`,\n        beginWord: false,\n      },\n      {\n        token: \"keyword\",\n        regex: String.raw`(namespace|open|as|operation|function|body|adjoint|newtype|controlled|internal)\\b`,\n        beginWord: true,\n      },\n      {\n        token: \"keyword\",\n        regex: String.raw`(if|elif|else|repeat|until|fixup|for|in|return|fail|within|apply)\\b`,\n        beginWord: true,\n      },\n      {\n        token: \"keyword\",\n        regex: String.raw`(Adjoint|Controlled|Adj|Ctl|is|self|auto|distribute|invert|intrinsic)\\b`,\n        beginWord: true,\n      },\n      {\n        token: \"keyword\",\n        regex: String.raw`(let|set|use|borrow|mutable)\\b`,\n        beginWord: true,\n      },\n      {\n        token: \"operatorKeyword\",\n        regex: String.raw`(not|and|or)\\b|(w/)`,\n        beginWord: true,\n      },\n      {\n        token: \"operatorKeyword\",\n        regex: String.raw`(=)|(!)|(<)|(>)|(\\+)|(-)|(\\*)|(/)|(\\^)|(%)|(\\|)|(&&&)|(~~~)|(\\.\\.\\.)|(\\.\\.)|(\\?)`,\n        beginWord: false,\n      },\n      {\n        token: \"meta\",\n        regex: String.raw`(Int|BigInt|Double|Bool|Qubit|Pauli|Result|Range|String|Unit)\\b`,\n        beginWord: true,\n      },\n      {\n        token: \"atom\",\n        regex: String.raw`(true|false|Pauli(I|X|Y|Z)|One|Zero)\\b`,\n        beginWord: true,\n      },\n    ];\n    let simpleRules = [];\n    for (let rule of rules) {\n      simpleRules.push({\n        token: rule.token,\n        regex: new RegExp(rule.regex, \"g\"),\n        sol: rule.beginWord,\n      });\n      if (rule.beginWord) {\n        // Need an additional rule due to the fact that CodeMirror simple mode doesn't work with ^ token\n        simpleRules.push({\n          token: rule.token,\n          regex: new RegExp(String.raw`\\W` + rule.regex, \"g\"),\n          sol: false,\n        });\n      }\n    }\n\n    // Register the mode defined above with CodeMirror\n    window.CodeMirror.defineSimpleMode(\"qsharp\", { start: simpleRules });\n    window.CodeMirror.defineMIME(\"text/x-qsharp\", \"qsharp\");\n\n    // Tell Jupyter to associate %%qsharp magic cells with the qsharp mode\n    window.Jupyter.CodeCell.options_default.highlight_modes[\"qsharp\"] = {\n      reg: [/^%%qsharp/],\n    };\n\n    // Force re-highlighting of all cells the first time this code runs\n    for (const cell of window.Jupyter.notebook.get_cells()) {\n      cell.auto_highlight();\n    }\n  });\n}\n",
      "text/plain": []
     },
     "metadata": {},
     "output_type": "display_data"
    }
   ],
   "source": [
    "import qsharp"
   ]
  },
  {
   "cell_type": "code",
   "execution_count": 2,
   "id": "43589244",
   "metadata": {},
   "outputs": [],
   "source": [
    "%%qsharp\n",
    "\n",
    "namespace Superposition { //Creo un espacio de nombres\n",
    "                         \n",
    "    @EntryPoint() //Indico que este es un punto de entrada del programa\n",
    "    operation MeasureOneQubit() : Result {\n",
    "        // Declaro un qubit con valor inicial 0\n",
    "        use q = Qubit();  \n",
    "        // Aplico una operación o puerta Hadamara poner el qubit en superposición\n",
    "        // Le doy un 50% de posibilidad de estar en el estado |0> o |1>.\n",
    "        H(q);      \n",
    "        // Mido el qubit en la base Z de sistema de coordenadas. \n",
    "        let result = M(q);\n",
    "        // Reseto el qubit a su estado inicial antes de liberarlo\n",
    "        Reset(q);\n",
    "        // Devuelvo el resultado\n",
    "        return result;\n",
    "    }\n",
    "}\n",
    "// He declarado una función en q#. Hasta que no sea llamada o invocada no dará ningún resultado. \n"
   ]
  },
  {
   "cell_type": "markdown",
   "id": "7a55f4fd",
   "metadata": {},
   "source": [
    "**Espacio de nombres de usuario** \n",
    "\n",
    "Los espacios de nombres permiten organizar el código Q# en categorías lógicas. \n",
    "\n",
    "Los espacios de nombres ayudan a evitar conflictos de nombres y facilitan la reutilización del código. \n",
    "\n",
    "Un espacio de nombres debe comenzar con una letra mayúscula y puede contener letras, dígitos y guiones bajos (_).\n",
    "\n",
    "No es obligatorio especificar un espacio de nombres, pero es recomendable hacerlo para mantener el orden y la claridad del código.\n",
    "\n",
    "**Punto de entrada** \n",
    "\n",
    "La declaración @EntryPoint indica que la operación es un punto de entrada válido para el programa.\n",
    "\n",
    "Solo puede haber una operación con esta anotación en un espacio de nombres determinado. \n",
    "\n",
    "Si intenta agregar otra operación con la misma anotación, obtendrá un error de compilación. \n",
    "\n",
    "De forma predeterminada, el Q# compilador comienza a ejecutar un programa desde la Main() operación, si está disponible, que se puede ubicar en cualquier parte del programa. \n",
    "\n",
    "Opcionalmente, puede usar el @EntryPoint() atributo para especificar cualquier operación en el programa como punto de ejecución.\n"
   ]
  },
  {
   "cell_type": "markdown",
   "id": "eca8ed8a",
   "metadata": {},
   "source": [
    "# Varias formas de ejcutar Qsharp"
   ]
  },
  {
   "cell_type": "markdown",
   "id": "bb7b3b2e",
   "metadata": {},
   "source": [
    "### Qsharp en una celda de python jupyter notebook\n",
    "\n",
    "Sin mediar código python\n",
    "\n",
    "Utilizamos **%%qsharp** para indicar que lo siguiente ha de ejecutarse como código Q#\n",
    "\n",
    "**Ejemplo 1**"
   ]
  },
  {
   "cell_type": "code",
   "execution_count": 10,
   "id": "c5a66e0a",
   "metadata": {},
   "outputs": [],
   "source": [
    "import qsharp"
   ]
  },
  {
   "cell_type": "code",
   "execution_count": 3,
   "id": "64adb804",
   "metadata": {
    "vscode": {
     "languageId": "qsharp"
    }
   },
   "outputs": [
    {
     "data": {
      "text/plain": [
       "¡Hola desde Q#!"
      ]
     },
     "metadata": {},
     "output_type": "display_data"
    },
    {
     "data": {},
     "metadata": {},
     "output_type": "display_data"
    }
   ],
   "source": [
    "%%qsharp\n",
    "operation HelloQSharp() : Unit {\n",
    "    Message(\"¡Hola desde Q#!\");\n",
    "}\n",
    "\n",
    "HelloQSharp()"
   ]
  },
  {
   "cell_type": "code",
   "execution_count": 4,
   "id": "8fcc2811",
   "metadata": {
    "vscode": {
     "languageId": "qsharp"
    }
   },
   "outputs": [
    {
     "data": {
      "text/plain": [
       "¡Hola desde Q#!"
      ]
     },
     "metadata": {},
     "output_type": "display_data"
    },
    {
     "data": {},
     "metadata": {},
     "output_type": "display_data"
    }
   ],
   "source": [
    "%%qsharp\n",
    "operation Main() : Unit {\n",
    "    Message(\"¡Hola desde Q#!\");\n",
    "}\n",
    "\n",
    "HelloQSharp()"
   ]
  },
  {
   "cell_type": "markdown",
   "id": "d5f51f06",
   "metadata": {},
   "source": [
    "**Ejemplo 2**"
   ]
  },
  {
   "cell_type": "code",
   "execution_count": 4,
   "id": "36a9ab4d",
   "metadata": {},
   "outputs": [],
   "source": [
    "import qsharp"
   ]
  },
  {
   "cell_type": "code",
   "execution_count": 5,
   "id": "d007eca1",
   "metadata": {
    "vscode": {
     "languageId": "qsharp"
    }
   },
   "outputs": [
    {
     "data": {
      "text/markdown": [
       "<table class=\"qs-stateTable\">\n",
       "  <style>\n",
       "    .qs-stateTable thead tr {\n",
       "      background-color: var(\n",
       "        --vscode-list-hoverBackground,\n",
       "        var(--jp-layout-color1, inherit)\n",
       "      );\n",
       "    }\n",
       "    .qs-stateTable th {\n",
       "      text-align: left;\n",
       "      border: none;\n",
       "    }\n",
       "    .qs-stateTable tbody {\n",
       "      pointer-events: none;\n",
       "    }\n",
       "    .qs-stateTable tbody td {\n",
       "      text-align: left;\n",
       "      border: none;\n",
       "    }\n",
       "    .qs-stateTable tbody td span {\n",
       "      display: inline-block;\n",
       "    }\n",
       "    .qs-stateTable tbody tr:nth-child(even) {\n",
       "      background-color: var(\n",
       "        --vscode-list-hoverBackground,\n",
       "        var(--jp-layout-color1, inherit)\n",
       "      );\n",
       "    }\n",
       "  </style>\n",
       "  <thead>\n",
       "    <tr>\n",
       "      <th>Basis State<br />(|𝜓₁…𝜓ₙ⟩)</th>\n",
       "      <th>Amplitude</th>\n",
       "      <th>Measurement Probability</th>\n",
       "      <th colspan=\"2\">Phase</th>\n",
       "    </tr>\n",
       "  </thead>\n",
       "  <tbody>\n",
       "    <tr>\n",
       "  <td>\n",
       "    <span>|00⟩</span>\n",
       "  </td>\n",
       "  <td>\n",
       "    <span>0.7071+0.0000𝑖</span>\n",
       "  </td>\n",
       "  <td>\n",
       "    <progress max=\"100\" value=\"50.000000000000014\"></progress>\n",
       "    <span>50.0000%</span>\n",
       "  </td>\n",
       "  <td style=\"transform: rotate(0.0000rad)\">↑</td>\n",
       "  <td>\n",
       "    <span>0.0000</span>\n",
       "  </td>\n",
       "</tr>\n",
       "<tr>\n",
       "  <td>\n",
       "    <span>|11⟩</span>\n",
       "  </td>\n",
       "  <td>\n",
       "    <span>0.7071+0.0000𝑖</span>\n",
       "  </td>\n",
       "  <td>\n",
       "    <progress max=\"100\" value=\"50.000000000000014\"></progress>\n",
       "    <span>50.0000%</span>\n",
       "  </td>\n",
       "  <td style=\"transform: rotate(0.0000rad)\">↑</td>\n",
       "  <td>\n",
       "    <span>0.0000</span>\n",
       "  </td>\n",
       "</tr>\n",
       "\n",
       "  </tbody>\n",
       "</table>\n",
       "\n",
       "\n",
       "$|\\psi\\rangle = \\frac{\\sqrt{2}}{2}|00\\rangle+\\frac{\\sqrt{2}}{2}|11\\rangle$"
      ],
      "text/plain": [
       "STATE:\n",
       "|00⟩: 0.7071+0.0000𝑖\n",
       "|11⟩: 0.7071+0.0000𝑖"
      ]
     },
     "metadata": {},
     "output_type": "display_data"
    },
    {
     "data": {},
     "metadata": {},
     "output_type": "display_data"
    }
   ],
   "source": [
    "%%qsharp\n",
    "\n",
    "// Std.Diagnostics contiene la operación DumpMachine que imprime el estado del sistema cuántico.\n",
    "open Microsoft.Quantum.Diagnostics;\n",
    "\n",
    "// Definición de un punto de entrada para la ejecución del código Q#\n",
    "// Esto significa que esta operación se puede ejecutar directamente desde Python\n",
    "@EntryPoint()\n",
    "\n",
    "// Definición de la operación BellState\n",
    "operation BellState() : Unit {\n",
    "    \n",
    "    // Declaración de un arreglo de 2 qubits\n",
    "    use qs = Qubit[2];\n",
    "    // Aplicación de la puerta Hadamard al primer qubit\n",
    "    H(qs[0]);\n",
    "    // Aplicación de la puerta CNOT con el primer qubit como control y el segundo como objetivo\n",
    "    CNOT(qs[0], qs[1]);\n",
    "    // Imprime el estado del sistema cuántico\n",
    "    DumpMachine();\n",
    "    // ResetAll asegura que todos los qubits se devuelvan al estado |0⟩ antes de liberar la memoria\n",
    "    ResetAll(qs);\n",
    "}\n",
    "\n",
    "BellState()"
   ]
  },
  {
   "cell_type": "markdown",
   "id": "f30fd530",
   "metadata": {},
   "source": [
    "**NOTA:**  Teniendo el mismo nombre de operación y punto de entrada en un mismo espacio de nombres, con cada ejecución se volverá a declarar la operación MeasureOneQubit dando error. A no ser que reiniciemos el kernel de jupyter notebook. "
   ]
  },
  {
   "cell_type": "markdown",
   "id": "10e98e32",
   "metadata": {},
   "source": [
    "## Ejecutamos desde python directamente\n",
    "\n",
    "Podemos escribir un programa en python y ejecutar código Q# dentro de él. Esto nos permite aprovechar las ventajas de ambas tecnologías y combinarlos según nuestras necesidades.\n",
    "\n",
    "Para ejecutar un trozo de código de q# utilizaré **qsharp.eval()**\n"
   ]
  },
  {
   "cell_type": "code",
   "execution_count": 6,
   "id": "eaec9ac8",
   "metadata": {},
   "outputs": [
    {
     "data": {
      "text/markdown": [
       "<table class=\"qs-stateTable\">\n",
       "  <style>\n",
       "    .qs-stateTable thead tr {\n",
       "      background-color: var(\n",
       "        --vscode-list-hoverBackground,\n",
       "        var(--jp-layout-color1, inherit)\n",
       "      );\n",
       "    }\n",
       "    .qs-stateTable th {\n",
       "      text-align: left;\n",
       "      border: none;\n",
       "    }\n",
       "    .qs-stateTable tbody {\n",
       "      pointer-events: none;\n",
       "    }\n",
       "    .qs-stateTable tbody td {\n",
       "      text-align: left;\n",
       "      border: none;\n",
       "    }\n",
       "    .qs-stateTable tbody td span {\n",
       "      display: inline-block;\n",
       "    }\n",
       "    .qs-stateTable tbody tr:nth-child(even) {\n",
       "      background-color: var(\n",
       "        --vscode-list-hoverBackground,\n",
       "        var(--jp-layout-color1, inherit)\n",
       "      );\n",
       "    }\n",
       "  </style>\n",
       "  <thead>\n",
       "    <tr>\n",
       "      <th>Basis State<br />(|𝜓₁…𝜓ₙ⟩)</th>\n",
       "      <th>Amplitude</th>\n",
       "      <th>Measurement Probability</th>\n",
       "      <th colspan=\"2\">Phase</th>\n",
       "    </tr>\n",
       "  </thead>\n",
       "  <tbody>\n",
       "    <tr>\n",
       "  <td>\n",
       "    <span>|0⟩</span>\n",
       "  </td>\n",
       "  <td>\n",
       "    <span>0.7071+0.0000𝑖</span>\n",
       "  </td>\n",
       "  <td>\n",
       "    <progress max=\"100\" value=\"50.000000000000014\"></progress>\n",
       "    <span>50.0000%</span>\n",
       "  </td>\n",
       "  <td style=\"transform: rotate(0.0000rad)\">↑</td>\n",
       "  <td>\n",
       "    <span>0.0000</span>\n",
       "  </td>\n",
       "</tr>\n",
       "<tr>\n",
       "  <td>\n",
       "    <span>|1⟩</span>\n",
       "  </td>\n",
       "  <td>\n",
       "    <span>0.7071+0.0000𝑖</span>\n",
       "  </td>\n",
       "  <td>\n",
       "    <progress max=\"100\" value=\"50.000000000000014\"></progress>\n",
       "    <span>50.0000%</span>\n",
       "  </td>\n",
       "  <td style=\"transform: rotate(0.0000rad)\">↑</td>\n",
       "  <td>\n",
       "    <span>0.0000</span>\n",
       "  </td>\n",
       "</tr>\n",
       "\n",
       "  </tbody>\n",
       "</table>\n",
       "\n",
       "\n",
       "$|\\psi\\rangle = \\frac{\\sqrt{2}}{2}|0\\rangle+\\frac{\\sqrt{2}}{2}|1\\rangle$"
      ],
      "text/plain": [
       "STATE:\n",
       "|0⟩: 0.7071+0.0000𝑖\n",
       "|1⟩: 0.7071+0.0000𝑖"
      ]
     },
     "metadata": {},
     "output_type": "display_data"
    },
    {
     "data": {
      "text/plain": [
       "Zero"
      ]
     },
     "execution_count": 6,
     "metadata": {},
     "output_type": "execute_result"
    }
   ],
   "source": [
    "import qsharp\n",
    "\n",
    "qsharp.eval(\"\"\"\n",
    "    operation Superposition() : Result {\n",
    "        use q = Qubit();\n",
    "        H(q);\n",
    "        Std.Diagnostics.DumpMachine();\n",
    "        MResetZ(q)\n",
    "    }\n",
    "    \"\"\")\n",
    "\n",
    "qsharp.code.Superposition()\n"
   ]
  },
  {
   "cell_type": "markdown",
   "id": "49111f60",
   "metadata": {},
   "source": [
    "### Desde python jupyter notebook usando\n",
    "\n",
    "%%qsharp\n",
    "\n",
    "y qsharp.eval"
   ]
  },
  {
   "cell_type": "code",
   "execution_count": 4,
   "id": "7eba3e9a",
   "metadata": {},
   "outputs": [],
   "source": [
    "import qsharp"
   ]
  },
  {
   "cell_type": "code",
   "execution_count": 7,
   "id": "bf279d90",
   "metadata": {
    "vscode": {
     "languageId": "qsharp"
    }
   },
   "outputs": [],
   "source": [
    "%%qsharp\n",
    "\n",
    "operation Random() : Result {\n",
    "    use q = Qubit();\n",
    "    H(q);\n",
    "    let result = M(q);\n",
    "    Reset(q);\n",
    "    return result\n",
    "}\n",
    "\n",
    "operation RandomNBits(N: Int): Result[] {\n",
    "    mutable results = [];\n",
    "    for i in 0 .. N - 1 {\n",
    "        let r = Random();\n",
    "        results += [r];\n",
    "    }\n",
    "    return results\n",
    "}"
   ]
  },
  {
   "cell_type": "code",
   "execution_count": 12,
   "id": "d19737ed",
   "metadata": {},
   "outputs": [
    {
     "data": {
      "text/plain": [
       "[Zero, Zero, One, One]"
      ]
     },
     "execution_count": 12,
     "metadata": {},
     "output_type": "execute_result"
    }
   ],
   "source": [
    "qsharp.eval(\"RandomNBits(4)\")"
   ]
  },
  {
   "cell_type": "markdown",
   "id": "9271314f",
   "metadata": {},
   "source": [
    "#### Ejecutamos este mismo programa mediante el **simulador**\n",
    "\n",
    "Para ello utilizamos el método run e indicamos el número de pasadas o shots o ejecuciones."
   ]
  },
  {
   "cell_type": "code",
   "execution_count": 13,
   "id": "10f686f9",
   "metadata": {},
   "outputs": [
    {
     "data": {
      "text/plain": [
       "[[One, Zero, One, One],\n",
       " [One, One, Zero, One],\n",
       " [One, One, One, Zero],\n",
       " [One, Zero, One, One],\n",
       " [Zero, Zero, One, Zero],\n",
       " [Zero, One, One, One],\n",
       " [One, Zero, One, Zero],\n",
       " [Zero, One, Zero, One],\n",
       " [One, One, Zero, Zero],\n",
       " [Zero, Zero, One, Zero]]"
      ]
     },
     "execution_count": 13,
     "metadata": {},
     "output_type": "execute_result"
    }
   ],
   "source": [
    "# qsharp.run nos permite ejecutar el código qsharp dentro de python simulando la ejecución del código cuántico\n",
    "# en una máquina virtual de Azure Quantum. \n",
    "qsharp.run(\"RandomNBits(4)\", shots=10)"
   ]
  },
  {
   "cell_type": "markdown",
   "id": "1b1455ec",
   "metadata": {},
   "source": [
    "Graficamos el circuito en modo texto"
   ]
  },
  {
   "cell_type": "code",
   "execution_count": 15,
   "id": "ce3a01c3",
   "metadata": {},
   "outputs": [
    {
     "data": {
      "text/plain": [
       "q_0    ── H ──── ● ──── |0〉 ──── H ──── M ──── |0〉 ──── H ──── M ──── |0〉 ──── H ──── M ──── |0〉 ──── H ──── M ──── |0〉 ──── H ──── M ──── |0〉 ──── H ──── M ──── |0〉 ──── H ──── M ──── |0〉 ──── H ──── M ──── |0〉 ──── H ──── M ──── |0〉 ──\n",
       "                 │                      ╘══════════════════════╪══════════════════════╪══════════════════════╪══════════════════════╪══════════════════════╪══════════════════════╪══════════════════════╪══════════════════════╪════════════\n",
       "                 │                                             ╘══════════════════════╪══════════════════════╪══════════════════════╪══════════════════════╪══════════════════════╪══════════════════════╪══════════════════════╪════════════\n",
       "                 │                                                                    ╘══════════════════════╪══════════════════════╪══════════════════════╪══════════════════════╪══════════════════════╪══════════════════════╪════════════\n",
       "                 │                                                                                           ╘══════════════════════╪══════════════════════╪══════════════════════╪══════════════════════╪══════════════════════╪════════════\n",
       "                 │                                                                                                                  ╘══════════════════════╪══════════════════════╪══════════════════════╪══════════════════════╪════════════\n",
       "                 │                                                                                                                                         ╘══════════════════════╪══════════════════════╪══════════════════════╪════════════\n",
       "                 │                                                                                                                                                                ╘══════════════════════╪══════════════════════╪════════════\n",
       "                 │                                                                                                                                                                                       ╘══════════════════════╪════════════\n",
       "                 │                                                                                                                                                                                                              ╘════════════\n",
       "q_1    ───────── X ──── |0〉 ─────────────────────────────────────────────────────────────────────────────────────────────────────────────────────────────────────────────────────────────────────────────────────────────────────────────────"
      ]
     },
     "execution_count": 15,
     "metadata": {},
     "output_type": "execute_result"
    }
   ],
   "source": [
    "qsharp.dump_circuit()"
   ]
  },
  {
   "cell_type": "markdown",
   "id": "ebf8b601",
   "metadata": {},
   "source": [
    "### Visualización de circuitos cuánticos\n",
    "\n",
    "%pip install qsharp-widgets"
   ]
  },
  {
   "cell_type": "code",
   "execution_count": null,
   "id": "406f4fc4",
   "metadata": {},
   "outputs": [],
   "source": [
    "%pip install qsharp-widgets"
   ]
  },
  {
   "cell_type": "code",
   "execution_count": 17,
   "id": "581d963f",
   "metadata": {},
   "outputs": [
    {
     "data": {
      "application/vnd.jupyter.widget-view+json": {
       "model_id": "b52fb76bbeac40b586ec34f8d2e72f0e",
       "version_major": 2,
       "version_minor": 1
      },
      "text/plain": [
       "Circuit(circuit_json='{\"qubits\":[{\"id\":0,\"numResults\":4}],\"componentGrid\":[{\"components\":[{\"kind\":\"unitary\",\"g…"
      ]
     },
     "execution_count": 17,
     "metadata": {},
     "output_type": "execute_result"
    }
   ],
   "source": [
    "import qsharp\n",
    "from qsharp_widgets import Circuit\n",
    "Circuit(qsharp.circuit(\"RandomNBits(4)\"))\n"
   ]
  },
  {
   "cell_type": "markdown",
   "id": "e6e162cd",
   "metadata": {},
   "source": [
    "código puro qsharp"
   ]
  },
  {
   "cell_type": "code",
   "execution_count": 18,
   "id": "c8ae2701",
   "metadata": {
    "vscode": {
     "languageId": "qsharp"
    }
   },
   "outputs": [],
   "source": [
    "%%qsharp\n",
    "\n",
    "// Prepare a Bell State.\n",
    "use register = Qubit[2];\n",
    "H(register[0]);\n",
    "CNOT(register[0], register[1]);"
   ]
  },
  {
   "cell_type": "markdown",
   "id": "039b2ff7",
   "metadata": {},
   "source": [
    "visualización con gráficos de texto"
   ]
  },
  {
   "cell_type": "code",
   "execution_count": 21,
   "id": "4b406ee8",
   "metadata": {},
   "outputs": [
    {
     "data": {
      "text/plain": [
       "q_0    ── H ──── ● ──── |0〉 ──── H ──── M ──── |0〉 ──── H ──── M ──── |0〉 ──── H ──── M ──── |0〉 ──── H ──── M ──── |0〉 ──── H ──── M ──── |0〉 ──── H ──── M ──── |0〉 ──── H ──── M ──── |0〉 ──── H ──── M ──── |0〉 ──── H ──── M ──── |0〉 ──── H ──── ● ──\n",
       "                 │                      ╘══════════════════════╪══════════════════════╪══════════════════════╪══════════════════════╪══════════════════════╪══════════════════════╪══════════════════════╪══════════════════════╪══════════════════════╪═══\n",
       "                 │                                             ╘══════════════════════╪══════════════════════╪══════════════════════╪══════════════════════╪══════════════════════╪══════════════════════╪══════════════════════╪══════════════════════╪═══\n",
       "                 │                                                                    ╘══════════════════════╪══════════════════════╪══════════════════════╪══════════════════════╪══════════════════════╪══════════════════════╪══════════════════════╪═══\n",
       "                 │                                                                                           ╘══════════════════════╪══════════════════════╪══════════════════════╪══════════════════════╪══════════════════════╪══════════════════════╪═══\n",
       "                 │                                                                                                                  ╘══════════════════════╪══════════════════════╪══════════════════════╪══════════════════════╪══════════════════════╪═══\n",
       "                 │                                                                                                                                         ╘══════════════════════╪══════════════════════╪══════════════════════╪══════════════════════╪═══\n",
       "                 │                                                                                                                                                                ╘══════════════════════╪══════════════════════╪══════════════════════╪═══\n",
       "                 │                                                                                                                                                                                       ╘══════════════════════╪══════════════════════╪═══\n",
       "                 │                                                                                                                                                                                                              ╘══════════════════════╪═══\n",
       "q_1    ───────── X ──── |0〉 ────────────────────────────────────────────────────────────────────────────────────────────────────────────────────────────────────────────────────────────────────────────────────────────────────────────────────────── X ──"
      ]
     },
     "execution_count": 21,
     "metadata": {},
     "output_type": "execute_result"
    }
   ],
   "source": [
    "qsharp.dump_circuit()"
   ]
  },
  {
   "cell_type": "markdown",
   "id": "4ad66141",
   "metadata": {},
   "source": [
    "visualización gráfica"
   ]
  },
  {
   "cell_type": "code",
   "execution_count": 1,
   "id": "9547926c",
   "metadata": {},
   "outputs": [
    {
     "ename": "NameError",
     "evalue": "name 'qsharp' is not defined",
     "output_type": "error",
     "traceback": [
      "\u001b[31m---------------------------------------------------------------------------\u001b[39m",
      "\u001b[31mNameError\u001b[39m                                 Traceback (most recent call last)",
      "\u001b[36mCell\u001b[39m\u001b[36m \u001b[39m\u001b[32mIn[1]\u001b[39m\u001b[32m, line 2\u001b[39m\n\u001b[32m      1\u001b[39m \u001b[38;5;28;01mfrom\u001b[39;00m\u001b[38;5;250m \u001b[39m\u001b[34;01mqsharp_widgets\u001b[39;00m\u001b[38;5;250m \u001b[39m\u001b[38;5;28;01mimport\u001b[39;00m Circuit\n\u001b[32m----> \u001b[39m\u001b[32m2\u001b[39m Circuit(\u001b[43mqsharp\u001b[49m.dump_circuit())\n",
      "\u001b[31mNameError\u001b[39m: name 'qsharp' is not defined"
     ]
    }
   ],
   "source": [
    "from qsharp_widgets import Circuit\n",
    "Circuit(qsharp.dump_circuit())"
   ]
  },
  {
   "cell_type": "markdown",
   "id": "c5f82549",
   "metadata": {},
   "source": [
    "### Ejecutamos código qasm a través de librerías qsharp\n",
    "\n",
    "En lugar de utilizar la celda mágica encabezada por %%qsharp, ejecutamos python y dentro de un \n",
    "código python ejecutamos un trozo de código qasm mediante qsharp\n",
    "\n",
    "Desde python puedo simular mediante el método run de la libreria qsharp.openqasm"
   ]
  },
  {
   "cell_type": "code",
   "execution_count": 18,
   "id": "5d64ac0c",
   "metadata": {},
   "outputs": [
    {
     "data": {
      "application/x.qsharp-config": "{\"targetProfile\":\"base\",\"languageFeatures\":null,\"manifest\":null}",
      "text/plain": [
       "Q# initialized with configuration: {'targetProfile': 'base', 'languageFeatures': None, 'manifest': None}"
      ]
     },
     "execution_count": 18,
     "metadata": {},
     "output_type": "execute_result"
    }
   ],
   "source": [
    "# importo desde python qsharp y las librerías necesarias     \n",
    "import qsharp\n",
    "from qsharp import BitFlipNoise, TargetProfile\n",
    "from qsharp.openqasm import run\n",
    "\n",
    "# Inicializo qsharp con un perfil base\n",
    "# el perfil base es el que no añade ruido a las operaciones cuánticas   \n",
    "qsharp.init(target_profile=TargetProfile.Base)"
   ]
  },
  {
   "cell_type": "code",
   "execution_count": 19,
   "id": "c708822c",
   "metadata": {},
   "outputs": [
    {
     "name": "stdout",
     "output_type": "stream",
     "text": [
      "[Zero, One, Zero, One, One, One, One, Zero, One, One, Zero, Zero, Zero, Zero, One, One, One, One, One, One]\n"
     ]
    }
   ],
   "source": [
    "# stdgates.inc es un archivo de inclusión que contiene definiciones de puertas cuánticas estándar\n",
    "# utilizadas en circuitos cuánticos.\n",
    "\n",
    "# Este script ejecuta un circuito cuántico simple que aplica una puerta Hadamard a un qubit,\n",
    "# seguido de una puerta CNOT entre dos qubits, y mide el segundo qubit.\n",
    "# El resultado de la medición se almacena en una variable llamada \"c\" y se\n",
    "# ejecuta con un ruido de bit flip del 10% para simular errores en el circuito cuántico.\n",
    "# Finalmente, se imprime el resultado de la ejecución del circuito cuántico\n",
    "# con el número de disparos/ejecuciones con un número de 20.\n",
    "# El código entre triples comillas es código OpenQASM.\n",
    "results = run(\n",
    "    \"\"\"\n",
    "    include \"stdgates.inc\";\n",
    "    qubit[2] q;\n",
    "    reset q;\n",
    "    h q[0];\n",
    "    cx q[0], q[1];\n",
    "    bit c = measure q[1];\n",
    "    \"\"\",\n",
    "    shots=20,\n",
    "    noise=BitFlipNoise(0.1),\n",
    ")\n",
    "print(results)"
   ]
  },
  {
   "cell_type": "markdown",
   "id": "6e55d374",
   "metadata": {},
   "source": [
    "Otro ejemplo de ejecución de qasm mediante qsharp dentro de python jupyter notebook"
   ]
  },
  {
   "cell_type": "code",
   "execution_count": 20,
   "id": "b31d9659",
   "metadata": {},
   "outputs": [
    {
     "data": {
      "application/x.qsharp-config": "{\"targetProfile\":\"base\",\"languageFeatures\":null,\"manifest\":null}",
      "text/plain": [
       "Q# initialized with configuration: {'targetProfile': 'base', 'languageFeatures': None, 'manifest': None}"
      ]
     },
     "execution_count": 20,
     "metadata": {},
     "output_type": "execute_result"
    }
   ],
   "source": [
    "import qsharp\n",
    "from qsharp import BitFlipNoise, TargetProfile\n",
    "from qsharp.openqasm import run\n",
    "\n",
    "qsharp.init(target_profile=TargetProfile.Base)"
   ]
  },
  {
   "cell_type": "code",
   "execution_count": 21,
   "id": "dfcd6163",
   "metadata": {},
   "outputs": [
    {
     "name": "stdout",
     "output_type": "stream",
     "text": [
      "[[Zero, Zero], [Zero, Zero], [Zero, One], [Zero, Zero], [Zero, One], [Zero, One], [Zero, Zero], [Zero, One], [Zero, Zero], [Zero, One]]\n"
     ]
    }
   ],
   "source": [
    "# La librería qelib1.inc es un archivo de inclusión que contiene definiciones de puertas cuánticas estándar\n",
    "# y operaciones utilizadas en circuitos cuánticos. Este archivo es parte de la biblioteca estándar\n",
    "# de Qiskit y proporciona una forma conveniente de acceder a las puertas cuánticas comunes\n",
    "# sin tener que definirlas manualmente en cada programa. Al incluir \"qelib1.inc\", se pueden utilizar\n",
    "# puertas como Hadamard, CNOT, y otras sin necesidad de definirlas explícitamente.\n",
    "\n",
    "results = run(\n",
    "    \"\"\"\n",
    "    OPENQASM 2.0;\n",
    "    include \"qelib1.inc\";\n",
    "    qreg q[2];\n",
    "    creg c[2];\n",
    "    h q[0];\n",
    "    cx q[0], q[1];\n",
    "    measure q[1] -> c[1];\n",
    "    \"\"\",\n",
    "    \n",
    "    shots=10,\n",
    "    noise=BitFlipNoise(0.1),\n",
    ")\n",
    "# con measure q[1] -> c[1]; se mide el segundo qubit y se almacena el resultado en el primer bit clásico    \n",
    "# El resultado de la medición se almacena en una variable llamada \"c\" y se\n",
    "# ejecuta con un ruido de bit flip del 10% para simular errores en el circuito cuántico.\n",
    "# Finalmente, se imprime el resultado de la ejecución del circuito cuántico\n",
    "# con el número de disparos/ejecuciones con un número de 10.\n",
    "# results contiene el resultado de la ejecución del circuito cuántico mediante pares de qubits\n",
    "# y bits clásicos. \n",
    "print(results)  \n"
   ]
  },
  {
   "cell_type": "code",
   "execution_count": 3,
   "id": "128706c4",
   "metadata": {},
   "outputs": [
    {
     "data": {
      "text/plain": []
     },
     "execution_count": 3,
     "metadata": {},
     "output_type": "execute_result"
    }
   ],
   "source": [
    "qsharp.dump_circuit()"
   ]
  },
  {
   "cell_type": "markdown",
   "id": "6ebcad52",
   "metadata": {},
   "source": [
    "### Otras opciones de trabajo y ejecución de Q#\n",
    "\n",
    "https://learn.microsoft.com/es-es/azure/quantum/qsharp-ways-to-work\n",
    "\n",
    "Azure Quantum ofrece diferentes opciones de desarrollo para escribir y ejecutar programas cuánticos. Cada entorno usa el Kit de desarrollo de Quantum (QDK), un conjunto de herramientas de código abierto que incluye el lenguaje de programación Q#.\n",
    "\n",
    "**Azure Quantum está disponible a través de tres entornos de desarrollo:**\n",
    "\n",
    "**Sitio web de Azure Quantum:** use Copilot para escribir, ejecutar y explicar el código de Q# en el explorador. No se requiere instalación ni cuenta de Azure.\n",
    "\n",
    "**Visual Studio Code:** escriba, ejecute y depure código cuántico en el entorno local mediante Q# como un programa independiente o con Python. Se requiere la instalación.\n",
    "\n",
    "**Azure portal:** Administre su suscripción de Azure y el espacio de trabajo de Azure Quantum, donde puede escribir y ejecutar programas en Q# y Python en cuadernos de Jupyter. No se requiere ninguna instalación.\n",
    "\n",
    "\n"
   ]
  },
  {
   "cell_type": "markdown",
   "id": "2c644e25",
   "metadata": {},
   "source": [
    "###  Sitio web de Azure Quantum\n",
    "\n",
    "https://learn.microsoft.com/es-es/azure/quantum/qsharp-ways-to-work#azure-quantum-website\n",
    "\n",
    "En el sitio web de Azure Quantum, puede ejecutar programas de Q# en un editor de código en línea, sin instalación ni cuenta de Azure necesaria. Escriba su propio código de Q#, explore los ejemplos de Q# integrados o pida a Copilot que codifique automáticamente.\n",
    "\n",
    "El sitio web de Azure Quantum también incluye blogs, artículos y vídeos de expertos y entusiastas cuánticos. En **Katas cuánticos profundice sus conocimientos con tutoriales a su propio ritmo** sobre los fundamentos de la computación cuántica y Q#.\n",
    "\n",
    "https://quantum.microsoft.com/tools/quantum-katas\n",
    "\n",
    "Para más información, consulte Exploración de Copilot en Azure Quantum.\n",
    "\n",
    "https://quantum.microsoft.com/en-us/tools/quantum-coding\n",
    "\n",
    "<img src=\"./images/sitioWebAzure.PNG\"/>\n",
    "\n",
    "Mediante la url anterior podemos codificar y ejecutar programas además de recibir explicaciones del código mediante Copilot. \n",
    "\n",
    "Podemos elegir el número de repeticiones o shots. Ejecutar con el botón Run. \n",
    "\n",
    "Explicaciones con \"Explain Code\", y si hacemos click en el icono de VSCode, tendremos uno online. \n",
    "\n",
    "<img src=\"./images/explicaciónYdistribuciónResultados.PNG\"/>\n",
    "\n",
    "**Microsoft provee de una página de aprendizaje de conceptos matemáticos necesarios de algebral lineal cuántica** \n",
    "\n",
    "https://quantum.microsoft.com/en-us/tools/quantum-katas\n",
    "\n",
    "<img src=\"./images/Katas.PNG\"/>"
   ]
  },
  {
   "cell_type": "markdown",
   "id": "fb641f7f",
   "metadata": {},
   "source": [
    "### Visual Studio Code Online\n",
    "\n",
    "Microsoft provee de un VScodeOnline sin necesidad de cuenta. \n",
    "\n",
    "Si creamos una cuenta podemos guardar todo lo creado y hacer uso de todas las utilidades como debuggear, generar histogramas y dibujar el circuito.\n",
    "\n",
    "<img src=\"./images/vscodeOnLine.PNG\"/>\n",
    "\n"
   ]
  },
  {
   "cell_type": "markdown",
   "id": "fe7f091d",
   "metadata": {},
   "source": [
    "### Ejemplos de código\n",
    "\n",
    "https://github.com/microsoft/qsharp/tree/main/samples\n",
    "\n",
    "<img src=\"./images/ejemplosCodigo.PNG\"/>"
   ]
  },
  {
   "cell_type": "markdown",
   "id": "1ca8a305",
   "metadata": {},
   "source": [
    "### Algoritmos codificados\n",
    "\n",
    "https://vscode.dev/quantum/playground/?vscode-lang=es-es\n",
    "\n",
    "En OpenQASM y en Qsharp\n",
    "\n",
    "<img src=\"./images/ejemplosAlgoritmos.PNG\"/>"
   ]
  },
  {
   "cell_type": "markdown",
   "id": "1ac460dc",
   "metadata": {},
   "source": [
    "### Tutorial de algoritmos Q#\n",
    "\n",
    "- Generador cuántico de números aleatorios\n",
    "- Algoritmo de Grover\n",
    "- Transformada de fourier\n",
    "\n",
    "https://learn.microsoft.com/es-es/azure/quantum/tutorial-qdk-quantum-random-number-generator?tabs=tabid-copilot"
   ]
  },
  {
   "cell_type": "markdown",
   "id": "eb65a2b4",
   "metadata": {},
   "source": [
    "### ##################################################################################"
   ]
  },
  {
   "cell_type": "markdown",
   "id": "cc1e67aa",
   "metadata": {},
   "source": [
    "**************************************************************************************************"
   ]
  },
  {
   "cell_type": "markdown",
   "id": "7b547c2b",
   "metadata": {},
   "source": [
    "### Instalación del Azure Quantum Developer Kit \n",
    "\n",
    "\n",
    "Podemos instalar el QDK en:\n",
    "\n",
    "    - linux\n",
    "    - VSCode\n",
    "    "
   ]
  },
  {
   "cell_type": "markdown",
   "id": "e47ab880",
   "metadata": {},
   "source": [
    "**Para linux**\n",
    "\n",
    "https://learn.microsoft.com/es-es/azure/quantum/install-overview-qdk\n",
    "\n",
    "Para Q#"
   ]
  },
  {
   "cell_type": "code",
   "execution_count": null,
   "id": "4deed002",
   "metadata": {},
   "outputs": [],
   "source": [
    "%pip install qsharp azure-quantum"
   ]
  },
  {
   "cell_type": "markdown",
   "id": "927e6405",
   "metadata": {},
   "source": [
    "Para Qiskit"
   ]
  },
  {
   "cell_type": "code",
   "execution_count": null,
   "id": "287bb3f0",
   "metadata": {},
   "outputs": [],
   "source": [
    "%pip install azure-quantum[qiskit]"
   ]
  },
  {
   "cell_type": "markdown",
   "id": "aba77c55",
   "metadata": {},
   "source": [
    "Para Cirq"
   ]
  },
  {
   "cell_type": "code",
   "execution_count": null,
   "id": "81d6bcd8",
   "metadata": {},
   "outputs": [],
   "source": [
    "%pip install azure-quantum[cirq]\n"
   ]
  },
  {
   "cell_type": "markdown",
   "id": "be0641cc",
   "metadata": {},
   "source": [
    "Para ambos"
   ]
  },
  {
   "cell_type": "code",
   "execution_count": null,
   "id": "026d4d2f",
   "metadata": {},
   "outputs": [],
   "source": [
    "%pip install azure-quantum[qiskit,cirq]"
   ]
  },
  {
   "cell_type": "markdown",
   "id": "bdb32396",
   "metadata": {},
   "source": [
    "**Para Vscode**\n",
    "\n",
    "https://marketplace.visualstudio.com/items?itemName=quantum.qsharp-lang-vscode\n",
    "\n",
    "https://github.com/microsoft/qsharp/wiki/Installation\n",
    "\n",
    "Básicamente solo debemos instalar las extensiones para VSCode \"Azure Quantum Development Kit (QDK)\n",
    "\n",
    "<img src=\"./images/AQDK.PNG\"/>"
   ]
  },
  {
   "cell_type": "markdown",
   "id": "ed182b37",
   "metadata": {},
   "source": [
    "# Conexión a Azure Quantum y envío del trabajo\n",
    "\n",
    "Suponemos que ya hemos realizado todos los pasos para usar AzureQPU:\n",
    "\n",
    "    - Crear una cuenta en Azure\n",
    "    - Suscribir un programa gratuito o de pago\n",
    "    - Crear un servicio de Azure Quantum creando previamente un espacio de trabajo. \n",
    "\n",
    "Hecho esto ya solo tendría que establecer la conexión mediante mi identificador de recurso y localización de ejecución. \n",
    "\n",
    "    - MyResourceID\n",
    "    - MyLocation\n",
    "\n",
    "\n",
    "Veamos un ejemplo en python simple, (no qiskit)\n",
    "\n",
    "https://learn.microsoft.com/es-es/azure/quantum/how-to-submit-jobs?tabs=tabid-python&pivots=ide-jupyter"
   ]
  },
  {
   "cell_type": "code",
   "execution_count": null,
   "id": "72d9b26c",
   "metadata": {},
   "outputs": [],
   "source": [
    "%pip install azure-quantum"
   ]
  },
  {
   "cell_type": "code",
   "execution_count": 25,
   "id": "c109b08e",
   "metadata": {},
   "outputs": [],
   "source": [
    "import qsharp # en el caso de que sea un programa en qsharp.\n",
    "import azure.quantum # importamos azure quantum para usar los backends de qiskit o cirq"
   ]
  },
  {
   "cell_type": "code",
   "execution_count": null,
   "id": "d786b2cc",
   "metadata": {},
   "outputs": [],
   "source": [
    "#Configuramos el identificador de recurso y la ubicación del área de trabajo de Azure Quantum\n",
    "MyWorkspace = azure.quantum.Workspace(\n",
    "    resource_id = \"MyResourceID\",\n",
    "    location = \"MyLocation\"\n",
    ")"
   ]
  },
  {
   "cell_type": "code",
   "execution_count": null,
   "id": "91ff8b35",
   "metadata": {},
   "outputs": [],
   "source": [
    "#Usamos el método get_targets para ver los computadores disponibles en el área de trabajo:\n",
    "MyTargets = MyWorkspace.get_targets()\n",
    "print(\"This workspace's targets:\")\n",
    "MyTargets"
   ]
  },
  {
   "cell_type": "code",
   "execution_count": null,
   "id": "79ba263c",
   "metadata": {},
   "outputs": [],
   "source": [
    "# Seleccionamos uno disponible, por ejemplo :rigetti.sim.qvmtarget\n",
    "MyTarget = MyWorkspace.get_targets(\"rigetti.sim.qvm\")"
   ]
  },
  {
   "cell_type": "code",
   "execution_count": null,
   "id": "4ccf1040",
   "metadata": {},
   "outputs": [],
   "source": [
    "#Por último, usamos el método submit para enviar el programa con sus parámetros y mostrar los resultados.\n",
    "# MyQuantumJob es el nombre que le damos al trabajo que estará codificado previamente y que es el programa\n",
    "# que queremos ejecutar en el backend seleccionado.\n",
    "job = MyTarget.submit(MyProgram, \"MyQuantumJob\", shots=100)\n",
    "job.get_results()"
   ]
  },
  {
   "cell_type": "code",
   "execution_count": null,
   "id": "0699103f",
   "metadata": {},
   "outputs": [],
   "source": [
    "# Todas las propiedades del trabajo son accesibles en job.details, por ejemplo:\n",
    "print(job.details)\n",
    "print(\"\\nJob name:\", job.details.name)\n",
    "print(\"Job status:\", job.details.status)\n",
    "print(\"Job ID:\", job.details.id)"
   ]
  },
  {
   "cell_type": "code",
   "execution_count": null,
   "id": "339ed24e",
   "metadata": {},
   "outputs": [],
   "source": [
    "# Para obtener los datos del histograma\n",
    "print(job.get_results_histogram()) "
   ]
  },
  {
   "cell_type": "markdown",
   "id": "8af657e0",
   "metadata": {},
   "source": [
    "Un ejemplo de un programa codificado y enviado:\n",
    "\n"
   ]
  },
  {
   "cell_type": "code",
   "execution_count": null,
   "id": "d4c6dc9e",
   "metadata": {},
   "outputs": [],
   "source": [
    "\n",
    "%pip install azure-quantum[qiskit]\n",
    "\n",
    "from qiskit import QuantumCircuit\n",
    "\n",
    "from qiskit_azure_quantum import AzureQuantumProvider\n",
    "\n",
    "#--- 1. Definir el circuito Bell ---\n",
    "\n",
    "BellJob = QuantumCircuit(2, 2, name=\"BellJob\")\n",
    "BellJob.h(0)\n",
    "BellJob.cx(0, 1)\n",
    "BellJob.measure([0,1], [0,1])\n",
    "\n",
    "# --- 2. Conectarse al workspace de Azure Quantum ---\n",
    "# Sustituyo estos valores por los de mi workspace\n",
    "\n",
    "provider = AzureQuantumProvider(\n",
    "    resource_id=\"RESOURCE_ID_DE_TU_WORKSPACE\",\n",
    "    location=\"LOCATION_DE_TU_WORKSPACE\"  # Ej: \"westeurope\" o \"eastus\"\n",
    ")\n",
    "\n",
    "#--- 3. Elegir un backend ---\n",
    "# Ejemplo con simulador (puede ser \"microsoft.estimator\" o hardware de un partner como IonQ, Quantinuum, Rigetti...)\n",
    "\n",
    "backend = provider.get_backend(\"ionq.simulator\")\n",
    "\n",
    "# --- 4. Ejecutar el job ---\n",
    "\n",
    "job = backend.run(BellJob, shots=1000)\n",
    "\n",
    "#--- 5. Esperar resultados ---\n",
    "\n",
    "result = job.result()\n",
    "print(\"Resultados de BellJob:\", result.get_counts())"
   ]
  },
  {
   "cell_type": "markdown",
   "id": "136a0320",
   "metadata": {},
   "source": [
    "### CREACIÓN DE CUENTA Y WORKSPACE EN AZURE QUANTUM   \n",
    "\n",
    " **TODAVÍA NO HA SIDO POSIBLE CONFIGURAR UNA SUSCRIPCIÓN PARA UTILIZAR EL COMPUTADOR AZURE QUANTUM**\n",
    "\n",
    "**aquí solo la conexión con qsharp, en el fichero qiskitAzureQuantum.ipynb ponemos las llamadas  desde qiskit**\n",
    "\n",
    "Ahora que tenemos el programa compilado en el formato correcto, creamos un  **objeto azure.quantum.Workspace**  para conectar con Azure Quantum. \n",
    "\n",
    "Usaremos el identificador de recurso del área de trabajo de Azure Quantum para conectarnos. El identificador de recurso y la ubicación se pueden copiar de la página de información general del área de trabajo en Azure Portal una vez que hayamos creado la cuenta. \n",
    "\n",
    "Necesitamos importar azure.quantum para conectar con el área de trabajo de Azure Quantum\n",
    "\n",
    "import azure.quantum\n",
    "\n",
    "Para ello debo crear una cuenta "
   ]
  },
  {
   "cell_type": "markdown",
   "id": "ad217d07",
   "metadata": {},
   "source": [
    "### Ejecutar programa (Q#, python, Qiskit) en Azure Quantum Computer\n",
    "\n",
    "Aquí irá la creación de la cuenta si no la tengo y si la tengo generar el workspace"
   ]
  },
  {
   "cell_type": "markdown",
   "id": "964048e3",
   "metadata": {},
   "source": [
    "### Trabajar con Q# y jupyter notebook Azure Quantum\n",
    "\n",
    "Permite ejecutar un programa en Q# en el notebook de Azure\n",
    "\n",
    "https://learn.microsoft.com/es-es/azure/quantum/get-started-jupyter-notebook"
   ]
  }
 ],
 "metadata": {
  "kernelspec": {
   "display_name": "CondaCodingQsharpAzureQuantumEnvironment",
   "language": "python",
   "name": "python3"
  },
  "language_info": {
   "codemirror_mode": {
    "name": "ipython",
    "version": 3
   },
   "file_extension": ".py",
   "mimetype": "text/x-python",
   "name": "python",
   "nbconvert_exporter": "python",
   "pygments_lexer": "ipython3",
   "version": "3.13.7"
  }
 },
 "nbformat": 4,
 "nbformat_minor": 5
}
