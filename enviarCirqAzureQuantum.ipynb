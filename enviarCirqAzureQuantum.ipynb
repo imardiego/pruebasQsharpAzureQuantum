{
 "cells": [
  {
   "cell_type": "markdown",
   "id": "920b436a",
   "metadata": {},
   "source": [
    "# Conexión a Azure Quantum y envío del trabajo\n",
    "\n",
    "Suponemos que ya hemos realizado todos los pasos para usar AzureQPU:\n",
    "\n",
    "    - Crear una cuenta en Azure\n",
    "    - Suscribir un programa gratuito o de pago\n",
    "    - Crear un servicio de Azure Quantum creando previamente un espacio de trabajo. \n",
    "\n",
    "Hecho esto ya solo tendría que establecer la conexión mediante mi identificador de recurso y localización de ejecución. \n",
    "\n",
    "    - MyResourceID\n",
    "    - MyLocation\n",
    "\n",
    "\n",
    "**Nota:** En el documento CREACIÓN DE CUENTA AZURE QUANTUM se explica cómo crear un área de trabajo:\n",
    "\n",
    "https://mega.nz/file/MiMlCKJA#l1VMMoEwtq3UHLlgiCJiu4nSMEgS31V_cw0zY2tJobQ"
   ]
  },
  {
   "cell_type": "markdown",
   "id": "bc2bc203",
   "metadata": {},
   "source": [
    "## Instalación del Azure Quantum Developer Kit \n",
    "\n",
    "\n",
    "Podemos instalar el QDK de Azure Quantum en Python para Q#, Qiskit, Cirq:\n",
    "\n",
    "https://learn.microsoft.com/es-es/azure/quantum/install-overview-qdk\n",
    "\n",
    "Para Cirq:\n",
    "\n",
    "%pip install qsharp azure-quantum[cirq]    "
   ]
  },
  {
   "cell_type": "markdown",
   "id": "6cf43ec1",
   "metadata": {},
   "source": [
    "## Envío de un programa Cirq a Azure Quantum\n",
    "\n",
    "https://learn.microsoft.com/es-es/azure/quantum/quickstart-microsoft-cirq?tabs=tabid-ionq&pivots=platform-local"
   ]
  },
  {
   "cell_type": "code",
   "execution_count": null,
   "id": "ecb3c5e2",
   "metadata": {},
   "outputs": [],
   "source": [
    "%pip install qsharp azure-quantum[cirq]"
   ]
  },
  {
   "cell_type": "code",
   "execution_count": 2,
   "id": "0c9a91c9",
   "metadata": {},
   "outputs": [],
   "source": [
    "import azure.quantum\n",
    "from azure.quantum.cirq import AzureQuantumService"
   ]
  },
  {
   "cell_type": "code",
   "execution_count": 6,
   "id": "c190fb66",
   "metadata": {},
   "outputs": [],
   "source": [
    "workspace = azure.quantum.Workspace(\n",
    "    resource_id = \"/subscriptions/0f4027d3-276d-4941-ad53-a9244c367728/resourceGroups/imardiegoAzureQuantumResourcesGroup/providers/Microsoft.Quantum/Workspaces/imardiegoAzureQuantumWorkArea\",\n",
    "    location = \"westeurope\"\n",
    ")"
   ]
  },
  {
   "cell_type": "code",
   "execution_count": 10,
   "id": "77f66024",
   "metadata": {},
   "outputs": [
    {
     "name": "stdout",
     "output_type": "stream",
     "text": [
      "This workspace's targets:\n"
     ]
    },
    {
     "data": {
      "text/plain": [
       "[<Target name=\"quantinuum.sim.h1-1sc\", avg. queue time=8 s, TargetAvailability.AVAILABLE>,\n",
       " <Target name=\"quantinuum.sim.h1-1e\", avg. queue time=18 s, TargetAvailability.AVAILABLE>,\n",
       " <Target name=\"rigetti.sim.qvm\", avg. queue time=5 s, TargetAvailability.AVAILABLE>]"
      ]
     },
     "execution_count": 10,
     "metadata": {},
     "output_type": "execute_result"
    }
   ],
   "source": [
    "targets = workspace.get_targets()\n",
    "print(\"This workspace's targets:\")\n",
    "targets"
   ]
  },
  {
   "cell_type": "code",
   "execution_count": 11,
   "id": "74e7e09d",
   "metadata": {},
   "outputs": [
    {
     "name": "stdout",
     "output_type": "stream",
     "text": [
      "0: ───X^0.5───@───M('b')───\n",
      "              │   │\n",
      "1: ───────────X───M────────\n"
     ]
    }
   ],
   "source": [
    "import cirq\n",
    "\n",
    "q0, q1 = cirq.LineQubit.range(2)\n",
    "circuit = cirq.Circuit(\n",
    "    cirq.X(q0)**0.5,             # Square root of X\n",
    "    cirq.CX(q0, q1),              # CNOT\n",
    "    cirq.measure(q0, q1, key='b') # Measure both qubits\n",
    ")\n",
    "print(circuit)"
   ]
  },
  {
   "cell_type": "code",
   "execution_count": null,
   "id": "719039d9",
   "metadata": {},
   "outputs": [
    {
     "ename": "NameError",
     "evalue": "name 'service' is not defined",
     "output_type": "error",
     "traceback": [
      "\u001b[31m---------------------------------------------------------------------------\u001b[39m",
      "\u001b[31mNameError\u001b[39m                                 Traceback (most recent call last)",
      "\u001b[36mCell\u001b[39m\u001b[36m \u001b[39m\u001b[32mIn[11]\u001b[39m\u001b[32m, line 1\u001b[39m\n\u001b[32m----> \u001b[39m\u001b[32m1\u001b[39m result = \u001b[43mservice\u001b[49m.run(program=circuit, repetitions=\u001b[32m100\u001b[39m, target=\u001b[33m\"\u001b[39m\u001b[33mionq.simulator\u001b[39m\u001b[33m\"\u001b[39m)\n",
      "\u001b[31mNameError\u001b[39m: name 'service' is not defined"
     ]
    }
   ],
   "source": [
    "result = service.run(program=circuit, repetitions=100, target=targets[2].name)"
   ]
  },
  {
   "cell_type": "code",
   "execution_count": null,
   "id": "c0befc0b",
   "metadata": {},
   "outputs": [],
   "source": [
    "result = service.run(\n",
    "    program=circuit,\n",
    "    repetitions=100,\n",
    "    target=\"ionq.qpu.aria-1\",\n",
    "    timeout_seconds=500 # Set timeout to accommodate queue time on QPU\n",
    ")"
   ]
  },
  {
   "cell_type": "code",
   "execution_count": null,
   "id": "97956bbc",
   "metadata": {},
   "outputs": [],
   "source": [
    "print(result)"
   ]
  },
  {
   "cell_type": "markdown",
   "id": "f3094898",
   "metadata": {},
   "source": [
    "Otra versión"
   ]
  },
  {
   "cell_type": "code",
   "execution_count": 12,
   "id": "aa80280a",
   "metadata": {},
   "outputs": [
    {
     "ename": "ModuleNotFoundError",
     "evalue": "No module named 'qiskit'",
     "output_type": "error",
     "traceback": [
      "\u001b[31m---------------------------------------------------------------------------\u001b[39m",
      "\u001b[31mModuleNotFoundError\u001b[39m                       Traceback (most recent call last)",
      "\u001b[36mCell\u001b[39m\u001b[36m \u001b[39m\u001b[32mIn[12]\u001b[39m\u001b[32m, line 2\u001b[39m\n\u001b[32m      1\u001b[39m \u001b[38;5;28;01mimport\u001b[39;00m\u001b[38;5;250m \u001b[39m\u001b[34;01mcirq\u001b[39;00m\n\u001b[32m----> \u001b[39m\u001b[32m2\u001b[39m \u001b[38;5;28;01mfrom\u001b[39;00m\u001b[38;5;250m \u001b[39m\u001b[34;01mqiskit\u001b[39;00m\u001b[38;5;250m \u001b[39m\u001b[38;5;28;01mimport\u001b[39;00m QuantumCircuit, transpile\n\u001b[32m      3\u001b[39m \u001b[38;5;28;01mfrom\u001b[39;00m\u001b[38;5;250m \u001b[39m\u001b[34;01mazure\u001b[39;00m\u001b[34;01m.\u001b[39;00m\u001b[34;01mquantum\u001b[39;00m\u001b[34;01m.\u001b[39;00m\u001b[34;01mqiskit\u001b[39;00m\u001b[38;5;250m \u001b[39m\u001b[38;5;28;01mimport\u001b[39;00m AzureQuantumProvider\n\u001b[32m      5\u001b[39m \u001b[38;5;66;03m# --- 1. Circuito en Cirq ---\u001b[39;00m\n",
      "\u001b[31mModuleNotFoundError\u001b[39m: No module named 'qiskit'"
     ]
    }
   ],
   "source": [
    "import cirq\n",
    "from qiskit import QuantumCircuit, transpile\n",
    "from azure.quantum.qiskit import AzureQuantumProvider\n",
    "\n",
    "# --- 1. Circuito en Cirq ---\n",
    "q0, q1 = cirq.LineQubit.range(2)\n",
    "circuit = cirq.Circuit(\n",
    "    cirq.X(q0)**0.5,             # √X\n",
    "    cirq.CX(q0, q1),             # CNOT\n",
    "    cirq.measure(q0, q1, key='b')\n",
    ")\n",
    "\n",
    "# --- 2. Exportar a QASM ---\n",
    "qasm_str = cirq.qasm(circuit)\n",
    "\n",
    "# --- 3. Importar en Qiskit ---\n",
    "qc = QuantumCircuit.from_qasm_str(qasm_str)\n",
    "\n",
    "print(\"Circuito en Qiskit:\")\n",
    "print(qc)\n",
    "\n",
    "# --- 4. Conectarse a Azure Quantum ---\n",
    "# Sustituye estos valores por los de tu workspace\n",
    "resource_id = \"<TU_RESOURCE_ID>\"\n",
    "location = \"<TU_LOCATION>\"\n",
    "\n",
    "provider = AzureQuantumProvider(resource_id=resource_id, location=location)\n",
    "\n",
    "# Ver lista de backends disponibles\n",
    "for backend in provider.backends():\n",
    "    print(backend.name())\n",
    "\n",
    "# --- 5. Elegir backend (QPU) ---\n",
    "backend = provider.get_backend(\"rigetti.qpu.aspen-m-3\")  # Ejemplo\n",
    "\n",
    "# --- 6. Transpilar y enviar trabajo ---\n",
    "compiled = transpile(qc, backend)\n",
    "job = backend.run(compiled, shots=100)  # shots = número de ejecuciones\n",
    "\n",
    "# --- 7. Obtener resultados ---\n",
    "result = job.result()\n",
    "print(\"Resultados:\")\n",
    "print(result.get_counts())\n"
   ]
  },
  {
   "cell_type": "code",
   "execution_count": null,
   "id": "8a0f34ba",
   "metadata": {},
   "outputs": [],
   "source": [
    "# Primero instala los paquetes necesarios si no los tienes:\n",
    "# pip install azure-quantum[cirq]\n",
    "\n",
    "import cirq\n",
    "from azure.quantum.cirq import AzureQuantumService\n",
    "\n",
    "# --- 1. Define tus qubits y circuito en Cirq ---\n",
    "q0, q1 = cirq.LineQubit.range(2)\n",
    "circuit = cirq.Circuit(\n",
    "    cirq.X(q0)**0.5,             # √X gate\n",
    "    cirq.CX(q0, q1),             # CNOT\n",
    "    cirq.measure(q0, q1, key='b') # Medición de ambos qubits\n",
    ")\n",
    "\n",
    "print(\"Circuito local:\")\n",
    "print(circuit)\n",
    "\n",
    "# --- 2. Configura el servicio de Azure Quantum ---\n",
    "resource_id = \"<TU_RESOURCE_ID>\"  # p.ej \"/subscriptions/.../resourceGroups/.../providers/Microsoft.Quantum/Workspaces/...\"\n",
    "location = \"<TU_LOCATION>\"         # p.ej \"eastus\", \"westus\", \"westeurope\", etc.\n",
    "\n",
    "service = AzureQuantumService(resource_id=resource_id, location=location, default_target=\"<NOMBRE_DEL_TARGET>\")\n",
    "\n",
    "# Puedes ver los targets disponibles con:\n",
    "print(\"Targets disponibles:\")\n",
    "targets = service.targets()\n",
    "for t in targets:\n",
    "    print(f\"  {t.name}, estado: {t.availability}\")\n",
    "\n",
    "# --- 3. Enviar el circuito para ejecutarlo ---\n",
    "# Repeticiones (shots) o repeticiones según el target\n",
    "reps = 100  \n",
    "\n",
    "# target real; debe ser uno de los que el workspace provee, p.ej \"ionq.qpu\", \"honeywell.hqs-lt-s1-apival\", etc.\n",
    "\n",
    "job = service.run(program=circuit, repetitions=reps, target=\"<NOMBRE_DEL_TARGET>\")\n",
    "\n",
    "# --- 4. Esperar al completado y obtener resultados ---\n",
    "# Nota: puede tomar un tiempo dependiendo del QPU, cola, etc.\n",
    "result = job.results()\n",
    "\n",
    "print(\"Resultado del job:\")\n",
    "print(result)  # verás algo como resultado de las mediciones\n",
    "print(\"Cadena de bits medidos 'b':\")\n",
    "print(result.measurements['b'])\n"
   ]
  },
  {
   "cell_type": "markdown",
   "id": "8edcd831",
   "metadata": {},
   "source": [
    "### Envío de programa Cirq a través del simulador\n",
    "\n",
    "https://learn.microsoft.com/es-es/azure/quantum/quickstart-microsoft-cirq?tabs=tabid-ionq&pivots=platform-simulator\n",
    "\n",
    "**Hacerlo!!!!**"
   ]
  }
 ],
 "metadata": {
  "kernelspec": {
   "display_name": "CondaCodingQsharpAzureQuantumEnvironment",
   "language": "python",
   "name": "python3"
  },
  "language_info": {
   "codemirror_mode": {
    "name": "ipython",
    "version": 3
   },
   "file_extension": ".py",
   "mimetype": "text/x-python",
   "name": "python",
   "nbconvert_exporter": "python",
   "pygments_lexer": "ipython3",
   "version": "3.13.7"
  }
 },
 "nbformat": 4,
 "nbformat_minor": 5
}
