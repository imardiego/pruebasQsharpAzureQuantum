{
 "cells": [
  {
   "cell_type": "markdown",
   "id": "920b436a",
   "metadata": {},
   "source": [
    "# Conexión a Azure Quantum y envío del trabajo\n",
    "\n",
    "Suponemos que ya hemos realizado todos los pasos para usar AzureQPU:\n",
    "\n",
    "    - Crear una cuenta en Azure\n",
    "    - Suscribir un programa gratuito o de pago\n",
    "    - Crear un servicio de Azure Quantum creando previamente un espacio de trabajo. \n",
    "\n",
    "Hecho esto ya solo tendría que establecer la conexión mediante mi identificador de recurso y localización de ejecución. \n",
    "\n",
    "    - MyResourceID\n",
    "    - MyLocation\n",
    "\n",
    "\n",
    "**Nota:** En el documento CREACIÓN DE CUENTA AZURE QUANTUM se explica cómo crear un área de trabajo:\n",
    "\n",
    "https://mega.nz/file/MiMlCKJA#l1VMMoEwtq3UHLlgiCJiu4nSMEgS31V_cw0zY2tJobQ"
   ]
  },
  {
   "cell_type": "markdown",
   "id": "bc2bc203",
   "metadata": {},
   "source": [
    "## Instalación del Azure Quantum Developer Kit \n",
    "\n",
    "\n",
    "Podemos instalar el QDK de Azure Quantum en Python para Q#, Qiskit, Cirq:\n",
    "\n",
    "https://learn.microsoft.com/es-es/azure/quantum/install-overview-qdk\n",
    "\n",
    "Para Cirq:\n",
    "\n",
    "%pip install qsharp azure-quantum[cirq]    "
   ]
  },
  {
   "cell_type": "markdown",
   "id": "6cf43ec1",
   "metadata": {},
   "source": [
    "## Envío de un programa Cirq a Azure Quantum\n",
    "\n",
    "https://learn.microsoft.com/es-es/azure/quantum/quickstart-microsoft-cirq?tabs=tabid-ionq&pivots=platform-local"
   ]
  },
  {
   "cell_type": "code",
   "execution_count": null,
   "id": "ecb3c5e2",
   "metadata": {},
   "outputs": [],
   "source": [
    "%pip install --upgrade azure-quantum[cirq]"
   ]
  },
  {
   "cell_type": "code",
   "execution_count": 1,
   "id": "36585ed2",
   "metadata": {},
   "outputs": [],
   "source": [
    "import cirq\n",
    "from azure.quantum import Workspace\n",
    "from azure.quantum.cirq import AzureQuantumService"
   ]
  },
  {
   "cell_type": "code",
   "execution_count": 2,
   "id": "c190fb66",
   "metadata": {},
   "outputs": [],
   "source": [
    "workspace = Workspace(\n",
    "    resource_id = \"/subscriptions/0f4027d3-276d-4941-ad53-a9244c367728/resourceGroups/imardiegoAzureQuantumResourcesGroup/providers/Microsoft.Quantum/Workspaces/imardiegoAzureQuantumWorkArea\",\n",
    "    location = \"westeurope\"\n",
    ")\n",
    "service = AzureQuantumService(workspace)"
   ]
  },
  {
   "cell_type": "code",
   "execution_count": 3,
   "id": "b3146660",
   "metadata": {},
   "outputs": [
    {
     "name": "stdout",
     "output_type": "stream",
     "text": [
      "0: ───H───@───M('resultados')───\n",
      "          │   │\n",
      "1: ───────X───M─────────────────\n"
     ]
    }
   ],
   "source": [
    "# Defino el circuito con dos qubits. LineQubit representa una línea de qubit. Se indican dos líneas mediante range\n",
    "q0, q1 = cirq.LineQubit.range(2)\n",
    "# Con el método Circuit() defino el circuito con dos puertas H y una CNOT entre los qubits\n",
    "# La puerta measure permite medir los resultados.\n",
    "circuit = cirq.Circuit(\n",
    "    cirq.H(q0),\n",
    "    cirq.CNOT(q0, q1),\n",
    "    cirq.measure(q0, q1, key='resultados')\n",
    ")\n",
    "print(circuit)"
   ]
  },
  {
   "cell_type": "code",
   "execution_count": 4,
   "id": "16041d57",
   "metadata": {},
   "outputs": [
    {
     "name": "stdout",
     "output_type": "stream",
     "text": [
      "Targets disponibles en tu área de trabajo:\n"
     ]
    },
    {
     "name": "stderr",
     "output_type": "stream",
     "text": [
      "gio: https://login.microsoftonline.com/235bdb0d-7ee9-4049-ae95-0f2fb6253595/oauth2/v2.0/authorize?client_id=04b07795-8ddb-461a-bbee-02f9e1bf7b46&response_type=code&redirect_uri=http%3A%2F%2Flocalhost%3A8400&scope=https%3A%2F%2Fquantum.microsoft.com%2F.default+offline_access+openid+profile&state=IgvwQeGylOMDmjas&code_challenge=qrzRe83C3qgSuYIoX9k1nYgkBQ4LgqMKQMlG7JRcDm4&code_challenge_method=S256&nonce=44a9a06017fb4743f96d4fced6578adf862136d3ab68e153fcf12e649a706ef8&client_info=1&prompt=select_account: Operation not supported\n"
     ]
    },
    {
     "name": "stdout",
     "output_type": "stream",
     "text": [
      "<Target name=\"quantinuum.sim.h1-1sc\", avg. queue time=9 s, TargetAvailability.AVAILABLE>\n",
      "<Target name=\"quantinuum.sim.h1-1e\", avg. queue time=0 s, TargetAvailability.AVAILABLE>\n"
     ]
    }
   ],
   "source": [
    "print(\"Targets disponibles en tu área de trabajo:\")\n",
    "for target in service.targets():\n",
    "    print(target)\n",
    "    \n",
    "# debo hacer clic en la url y validarme en azure quantum"
   ]
  },
  {
   "cell_type": "code",
   "execution_count": 5,
   "id": "5dbad05f",
   "metadata": {},
   "outputs": [
    {
     "name": "stderr",
     "output_type": "stream",
     "text": [
      "gio: https://login.microsoftonline.com/235bdb0d-7ee9-4049-ae95-0f2fb6253595/oauth2/v2.0/authorize?client_id=04b07795-8ddb-461a-bbee-02f9e1bf7b46&response_type=code&redirect_uri=http%3A%2F%2Flocalhost%3A8400&scope=https%3A%2F%2Fquantum.microsoft.com%2F.default+offline_access+openid+profile&state=AjYQICeDbGgBrsUF&code_challenge=RAYYUdjqkPrruPO_yC-pzMQo4TCCO3lNXnNP2lfHGPU&code_challenge_method=S256&nonce=df1f79a33ec6651a6a57ac80213c27e35155cfa039563244392e8442887274f9&client_info=1&prompt=select_account: Operation not supported\n"
     ]
    },
    {
     "name": "stdout",
     "output_type": "stream",
     "text": [
      "........"
     ]
    }
   ],
   "source": [
    "# Enviar y ejecutar\n",
    "result = service.run(\n",
    "    program=circuit,\n",
    "    repetitions=10,\n",
    "    target=\"quantinuum.sim.h1-1sc\",\n",
    "    name=\"MiPrimerJobCirq\"\n",
    ")\n",
    "\n",
    "# Debo hacer clic en la url y validar en azure quantum"
   ]
  },
  {
   "cell_type": "code",
   "execution_count": 6,
   "id": "7ec598e7",
   "metadata": {},
   "outputs": [
    {
     "name": "stdout",
     "output_type": "stream",
     "text": [
      "[[0]\n",
      " [0]\n",
      " [0]\n",
      " [0]\n",
      " [0]\n",
      " [0]\n",
      " [0]\n",
      " [0]\n",
      " [0]\n",
      " [0]]\n"
     ]
    }
   ],
   "source": [
    "# Accede a las mediciones por la clave definida en el circuito\n",
    "measurements = result.measurements['resultados']\n",
    "\n",
    "# Ejemplo: mostrar las 5 primeras mediciones\n",
    "print(measurements[:15])"
   ]
  },
  {
   "cell_type": "code",
   "execution_count": 7,
   "id": "1df19711",
   "metadata": {},
   "outputs": [
    {
     "name": "stdout",
     "output_type": "stream",
     "text": [
      "[0]: 10\n"
     ]
    }
   ],
   "source": [
    "import numpy as np\n",
    "unique, counts = np.unique(measurements, axis=0, return_counts=True)\n",
    "for u, c in zip(unique, counts):\n",
    "    print(f\"{u}: {c}\")"
   ]
  },
  {
   "cell_type": "markdown",
   "id": "6bbebfc3",
   "metadata": {},
   "source": [
    "# Comprobación de ejecución en Azure Quantum\n",
    "\n",
    "Accedo a mi recurso de espacio de trabajo en Azure Quantum\n",
    "\n",
    "Dentro de operaciones accedo a Administración de trabajos y puedo ver mis trabajos enviados.\n",
    "\n",
    "<img src=\"./images/trabajosEjecutados.PNG\" />"
   ]
  },
  {
   "cell_type": "markdown",
   "id": "8edcd831",
   "metadata": {},
   "source": [
    "### Envío de programa Cirq a través del simulador\n",
    "\n",
    "https://learn.microsoft.com/es-es/azure/quantum/quickstart-microsoft-cirq?tabs=tabid-ionq&pivots=platform-simulator\n",
    "\n",
    "**Hacerlo!!!!**"
   ]
  }
 ],
 "metadata": {
  "kernelspec": {
   "display_name": "CondaCodingQsharpAzureQuantumEnvironment",
   "language": "python",
   "name": "python3"
  },
  "language_info": {
   "codemirror_mode": {
    "name": "ipython",
    "version": 3
   },
   "file_extension": ".py",
   "mimetype": "text/x-python",
   "name": "python",
   "nbconvert_exporter": "python",
   "pygments_lexer": "ipython3",
   "version": "3.13.7"
  }
 },
 "nbformat": 4,
 "nbformat_minor": 5
}
