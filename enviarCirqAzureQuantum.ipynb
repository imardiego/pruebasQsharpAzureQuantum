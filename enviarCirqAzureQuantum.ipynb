{
 "cells": [
  {
   "cell_type": "markdown",
   "id": "920b436a",
   "metadata": {},
   "source": [
    "# Conexión a Azure Quantum y envío del trabajo\n",
    "\n",
    "Suponemos que ya hemos realizado todos los pasos para usar AzureQPU:\n",
    "\n",
    "    - Crear una cuenta en Azure\n",
    "    - Suscribir un programa gratuito o de pago\n",
    "    - Crear un servicio de Azure Quantum creando previamente un espacio de trabajo. \n",
    "\n",
    "Hecho esto ya solo tendría que establecer la conexión mediante mi identificador de recurso y localización de ejecución. \n",
    "\n",
    "    - MyResourceID\n",
    "    - MyLocation\n",
    "\n",
    "\n",
    "**Nota:** En el documento CREACIÓN DE CUENTA AZURE QUANTUM se explica cómo crear un área de trabajo:\n",
    "\n",
    "https://mega.nz/file/MiMlCKJA#l1VMMoEwtq3UHLlgiCJiu4nSMEgS31V_cw0zY2tJobQ"
   ]
  },
  {
   "cell_type": "markdown",
   "id": "bc2bc203",
   "metadata": {},
   "source": [
    "## Instalación del Azure Quantum Developer Kit \n",
    "\n",
    "\n",
    "Podemos instalar el QDK de Azure Quantum en Python para Q#, Qiskit, Cirq:\n",
    "\n",
    "https://learn.microsoft.com/es-es/azure/quantum/install-overview-qdk\n",
    "\n",
    "Para Cirq:\n",
    "\n",
    "%pip install qsharp azure-quantum[cirq]    "
   ]
  },
  {
   "cell_type": "markdown",
   "id": "6cf43ec1",
   "metadata": {},
   "source": [
    "## Envío de un programa Cirq a Azure Quantum\n",
    "\n",
    "https://learn.microsoft.com/es-es/azure/quantum/quickstart-microsoft-cirq?tabs=tabid-ionq&pivots=platform-local"
   ]
  },
  {
   "cell_type": "code",
   "execution_count": 7,
   "id": "0c9a91c9",
   "metadata": {},
   "outputs": [],
   "source": [
    "import azure.quantum\n",
    "from azure.quantum.cirq import AzureQuantumService"
   ]
  },
  {
   "cell_type": "code",
   "execution_count": 9,
   "id": "6833b902",
   "metadata": {},
   "outputs": [
    {
     "ename": "NameError",
     "evalue": "name 'workspace' is not defined",
     "output_type": "error",
     "traceback": [
      "\u001b[31m---------------------------------------------------------------------------\u001b[39m",
      "\u001b[31mNameError\u001b[39m                                 Traceback (most recent call last)",
      "\u001b[36mCell\u001b[39m\u001b[36m \u001b[39m\u001b[32mIn[9]\u001b[39m\u001b[32m, line 3\u001b[39m\n\u001b[32m      1\u001b[39m \u001b[38;5;66;03m# Make sure Workspace is already defined (see cell 11)\u001b[39;00m\n\u001b[32m      2\u001b[39m service = AzureQuantumService(\n\u001b[32m----> \u001b[39m\u001b[32m3\u001b[39m \tresource_id=\u001b[43mworkspace\u001b[49m.resource_id,\n\u001b[32m      4\u001b[39m \tlocation=workspace.location\n\u001b[32m      5\u001b[39m )\n\u001b[32m      6\u001b[39m \u001b[38;5;28mprint\u001b[39m(service.targets())\n",
      "\u001b[31mNameError\u001b[39m: name 'workspace' is not defined"
     ]
    }
   ],
   "source": [
    "# Make sure Workspace is already defined (see cell 11)\n",
    "service = AzureQuantumService(\n",
    "\tresource_id=workspace.resource_id,\n",
    "\tlocation=workspace.location\n",
    ")\n",
    "print(service.targets())"
   ]
  },
  {
   "cell_type": "code",
   "execution_count": 10,
   "id": "74e7e09d",
   "metadata": {},
   "outputs": [
    {
     "name": "stdout",
     "output_type": "stream",
     "text": [
      "0: ───X^0.5───@───M('b')───\n",
      "              │   │\n",
      "1: ───────────X───M────────\n"
     ]
    }
   ],
   "source": [
    "import cirq\n",
    "\n",
    "q0, q1 = cirq.LineQubit.range(2)\n",
    "circuit = cirq.Circuit(\n",
    "    cirq.X(q0)**0.5,             # Square root of X\n",
    "    cirq.CX(q0, q1),              # CNOT\n",
    "    cirq.measure(q0, q1, key='b') # Measure both qubits\n",
    ")\n",
    "print(circuit)"
   ]
  },
  {
   "cell_type": "code",
   "execution_count": 11,
   "id": "719039d9",
   "metadata": {},
   "outputs": [
    {
     "ename": "NameError",
     "evalue": "name 'service' is not defined",
     "output_type": "error",
     "traceback": [
      "\u001b[31m---------------------------------------------------------------------------\u001b[39m",
      "\u001b[31mNameError\u001b[39m                                 Traceback (most recent call last)",
      "\u001b[36mCell\u001b[39m\u001b[36m \u001b[39m\u001b[32mIn[11]\u001b[39m\u001b[32m, line 1\u001b[39m\n\u001b[32m----> \u001b[39m\u001b[32m1\u001b[39m result = \u001b[43mservice\u001b[49m.run(program=circuit, repetitions=\u001b[32m100\u001b[39m, target=\u001b[33m\"\u001b[39m\u001b[33mionq.simulator\u001b[39m\u001b[33m\"\u001b[39m)\n",
      "\u001b[31mNameError\u001b[39m: name 'service' is not defined"
     ]
    }
   ],
   "source": [
    "result = service.run(program=circuit, repetitions=100, target=\"ionq.simulator\")"
   ]
  },
  {
   "cell_type": "code",
   "execution_count": null,
   "id": "c0befc0b",
   "metadata": {},
   "outputs": [],
   "source": [
    "result = service.run(\n",
    "    program=circuit,\n",
    "    repetitions=100,\n",
    "    target=\"ionq.qpu.aria-1\",\n",
    "    timeout_seconds=500 # Set timeout to accommodate queue time on QPU\n",
    ")"
   ]
  },
  {
   "cell_type": "code",
   "execution_count": null,
   "id": "97956bbc",
   "metadata": {},
   "outputs": [],
   "source": [
    "print(result)"
   ]
  },
  {
   "cell_type": "markdown",
   "id": "8edcd831",
   "metadata": {},
   "source": [
    "### Envío de programa Cirq a través del simulador\n",
    "\n",
    "https://learn.microsoft.com/es-es/azure/quantum/quickstart-microsoft-cirq?tabs=tabid-ionq&pivots=platform-simulator\n",
    "\n",
    "**Hacerlo!!!!**"
   ]
  }
 ],
 "metadata": {
  "kernelspec": {
   "display_name": "CondaCodingAzureQuantumEnvironment",
   "language": "python",
   "name": "python3"
  },
  "language_info": {
   "codemirror_mode": {
    "name": "ipython",
    "version": 3
   },
   "file_extension": ".py",
   "mimetype": "text/x-python",
   "name": "python",
   "nbconvert_exporter": "python",
   "pygments_lexer": "ipython3",
   "version": "3.13.5"
  }
 },
 "nbformat": 4,
 "nbformat_minor": 5
}
