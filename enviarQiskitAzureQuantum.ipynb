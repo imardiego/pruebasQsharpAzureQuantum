{
 "cells": [
  {
   "cell_type": "markdown",
   "id": "0d108249",
   "metadata": {},
   "source": [
    "# Conexión a Azure Quantum y envío del trabajo\n",
    "\n",
    "Suponemos que ya hemos realizado todos los pasos para usar AzureQPU:\n",
    "\n",
    "    - Crear una cuenta en Azure\n",
    "    - Suscribir un programa gratuito o de pago\n",
    "    - Crear un servicio de Azure Quantum creando previamente un espacio de trabajo. \n",
    "\n",
    "Hecho esto ya solo tendría que establecer la conexión mediante mi identificador de recurso y localización de ejecución. \n",
    "\n",
    "    - MyResourceID\n",
    "    - MyLocation\n",
    "\n",
    "\n",
    "**Nota:** En el documento CREACIÓN DE CUENTA AZURE QUANTUM se explica cómo crear un área de trabajo:\n",
    "\n",
    "https://mega.nz/file/MiMlCKJA#l1VMMoEwtq3UHLlgiCJiu4nSMEgS31V_cw0zY2tJobQ"
   ]
  },
  {
   "cell_type": "markdown",
   "id": "0f9bc3a6",
   "metadata": {},
   "source": [
    "## Instalación del Azure Quantum Developer Kit \n",
    "\n",
    "\n",
    "Podemos instalar el QDK de Azure Quantum en Python para Q#, Qiskit, Cirq:\n",
    "\n",
    "https://learn.microsoft.com/es-es/azure/quantum/install-overview-qdk\n",
    "\n",
    "Para Qiskit:\n",
    "\n",
    "%pip install qsharp azure-quantum[qiskit]    "
   ]
  },
  {
   "cell_type": "code",
   "execution_count": null,
   "id": "1c1994bd",
   "metadata": {},
   "outputs": [],
   "source": [
    "%pip install qsharp azure-quantum[qiskit] "
   ]
  },
  {
   "cell_type": "code",
   "execution_count": null,
   "id": "93873b34",
   "metadata": {},
   "outputs": [],
   "source": [
    "%pip install pylatexenc"
   ]
  },
  {
   "cell_type": "markdown",
   "id": "81bfb87c",
   "metadata": {},
   "source": [
    "## Envío de un programa Qiskit a Azure Quantum\n",
    "\n",
    "https://learn.microsoft.com/es-es/azure/quantum/quickstart-microsoft-qiskit?tabs=tabid-ionq&pivots=platform-local"
   ]
  },
  {
   "cell_type": "code",
   "execution_count": 1,
   "id": "b9586a4e",
   "metadata": {},
   "outputs": [
    {
     "data": {
      "application/javascript": "// Copyright (c) Microsoft Corporation.\n// Licensed under the MIT License.\n\n// This file provides CodeMirror syntax highlighting for Q# magic cells\n// in classic Jupyter Notebooks. It does nothing in other (Jupyter Notebook 7,\n// VS Code, Azure Notebooks, etc.) environments.\n\n// Detect the prerequisites and do nothing if they don't exist.\nif (window.require && window.CodeMirror && window.Jupyter) {\n  // The simple mode plugin for CodeMirror is not loaded by default, so require it.\n  window.require([\"codemirror/addon/mode/simple\"], function defineMode() {\n    let rules = [\n      {\n        token: \"comment\",\n        regex: /(\\/\\/).*/,\n        beginWord: false,\n      },\n      {\n        token: \"string\",\n        regex: String.raw`^\\\"(?:[^\\\"\\\\]|\\\\[\\s\\S])*(?:\\\"|$)`,\n        beginWord: false,\n      },\n      {\n        token: \"keyword\",\n        regex: String.raw`(namespace|open|as|operation|function|body|adjoint|newtype|controlled|internal)\\b`,\n        beginWord: true,\n      },\n      {\n        token: \"keyword\",\n        regex: String.raw`(if|elif|else|repeat|until|fixup|for|in|return|fail|within|apply)\\b`,\n        beginWord: true,\n      },\n      {\n        token: \"keyword\",\n        regex: String.raw`(Adjoint|Controlled|Adj|Ctl|is|self|auto|distribute|invert|intrinsic)\\b`,\n        beginWord: true,\n      },\n      {\n        token: \"keyword\",\n        regex: String.raw`(let|set|use|borrow|mutable)\\b`,\n        beginWord: true,\n      },\n      {\n        token: \"operatorKeyword\",\n        regex: String.raw`(not|and|or)\\b|(w/)`,\n        beginWord: true,\n      },\n      {\n        token: \"operatorKeyword\",\n        regex: String.raw`(=)|(!)|(<)|(>)|(\\+)|(-)|(\\*)|(/)|(\\^)|(%)|(\\|)|(&&&)|(~~~)|(\\.\\.\\.)|(\\.\\.)|(\\?)`,\n        beginWord: false,\n      },\n      {\n        token: \"meta\",\n        regex: String.raw`(Int|BigInt|Double|Bool|Qubit|Pauli|Result|Range|String|Unit)\\b`,\n        beginWord: true,\n      },\n      {\n        token: \"atom\",\n        regex: String.raw`(true|false|Pauli(I|X|Y|Z)|One|Zero)\\b`,\n        beginWord: true,\n      },\n    ];\n    let simpleRules = [];\n    for (let rule of rules) {\n      simpleRules.push({\n        token: rule.token,\n        regex: new RegExp(rule.regex, \"g\"),\n        sol: rule.beginWord,\n      });\n      if (rule.beginWord) {\n        // Need an additional rule due to the fact that CodeMirror simple mode doesn't work with ^ token\n        simpleRules.push({\n          token: rule.token,\n          regex: new RegExp(String.raw`\\W` + rule.regex, \"g\"),\n          sol: false,\n        });\n      }\n    }\n\n    // Register the mode defined above with CodeMirror\n    window.CodeMirror.defineSimpleMode(\"qsharp\", { start: simpleRules });\n    window.CodeMirror.defineMIME(\"text/x-qsharp\", \"qsharp\");\n\n    // Tell Jupyter to associate %%qsharp magic cells with the qsharp mode\n    window.Jupyter.CodeCell.options_default.highlight_modes[\"qsharp\"] = {\n      reg: [/^%%qsharp/],\n    };\n\n    // Force re-highlighting of all cells the first time this code runs\n    for (const cell of window.Jupyter.notebook.get_cells()) {\n      cell.auto_highlight();\n    }\n  });\n}\n",
      "text/plain": []
     },
     "metadata": {},
     "output_type": "display_data"
    }
   ],
   "source": [
    "import qiskit\n",
    "import azure.quantum\n",
    "from azure.quantum import Workspace \n",
    "from qiskit import QuantumCircuit, transpile\n",
    "from qiskit.visualization import plot_histogram\n",
    "from azure.quantum.qiskit import AzureQuantumProvider"
   ]
  },
  {
   "cell_type": "code",
   "execution_count": null,
   "id": "cf7860c9",
   "metadata": {},
   "outputs": [],
   "source": [
    "# Genero un objeto workspace con el resource_id y location de mi espacio de trabajo en Azure Quantum\n",
    "workspace = Workspace(  \n",
    "    resource_id = \"/subscriptions/0f4027d3-276d-4941-ad53-a9244c367728/resourceGroups/imardiegoAzureQuantumResourcesGroup/providers/Microsoft.Quantum/Workspaces/imardiegoAzureQuantumWorkArea\",\n",
    "    location = \"westeurope\"\n",
    "    )\n",
    "\n",
    "# Genero un objeto provider en función de los datos de mi workspace\n",
    "provider = AzureQuantumProvider(workspace)"
   ]
  },
  {
   "cell_type": "markdown",
   "id": "a12ccf5e",
   "metadata": {},
   "source": [
    "Codificamos un circuito simple"
   ]
  },
  {
   "cell_type": "code",
   "execution_count": null,
   "id": "4198c65e",
   "metadata": {},
   "outputs": [
    {
     "data": {
      "image/png": "[encoded data removed]",
      "text/plain": [
       "<Figure size 621.941x367.889 with 1 Axes>"
      ]
     },
     "execution_count": 3,
     "metadata": {},
     "output_type": "execute_result"
    }
   ],
   "source": [
    "# Declaro un circuito de tres qubits entrelazados\n",
    "circuit = QuantumCircuit(3, 3)\n",
    "circuit.name = \"Qiskit Sample - 3-qubit GHZ circuit\"\n",
    "circuit.h(0)\n",
    "circuit.cx(0, 1)\n",
    "circuit.cx(1, 2)\n",
    "circuit.measure([0,1,2], [0, 1, 2])\n",
    "\n",
    "# Print out the circuit\n",
    "circuit.draw('mpl')"
   ]
  },
  {
   "cell_type": "code",
   "execution_count": null,
   "id": "a417f740",
   "metadata": {},
   "outputs": [
    {
     "name": "stderr",
     "output_type": "stream",
     "text": [
      "gio: https://login.microsoftonline.com/235bdb0d-7ee9-4049-ae95-0f2fb6253595/oauth2/v2.0/authorize?client_id=04b07795-8ddb-461a-bbee-02f9e1bf7b46&response_type=code&redirect_uri=http%3A%2F%2Flocalhost%3A8400&scope=https%3A%2F%2Fquantum.microsoft.com%2F.default+offline_access+openid+profile&state=SUsZgLqTwlFWtbAB&code_challenge=BtGnqltG0NhNUB9-_5bf23G4XNN9VK670Ym7LLhPF50&code_challenge_method=S256&nonce=dab945597f930310759077d16e611982a5c18a32f82962dfab143f1266f54957&client_info=1&prompt=select_account: Operation not supported\n"
     ]
    },
    {
     "name": "stdout",
     "output_type": "stream",
     "text": [
      "This workspace's targets:\n"
     ]
    },
    {
     "data": {
      "text/plain": [
       "[<Target name=\"quantinuum.sim.h1-1sc\", avg. queue time=9 s, TargetAvailability.AVAILABLE>,\n",
       " <Target name=\"quantinuum.sim.h1-1e\", avg. queue time=0 s, TargetAvailability.AVAILABLE>,\n",
       " <Target name=\"rigetti.sim.qvm\", avg. queue time=5 s, TargetAvailability.AVAILABLE>]"
      ]
     },
     "execution_count": 4,
     "metadata": {},
     "output_type": "execute_result"
    }
   ],
   "source": [
    "# Obtenemos la información de nuestro workspace en cuanto a que QPU están disponibles:\n",
    "MyTargets = workspace.get_targets()\n",
    "print(\"This workspace's targets:\")\n",
    "MyTargets"
   ]
  },
  {
   "cell_type": "code",
   "execution_count": 5,
   "id": "96f1b029",
   "metadata": {},
   "outputs": [
    {
     "data": {
      "text/plain": [
       "'rigetti.sim.qvm'"
      ]
     },
     "execution_count": 5,
     "metadata": {},
     "output_type": "execute_result"
    }
   ],
   "source": [
    "# Selecciono el tercer elemento de la lista de targets: rigetti.sim.qvm\n",
    "MyTarget = MyTargets[2]\n",
    "MyTarget.name"
   ]
  },
  {
   "cell_type": "code",
   "execution_count": null,
   "id": "587402b1",
   "metadata": {},
   "outputs": [
    {
     "name": "stderr",
     "output_type": "stream",
     "text": [
      "gio: https://login.microsoftonline.com/235bdb0d-7ee9-4049-ae95-0f2fb6253595/oauth2/v2.0/authorize?client_id=04b07795-8ddb-461a-bbee-02f9e1bf7b46&response_type=code&redirect_uri=http%3A%2F%2Flocalhost%3A8400&scope=https%3A%2F%2Fquantum.microsoft.com%2F.default+offline_access+openid+profile&state=uOXqWbgmhiFjrNHc&code_challenge=lDIcJ53hH9k5lOUOC_MatNuwvsOtk7CZoyfgU3Grguw&code_challenge_method=S256&nonce=b35493c14641e027a333c57dd9534c0bbc4c5eaa6fc68e5797bf10faa6010236&client_info=1&prompt=select_account: Operation not supported\n"
     ]
    },
    {
     "name": "stdout",
     "output_type": "stream",
     "text": [
      "4fe55ac0-90cd-11f0-be7d-00155d08dbcf\n",
      "..........{'000': 56, '111': 44}\n"
     ]
    },
    {
     "data": {
      "image/png": "[encoded data removed]",
      "text/plain": [
       "<Figure size 640x480 with 1 Axes>"
      ]
     },
     "execution_count": 8,
     "metadata": {},
     "output_type": "execute_result"
    }
   ],
   "source": [
    "# Obtengo un objeto backend en función de los datos de mi target elegido\n",
    "backend = provider.get_backend(MyTarget.name)\n",
    "\n",
    "# Transpilamos el circuito para que sea compatible con el backend seleccionado\n",
    "circuit = transpile(circuit, backend)\n",
    "\n",
    "# Ejecuto el circuito en el backend seleccionado\n",
    "job = backend.run(circuit, shots=100)\n",
    "\n",
    "# Imprimo el id del trabajo enviado\n",
    "job_id = job.id()\n",
    "print(job_id)\n",
    "\n",
    "# Obtengo los resultados del trabajo enviado\n",
    "result = job.result()\n",
    "\n",
    "# Mediante get_counts() obtenemos las cuentas de cada resultado\n",
    "counts = result.get_counts(circuit)\n",
    "print(counts)\n",
    "\n",
    "# Visualizamos los resultados\n",
    "plot_histogram(counts)\n",
    "\n",
    "# hacer clic en la url para poder acceder a azure quantum\n"
   ]
  },
  {
   "cell_type": "markdown",
   "id": "a020b3bc",
   "metadata": {},
   "source": [
    "### Ejecutamos con un simulador Qsharp\n",
    "\n",
    "Un ejemplo de código en Qiskit para generar un circuito aleatorio y ejecutarlo en un simulador de Q# sería el siguiente:"
   ]
  },
  {
   "cell_type": "code",
   "execution_count": null,
   "id": "d5e4ce75",
   "metadata": {},
   "outputs": [
    {
     "name": "stdout",
     "output_type": "stream",
     "text": [
      "                           ┌─────┐┌─┐   \n",
      "q_0: ──────────────────────┤ Sdg ├┤M├───\n",
      "     ┌────────────────────┐└──┬──┘└╥┘┌─┐\n",
      "q_1: ┤ U2(0.68733,4.4042) ├───■────╫─┤M├\n",
      "     └────────────────────┘        ║ └╥┘\n",
      "c: 2/══════════════════════════════╩══╩═\n",
      "                                   0  1 \n",
      "{'00': 525, '10': 499}\n"
     ]
    }
   ],
   "source": [
    "\n",
    "from qiskit.circuit.random import random_circuit\n",
    "from qsharp.interop.qiskit import QSharpBackend\n",
    "\n",
    "#QSharpBackend es un backend de Qiskit que \n",
    "# permite ejecutar circuitos de Qiskit simulados\n",
    "# usando el simulador de quantum de Q#.\n",
    "\n",
    "# Defino un circuito aleatorio de dos qubits con dos puertas\n",
    "circuit = random_circuit(2, 2, measure=True)\n",
    "print(circuit)\n",
    "\n",
    "# Obtenemos un objeto backend en función de los datos de mi target seleccionado\n",
    "# que es un simulador de Q#, lo ejecuto y obtengo los resultados y los cuento.\n",
    "backend = QSharpBackend()\n",
    "job = backend.run(circuit)\n",
    "counts = job.result().get_counts()\n",
    "\n",
    "# Gráfico en forma de texto del circuito\n",
    "print(counts)"
   ]
  },
  {
   "cell_type": "markdown",
   "id": "ca6071c4",
   "metadata": {},
   "source": [
    "## Otro ejemplo enviado a  Azure"
   ]
  },
  {
   "cell_type": "code",
   "execution_count": 1,
   "id": "50e6a507",
   "metadata": {},
   "outputs": [
    {
     "data": {
      "application/javascript": "// Copyright (c) Microsoft Corporation.\n// Licensed under the MIT License.\n\n// This file provides CodeMirror syntax highlighting for Q# magic cells\n// in classic Jupyter Notebooks. It does nothing in other (Jupyter Notebook 7,\n// VS Code, Azure Notebooks, etc.) environments.\n\n// Detect the prerequisites and do nothing if they don't exist.\nif (window.require && window.CodeMirror && window.Jupyter) {\n  // The simple mode plugin for CodeMirror is not loaded by default, so require it.\n  window.require([\"codemirror/addon/mode/simple\"], function defineMode() {\n    let rules = [\n      {\n        token: \"comment\",\n        regex: /(\\/\\/).*/,\n        beginWord: false,\n      },\n      {\n        token: \"string\",\n        regex: String.raw`^\\\"(?:[^\\\"\\\\]|\\\\[\\s\\S])*(?:\\\"|$)`,\n        beginWord: false,\n      },\n      {\n        token: \"keyword\",\n        regex: String.raw`(namespace|open|as|operation|function|body|adjoint|newtype|controlled|internal)\\b`,\n        beginWord: true,\n      },\n      {\n        token: \"keyword\",\n        regex: String.raw`(if|elif|else|repeat|until|fixup|for|in|return|fail|within|apply)\\b`,\n        beginWord: true,\n      },\n      {\n        token: \"keyword\",\n        regex: String.raw`(Adjoint|Controlled|Adj|Ctl|is|self|auto|distribute|invert|intrinsic)\\b`,\n        beginWord: true,\n      },\n      {\n        token: \"keyword\",\n        regex: String.raw`(let|set|use|borrow|mutable)\\b`,\n        beginWord: true,\n      },\n      {\n        token: \"operatorKeyword\",\n        regex: String.raw`(not|and|or)\\b|(w/)`,\n        beginWord: true,\n      },\n      {\n        token: \"operatorKeyword\",\n        regex: String.raw`(=)|(!)|(<)|(>)|(\\+)|(-)|(\\*)|(/)|(\\^)|(%)|(\\|)|(&&&)|(~~~)|(\\.\\.\\.)|(\\.\\.)|(\\?)`,\n        beginWord: false,\n      },\n      {\n        token: \"meta\",\n        regex: String.raw`(Int|BigInt|Double|Bool|Qubit|Pauli|Result|Range|String|Unit)\\b`,\n        beginWord: true,\n      },\n      {\n        token: \"atom\",\n        regex: String.raw`(true|false|Pauli(I|X|Y|Z)|One|Zero)\\b`,\n        beginWord: true,\n      },\n    ];\n    let simpleRules = [];\n    for (let rule of rules) {\n      simpleRules.push({\n        token: rule.token,\n        regex: new RegExp(rule.regex, \"g\"),\n        sol: rule.beginWord,\n      });\n      if (rule.beginWord) {\n        // Need an additional rule due to the fact that CodeMirror simple mode doesn't work with ^ token\n        simpleRules.push({\n          token: rule.token,\n          regex: new RegExp(String.raw`\\W` + rule.regex, \"g\"),\n          sol: false,\n        });\n      }\n    }\n\n    // Register the mode defined above with CodeMirror\n    window.CodeMirror.defineSimpleMode(\"qsharp\", { start: simpleRules });\n    window.CodeMirror.defineMIME(\"text/x-qsharp\", \"qsharp\");\n\n    // Tell Jupyter to associate %%qsharp magic cells with the qsharp mode\n    window.Jupyter.CodeCell.options_default.highlight_modes[\"qsharp\"] = {\n      reg: [/^%%qsharp/],\n    };\n\n    // Force re-highlighting of all cells the first time this code runs\n    for (const cell of window.Jupyter.notebook.get_cells()) {\n      cell.auto_highlight();\n    }\n  });\n}\n",
      "text/plain": []
     },
     "metadata": {},
     "output_type": "display_data"
    }
   ],
   "source": [
    "from qiskit import QuantumCircuit\n",
    "from qiskit.visualization import plot_histogram\n",
    "from azure.quantum import Workspace \n",
    "from azure.quantum.qiskit import AzureQuantumProvider"
   ]
  },
  {
   "cell_type": "code",
   "execution_count": 2,
   "id": "cd2d6888",
   "metadata": {},
   "outputs": [
    {
     "name": "stderr",
     "output_type": "stream",
     "text": [
      "gio: https://login.microsoftonline.com/235bdb0d-7ee9-4049-ae95-0f2fb6253595/oauth2/v2.0/authorize?client_id=04b07795-8ddb-461a-bbee-02f9e1bf7b46&response_type=code&redirect_uri=http%3A%2F%2Flocalhost%3A8400&scope=https%3A%2F%2Fquantum.microsoft.com%2F.default+offline_access+openid+profile&state=OiFpXCesthfwcYNB&code_challenge=B2SaWOHaBLJULwtjZOuqQZkBj0Eu8A-zd10XhaM8kkQ&code_challenge_method=S256&nonce=1b4c7b81b622c8e1c5e32bf135c5830eeeadb8b2db2f1bf2839599b7238d91be&client_info=1&prompt=select_account: Operation not supported\n"
     ]
    },
    {
     "name": "stdout",
     "output_type": "stream",
     "text": [
      ".........Resultados de BellJob: {'00': 513, '11': 487}\n"
     ]
    }
   ],
   "source": [
    "#--- 1. Definir el circuito Bell ---\n",
    "\n",
    "BellJob = QuantumCircuit(2, 2, name=\"BellJob\")\n",
    "BellJob.h(0)\n",
    "BellJob.cx(0, 1)\n",
    "BellJob.measure([0,1], [0,1])\n",
    "\n",
    "# --- 2. Conectarse al workspace de Azure Quantum ---\n",
    "# Sustituyo estos valores por los de mi workspace\n",
    "\n",
    "workspace = Workspace(  \n",
    "    resource_id = \"/subscriptions/0f4027d3-276d-4941-ad53-a9244c367728/resourceGroups/imardiegoAzureQuantumResourcesGroup/providers/Microsoft.Quantum/Workspaces/imardiegoAzureQuantumWorkArea\",\n",
    "    location = \"westeurope\"\n",
    "    )\n",
    "\n",
    "# Generamos un objeto provider en función de los datos de mi workspace\n",
    "provider = AzureQuantumProvider(workspace)\n",
    "\n",
    "#--- 3. Elegir un backend ---\n",
    "# Ejemplo con simulador (puede ser \"microsoft.estimator\" o hardware de un partner como IonQ, Quantinuum, Rigetti...)\n",
    "\n",
    "backend = provider.get_backend(\"rigetti.sim.qvm\")\n",
    "\n",
    "# --- 4. Ejecutar el job ---\n",
    "\n",
    "job = backend.run(BellJob, shots=1000)\n",
    "\n",
    "#--- 5. Esperar resultados ---\n",
    "\n",
    "result = job.result()\n",
    "print(\"Resultados de BellJob:\", result.get_counts())\n",
    "\n",
    "# Debo hacer clic en la url para poder acceder a azure quantum"
   ]
  },
  {
   "cell_type": "code",
   "execution_count": null,
   "id": "62af4b05",
   "metadata": {},
   "outputs": [
    {
     "data": {
      "image/png": "[encoded data removed]",
      "text/plain": [
       "<Figure size 640x480 with 1 Axes>"
      ]
     },
     "execution_count": 16,
     "metadata": {},
     "output_type": "execute_result"
    }
   ],
   "source": [
    "# Histograma con los resultados\n",
    "plot_histogram(result.get_counts())"
   ]
  },
  {
   "cell_type": "markdown",
   "id": "70ec636f",
   "metadata": {},
   "source": [
    "### Otra forma de enviar la ejecución a Azure Quantum\n",
    "\n",
    "Compilo previamente"
   ]
  },
  {
   "cell_type": "code",
   "execution_count": 1,
   "id": "37a54cdc",
   "metadata": {},
   "outputs": [
    {
     "data": {
      "application/javascript": "// Copyright (c) Microsoft Corporation.\n// Licensed under the MIT License.\n\n// This file provides CodeMirror syntax highlighting for Q# magic cells\n// in classic Jupyter Notebooks. It does nothing in other (Jupyter Notebook 7,\n// VS Code, Azure Notebooks, etc.) environments.\n\n// Detect the prerequisites and do nothing if they don't exist.\nif (window.require && window.CodeMirror && window.Jupyter) {\n  // The simple mode plugin for CodeMirror is not loaded by default, so require it.\n  window.require([\"codemirror/addon/mode/simple\"], function defineMode() {\n    let rules = [\n      {\n        token: \"comment\",\n        regex: /(\\/\\/).*/,\n        beginWord: false,\n      },\n      {\n        token: \"string\",\n        regex: String.raw`^\\\"(?:[^\\\"\\\\]|\\\\[\\s\\S])*(?:\\\"|$)`,\n        beginWord: false,\n      },\n      {\n        token: \"keyword\",\n        regex: String.raw`(namespace|open|as|operation|function|body|adjoint|newtype|controlled|internal)\\b`,\n        beginWord: true,\n      },\n      {\n        token: \"keyword\",\n        regex: String.raw`(if|elif|else|repeat|until|fixup|for|in|return|fail|within|apply)\\b`,\n        beginWord: true,\n      },\n      {\n        token: \"keyword\",\n        regex: String.raw`(Adjoint|Controlled|Adj|Ctl|is|self|auto|distribute|invert|intrinsic)\\b`,\n        beginWord: true,\n      },\n      {\n        token: \"keyword\",\n        regex: String.raw`(let|set|use|borrow|mutable)\\b`,\n        beginWord: true,\n      },\n      {\n        token: \"operatorKeyword\",\n        regex: String.raw`(not|and|or)\\b|(w/)`,\n        beginWord: true,\n      },\n      {\n        token: \"operatorKeyword\",\n        regex: String.raw`(=)|(!)|(<)|(>)|(\\+)|(-)|(\\*)|(/)|(\\^)|(%)|(\\|)|(&&&)|(~~~)|(\\.\\.\\.)|(\\.\\.)|(\\?)`,\n        beginWord: false,\n      },\n      {\n        token: \"meta\",\n        regex: String.raw`(Int|BigInt|Double|Bool|Qubit|Pauli|Result|Range|String|Unit)\\b`,\n        beginWord: true,\n      },\n      {\n        token: \"atom\",\n        regex: String.raw`(true|false|Pauli(I|X|Y|Z)|One|Zero)\\b`,\n        beginWord: true,\n      },\n    ];\n    let simpleRules = [];\n    for (let rule of rules) {\n      simpleRules.push({\n        token: rule.token,\n        regex: new RegExp(rule.regex, \"g\"),\n        sol: rule.beginWord,\n      });\n      if (rule.beginWord) {\n        // Need an additional rule due to the fact that CodeMirror simple mode doesn't work with ^ token\n        simpleRules.push({\n          token: rule.token,\n          regex: new RegExp(String.raw`\\W` + rule.regex, \"g\"),\n          sol: false,\n        });\n      }\n    }\n\n    // Register the mode defined above with CodeMirror\n    window.CodeMirror.defineSimpleMode(\"qsharp\", { start: simpleRules });\n    window.CodeMirror.defineMIME(\"text/x-qsharp\", \"qsharp\");\n\n    // Tell Jupyter to associate %%qsharp magic cells with the qsharp mode\n    window.Jupyter.CodeCell.options_default.highlight_modes[\"qsharp\"] = {\n      reg: [/^%%qsharp/],\n    };\n\n    // Force re-highlighting of all cells the first time this code runs\n    for (const cell of window.Jupyter.notebook.get_cells()) {\n      cell.auto_highlight();\n    }\n  });\n}\n",
      "text/plain": []
     },
     "metadata": {},
     "output_type": "display_data"
    }
   ],
   "source": [
    "from qiskit import QuantumCircuit, transpile\n",
    "from azure.quantum import Workspace\n",
    "from qiskit.visualization import plot_histogram\n",
    "from azure.quantum.qiskit import AzureQuantumProvider\n",
    "\n",
    "# Definir el Workspace (aquí sí van resource_id y location)\n",
    "workspace = Workspace(\n",
    "    resource_id = \"/subscriptions/0f4027d3-276d-4941-ad53-a9244c367728/resourceGroups/imardiegoAzureQuantumResourcesGroup/providers/Microsoft.Quantum/Workspaces/imardiegoAzureQuantumWorkArea\",\n",
    "    location = \"westeurope\"\n",
    ")\n",
    "\n",
    "# Inicializar provider con workspace\n",
    "provider = AzureQuantumProvider(workspace=workspace)"
   ]
  },
  {
   "cell_type": "code",
   "execution_count": 2,
   "id": "063acb81",
   "metadata": {},
   "outputs": [
    {
     "name": "stderr",
     "output_type": "stream",
     "text": [
      "gio: https://login.microsoftonline.com/235bdb0d-7ee9-4049-ae95-0f2fb6253595/oauth2/v2.0/authorize?client_id=04b07795-8ddb-461a-bbee-02f9e1bf7b46&response_type=code&redirect_uri=http%3A%2F%2Flocalhost%3A8400&scope=https%3A%2F%2Fquantum.microsoft.com%2F.default+offline_access+openid+profile&state=SgqpByDJjxlnbwLm&code_challenge=Il0Edob9cHtuqEhpBPpcJvaxY_59GS-NY93aJM2gzGw&code_challenge_method=S256&nonce=91e09ce0f371dc47d2cc78060e6b34a89ede302e822c9b23b17e94023b8fd5c2&client_info=1&prompt=select_account: Operation not supported\n"
     ]
    },
    {
     "name": "stdout",
     "output_type": "stream",
     "text": [
      "This workspace's targets:\n"
     ]
    },
    {
     "data": {
      "text/plain": [
       "[<Target name=\"quantinuum.sim.h1-1sc\", avg. queue time=9 s, TargetAvailability.AVAILABLE>,\n",
       " <Target name=\"quantinuum.sim.h1-1e\", avg. queue time=0 s, TargetAvailability.AVAILABLE>,\n",
       " <Target name=\"rigetti.sim.qvm\", avg. queue time=5 s, TargetAvailability.AVAILABLE>]"
      ]
     },
     "execution_count": 2,
     "metadata": {},
     "output_type": "execute_result"
    }
   ],
   "source": [
    "MyTargets = workspace.get_targets()\n",
    "print(\"This workspace's targets:\")\n",
    "MyTargets\n",
    "\n",
    "# Debo hacer clic en la url para poder acceder a azure quantum"
   ]
  },
  {
   "cell_type": "code",
   "execution_count": 3,
   "id": "bb2ef306",
   "metadata": {},
   "outputs": [
    {
     "data": {
      "text/plain": [
       "'rigetti.sim.qvm'"
      ]
     },
     "execution_count": 3,
     "metadata": {},
     "output_type": "execute_result"
    }
   ],
   "source": [
    "qpu=MyTargets[2].name\n",
    "qpu"
   ]
  },
  {
   "cell_type": "code",
   "execution_count": 4,
   "id": "16c1e7fd",
   "metadata": {},
   "outputs": [],
   "source": [
    "backend = provider.get_backend(qpu)"
   ]
  },
  {
   "cell_type": "code",
   "execution_count": 5,
   "id": "e1e488a4",
   "metadata": {},
   "outputs": [
    {
     "data": {
      "text/plain": [
       "<qiskit.circuit.instructionset.InstructionSet at 0x7286b1cbab60>"
      ]
     },
     "execution_count": 5,
     "metadata": {},
     "output_type": "execute_result"
    }
   ],
   "source": [
    "# Declaro un circuito de dos qubits entrelazados\n",
    "BellJob = QuantumCircuit(2, 2, name=\"BellJob2\")\n",
    "BellJob.h(0)\n",
    "BellJob.cx(0, 1)\n",
    "BellJob.measure([0,1], [0,1])\n"
   ]
  },
  {
   "cell_type": "code",
   "execution_count": 6,
   "id": "dfd444ea",
   "metadata": {},
   "outputs": [],
   "source": [
    "qc_compiled = transpile(BellJob, backend)"
   ]
  },
  {
   "cell_type": "code",
   "execution_count": 7,
   "id": "90e98bf7",
   "metadata": {},
   "outputs": [
    {
     "name": "stdout",
     "output_type": "stream",
     "text": [
      "Job enviado. ID: 90cb3d8a-918a-11f0-b9b7-00155dd4bea4\n",
      "........Resultados: {'00': 54, '11': 46}\n"
     ]
    }
   ],
   "source": [
    "# Envío el trabajo a Azure Quantum\n",
    "job = backend.run(qc_compiled, shots=100)\n",
    "print(\"Job enviado. ID:\", job.id())\n",
    "\n",
    "# Obtengo los resultados y los imprimo\n",
    "result = job.result()\n",
    "print(\"Resultados:\", result.get_counts())"
   ]
  },
  {
   "cell_type": "code",
   "execution_count": 8,
   "id": "e208634d",
   "metadata": {},
   "outputs": [
    {
     "data": {
      "image/png": "[encoded data removed]",
      "text/plain": [
       "<Figure size 640x480 with 1 Axes>"
      ]
     },
     "execution_count": 8,
     "metadata": {},
     "output_type": "execute_result"
    }
   ],
   "source": [
    "# Dibujo el histograma\n",
    "plot_histogram(result.get_counts())"
   ]
  },
  {
   "cell_type": "markdown",
   "id": "fb6c63bd",
   "metadata": {},
   "source": [
    "## Envío a Azure Quantum ejecutado con QASM y de QASM a Qiskit\n",
    "\n",
    "A través de Cirq podemos convertir un circuito de Cirq a QASM y luego cargarlo en Qiskit para finalmente enviarlo a Azure Quantum."
   ]
  },
  {
   "cell_type": "code",
   "execution_count": 1,
   "id": "a4415437",
   "metadata": {},
   "outputs": [
    {
     "data": {
      "application/javascript": "// Copyright (c) Microsoft Corporation.\n// Licensed under the MIT License.\n\n// This file provides CodeMirror syntax highlighting for Q# magic cells\n// in classic Jupyter Notebooks. It does nothing in other (Jupyter Notebook 7,\n// VS Code, Azure Notebooks, etc.) environments.\n\n// Detect the prerequisites and do nothing if they don't exist.\nif (window.require && window.CodeMirror && window.Jupyter) {\n  // The simple mode plugin for CodeMirror is not loaded by default, so require it.\n  window.require([\"codemirror/addon/mode/simple\"], function defineMode() {\n    let rules = [\n      {\n        token: \"comment\",\n        regex: /(\\/\\/).*/,\n        beginWord: false,\n      },\n      {\n        token: \"string\",\n        regex: String.raw`^\\\"(?:[^\\\"\\\\]|\\\\[\\s\\S])*(?:\\\"|$)`,\n        beginWord: false,\n      },\n      {\n        token: \"keyword\",\n        regex: String.raw`(namespace|open|as|operation|function|body|adjoint|newtype|controlled|internal)\\b`,\n        beginWord: true,\n      },\n      {\n        token: \"keyword\",\n        regex: String.raw`(if|elif|else|repeat|until|fixup|for|in|return|fail|within|apply)\\b`,\n        beginWord: true,\n      },\n      {\n        token: \"keyword\",\n        regex: String.raw`(Adjoint|Controlled|Adj|Ctl|is|self|auto|distribute|invert|intrinsic)\\b`,\n        beginWord: true,\n      },\n      {\n        token: \"keyword\",\n        regex: String.raw`(let|set|use|borrow|mutable)\\b`,\n        beginWord: true,\n      },\n      {\n        token: \"operatorKeyword\",\n        regex: String.raw`(not|and|or)\\b|(w/)`,\n        beginWord: true,\n      },\n      {\n        token: \"operatorKeyword\",\n        regex: String.raw`(=)|(!)|(<)|(>)|(\\+)|(-)|(\\*)|(/)|(\\^)|(%)|(\\|)|(&&&)|(~~~)|(\\.\\.\\.)|(\\.\\.)|(\\?)`,\n        beginWord: false,\n      },\n      {\n        token: \"meta\",\n        regex: String.raw`(Int|BigInt|Double|Bool|Qubit|Pauli|Result|Range|String|Unit)\\b`,\n        beginWord: true,\n      },\n      {\n        token: \"atom\",\n        regex: String.raw`(true|false|Pauli(I|X|Y|Z)|One|Zero)\\b`,\n        beginWord: true,\n      },\n    ];\n    let simpleRules = [];\n    for (let rule of rules) {\n      simpleRules.push({\n        token: rule.token,\n        regex: new RegExp(rule.regex, \"g\"),\n        sol: rule.beginWord,\n      });\n      if (rule.beginWord) {\n        // Need an additional rule due to the fact that CodeMirror simple mode doesn't work with ^ token\n        simpleRules.push({\n          token: rule.token,\n          regex: new RegExp(String.raw`\\W` + rule.regex, \"g\"),\n          sol: false,\n        });\n      }\n    }\n\n    // Register the mode defined above with CodeMirror\n    window.CodeMirror.defineSimpleMode(\"qsharp\", { start: simpleRules });\n    window.CodeMirror.defineMIME(\"text/x-qsharp\", \"qsharp\");\n\n    // Tell Jupyter to associate %%qsharp magic cells with the qsharp mode\n    window.Jupyter.CodeCell.options_default.highlight_modes[\"qsharp\"] = {\n      reg: [/^%%qsharp/],\n    };\n\n    // Force re-highlighting of all cells the first time this code runs\n    for (const cell of window.Jupyter.notebook.get_cells()) {\n      cell.auto_highlight();\n    }\n  });\n}\n",
      "text/plain": []
     },
     "metadata": {},
     "output_type": "display_data"
    }
   ],
   "source": [
    "from qiskit import QuantumCircuit, transpile\n",
    "from azure.quantum import Workspace\n",
    "from azure.quantum.qiskit import AzureQuantumProvider\n",
    "from qiskit.visualization import plot_histogram\n",
    "import cirq"
   ]
  },
  {
   "cell_type": "code",
   "execution_count": 2,
   "id": "bee23be9",
   "metadata": {},
   "outputs": [],
   "source": [
    "# --- 1. Circuito en Cirq ---\n",
    "q0, q1 = cirq.LineQubit.range(2)\n",
    "circuit = cirq.Circuit(\n",
    "    # Puerta Hadamard sobre q0 con **0.5 que es equivalente a √H\n",
    "    cirq.X(q0)**0.5,             # √X\n",
    "    cirq.CX(q0, q1),             # CNOT\n",
    "    # Medimos ambos qubits y los etiquetamos con b.\n",
    "    cirq.measure(q0, q1, key='b')\n",
    ")"
   ]
  },
  {
   "cell_type": "code",
   "execution_count": 3,
   "id": "9c6cfb1e",
   "metadata": {},
   "outputs": [],
   "source": [
    "# --- 2. Exportamos el circuito a QASM ---\n",
    "qasm_str = cirq.qasm(circuit)"
   ]
  },
  {
   "cell_type": "code",
   "execution_count": 4,
   "id": "cdb9478d",
   "metadata": {},
   "outputs": [
    {
     "name": "stdout",
     "output_type": "stream",
     "text": [
      "Circuito en Qiskit:\n",
      "       ┌────┐     ┌─┐   \n",
      "  q_0: ┤ √X ├──■──┤M├───\n",
      "       └────┘┌─┴─┐└╥┘┌─┐\n",
      "  q_1: ──────┤ X ├─╫─┤M├\n",
      "             └───┘ ║ └╥┘\n",
      "m_b: 2/════════════╩══╩═\n",
      "                   0  1 \n"
     ]
    }
   ],
   "source": [
    "# --- 3. De QASM lo importamos en Qiskit ---\n",
    "qc = QuantumCircuit.from_qasm_str(qasm_str)\n",
    "\n",
    "print(\"Circuito en Qiskit:\")\n",
    "print(qc)"
   ]
  },
  {
   "cell_type": "code",
   "execution_count": 5,
   "id": "6e48a9a1",
   "metadata": {},
   "outputs": [],
   "source": [
    "# --- 4. Conectarse a Azure Quantum ---\n",
    "# Definir el Workspace \n",
    "workspace = Workspace(\n",
    "    resource_id = \"/subscriptions/0f4027d3-276d-4941-ad53-a9244c367728/resourceGroups/imardiegoAzureQuantumResourcesGroup/providers/Microsoft.Quantum/Workspaces/imardiegoAzureQuantumWorkArea\",\n",
    "    location = \"westeurope\"\n",
    ")\n",
    "provider = AzureQuantumProvider(workspace=workspace)"
   ]
  },
  {
   "cell_type": "code",
   "execution_count": 6,
   "id": "a8ca9a31",
   "metadata": {},
   "outputs": [
    {
     "name": "stderr",
     "output_type": "stream",
     "text": [
      "gio: https://login.microsoftonline.com/235bdb0d-7ee9-4049-ae95-0f2fb6253595/oauth2/v2.0/authorize?client_id=04b07795-8ddb-461a-bbee-02f9e1bf7b46&response_type=code&redirect_uri=http%3A%2F%2Flocalhost%3A8400&scope=https%3A%2F%2Fquantum.microsoft.com%2F.default+offline_access+openid+profile&state=ImoRJvNdTaXcxCuw&code_challenge=2HkCuKIuQc5FRDhHkFquTdLgqWB4HQrOpaV2X7uPS74&code_challenge_method=S256&nonce=ecaf11412c4161429f412d4b4624da8bca09c9da75904ab10397d79e7667b085&client_info=1&prompt=select_account: Operation not supported\n"
     ]
    },
    {
     "name": "stdout",
     "output_type": "stream",
     "text": [
      "quantinuum.sim.h1-1sc\n",
      "quantinuum.sim.h1-1e\n",
      "rigetti.sim.qvm\n"
     ]
    }
   ],
   "source": [
    "# Ver lista de backends disponibles\n",
    "for backend in provider.backends():\n",
    "    print(backend.name())"
   ]
  },
  {
   "cell_type": "code",
   "execution_count": 7,
   "id": "9c241548",
   "metadata": {},
   "outputs": [],
   "source": [
    "# --- 5. Elegir backend (QPU) ---\n",
    "backend = provider.get_backend(\"rigetti.sim.qvm\")  # Ejemplo"
   ]
  },
  {
   "cell_type": "code",
   "execution_count": 8,
   "id": "9773659f",
   "metadata": {},
   "outputs": [],
   "source": [
    "# --- 6. Transpilar y enviar trabajo ---\n",
    "# Transpile sirve para adaptar el circuito a la arquitectura del backend seleccionado\n",
    "compiled = transpile(qc, backend)\n",
    "job = backend.run(compiled, shots=100)  # shots = número de ejecuciones"
   ]
  },
  {
   "cell_type": "code",
   "execution_count": 9,
   "id": "ea38cce3",
   "metadata": {},
   "outputs": [
    {
     "name": "stdout",
     "output_type": "stream",
     "text": [
      "."
     ]
    },
    {
     "name": "stdout",
     "output_type": "stream",
     "text": [
      "......Resultados:\n",
      "{'00': 54, '11': 46}\n"
     ]
    }
   ],
   "source": [
    "# --- 7. Obtener resultados ---\n",
    "result = job.result()\n",
    "print(\"Resultados:\")\n",
    "print(result.get_counts())"
   ]
  },
  {
   "cell_type": "code",
   "execution_count": 10,
   "id": "b88e0b5f",
   "metadata": {},
   "outputs": [
    {
     "data": {
      "image/png": "[encoded data removed]",
      "text/plain": [
       "<Figure size 640x480 with 1 Axes>"
      ]
     },
     "execution_count": 10,
     "metadata": {},
     "output_type": "execute_result"
    }
   ],
   "source": [
    "# Visualizar resultados\n",
    "plot_histogram(result.get_counts())"
   ]
  }
 ],
 "metadata": {
  "kernelspec": {
   "display_name": "CondaCodingQsharpAzureQuantumEnvironment",
   "language": "python",
   "name": "python3"
  },
  "language_info": {
   "codemirror_mode": {
    "name": "ipython",
    "version": 3
   },
   "file_extension": ".py",
   "mimetype": "text/x-python",
   "name": "python",
   "nbconvert_exporter": "python",
   "pygments_lexer": "ipython3",
   "version": "3.13.7"
  }
 },
 "nbformat": 4,
 "nbformat_minor": 5
}
