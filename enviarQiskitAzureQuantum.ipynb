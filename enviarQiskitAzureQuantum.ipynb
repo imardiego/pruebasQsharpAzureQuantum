{
 "cells": [
  {
   "cell_type": "markdown",
   "id": "0d108249",
   "metadata": {},
   "source": [
    "# Conexión a Azure Quantum y envío del trabajo\n",
    "\n",
    "Suponemos que ya hemos realizado todos los pasos para usar AzureQPU:\n",
    "\n",
    "    - Crear una cuenta en Azure\n",
    "    - Suscribir un programa gratuito o de pago\n",
    "    - Crear un servicio de Azure Quantum creando previamente un espacio de trabajo. \n",
    "\n",
    "Hecho esto ya solo tendría que establecer la conexión mediante mi identificador de recurso y localización de ejecución. \n",
    "\n",
    "    - MyResourceID\n",
    "    - MyLocation\n",
    "\n",
    "\n",
    "**Nota:** En el documento CREACIÓN DE CUENTA AZURE QUANTUM se explica cómo crear un área de trabajo:\n",
    "\n",
    "https://mega.nz/file/MiMlCKJA#l1VMMoEwtq3UHLlgiCJiu4nSMEgS31V_cw0zY2tJobQ"
   ]
  },
  {
   "cell_type": "markdown",
   "id": "0f9bc3a6",
   "metadata": {},
   "source": [
    "## Instalación del Azure Quantum Developer Kit \n",
    "\n",
    "\n",
    "Podemos instalar el QDK de Azure Quantum en Python para Q#, Qiskit, Cirq:\n",
    "\n",
    "https://learn.microsoft.com/es-es/azure/quantum/install-overview-qdk\n",
    "\n",
    "Para Qiskit:\n",
    "\n",
    "%pip install qsharp azure-quantum[qiskit]    "
   ]
  },
  {
   "cell_type": "markdown",
   "id": "81bfb87c",
   "metadata": {},
   "source": [
    "## Envío de un programa Qiskit a Azure Quantum\n",
    "\n",
    "https://learn.microsoft.com/es-es/azure/quantum/quickstart-microsoft-qiskit?tabs=tabid-ionq&pivots=platform-local"
   ]
  },
  {
   "cell_type": "code",
   "execution_count": null,
   "id": "b9586a4e",
   "metadata": {},
   "outputs": [],
   "source": [
    "import qiskit\n",
    "import azure.quantum\n",
    "from azure.quantum import Workspace \n",
    "from qiskit import QuantumCircuit\n",
    "from qiskit.visualization import plot_histogram\n",
    "from azure.quantum.qiskit import AzureQuantumProvider"
   ]
  },
  {
   "cell_type": "code",
   "execution_count": null,
   "id": "cf7860c9",
   "metadata": {},
   "outputs": [],
   "source": [
    "workspace = Workspace(  \n",
    "    resource_id = \"\", # Add the resourceID of your workspace\n",
    "    location = \"\" # Add the location of your workspace (for example \"westus\")\n",
    "    )\n",
    "\n",
    "provider = AzureQuantumProvider(workspace)"
   ]
  },
  {
   "cell_type": "markdown",
   "id": "9801a73a",
   "metadata": {},
   "source": [
    "This workspace's targets:\n",
    "- ionq.qpu\n",
    "- ionq.qpu.aria-1\n",
    "- ionq.simulator\n",
    "- microsoft.estimator\n",
    "- quantinuum.hqs-lt-s1\n",
    "- quantinuum.hqs-lt-s1-apival\n",
    "- quantinuum.hqs-lt-s2\n",
    "- quantinuum.hqs-lt-s2-apival\n",
    "- quantinuum.hqs-lt-s1-sim\n",
    "- quantinuum.hqs-lt-s2-sim\n",
    "- quantinuum.qpu.h1-1\n",
    "- quantinuum.sim.h1-1sc\n",
    "- quantinuum.sim.h1-1e\n",
    "- rigetti.sim.qvm\n",
    "- rigetti.qpu.ankaa-3"
   ]
  },
  {
   "cell_type": "markdown",
   "id": "a12ccf5e",
   "metadata": {},
   "source": [
    "### Ejecutamos en un simulador de un QPU particular\n",
    "\n",
    "Nota: hay un problema con la instalación de azure-quantum[qiskit]\n",
    "\n",
    "El programa de abajo no funcionará hasta resolver este problema. "
   ]
  },
  {
   "cell_type": "code",
   "execution_count": null,
   "id": "4198c65e",
   "metadata": {},
   "outputs": [
    {
     "data": {
      "image/png": "[encoded data removed]",
      "text/plain": [
       "<Figure size 621.941x367.889 with 1 Axes>"
      ]
     },
     "metadata": {},
     "output_type": "display_data"
    }
   ],
   "source": [
    "from qiskit import QuantumCircuit, transpile\n",
    "from azure.quantum import Workspace\n",
    "from azure.quantum.qiskit import AzureQuantumProvider as provider\n",
    "\n",
    "circuit = QuantumCircuit(3, 3)\n",
    "circuit.name = \"Qiskit Sample - 3-qubit GHZ circuit\"\n",
    "circuit.h(0)\n",
    "circuit.cx(0, 1)\n",
    "circuit.cx(1, 2)\n",
    "circuit.measure([0,1,2], [0, 1, 2])\n",
    "\n",
    "# Print out the circuit\n",
    "circuit.draw('mpl')"
   ]
  },
  {
   "cell_type": "code",
   "execution_count": null,
   "id": "587402b1",
   "metadata": {},
   "outputs": [
    {
     "ename": "AttributeError",
     "evalue": "'str' object has no attribute 'backends'",
     "output_type": "error",
     "traceback": [
      "\u001b[31m---------------------------------------------------------------------------\u001b[39m\n",
      "\u001b[31mAttributeError\u001b[39m                            Traceback (most recent call last)\n",
      "\u001b[36mCell\u001b[39m\u001b[36m \u001b[39m\u001b[32mIn[5]\u001b[39m\u001b[32m, line 1\u001b[39m\n",
      "\u001b[32m----> \u001b[39m\u001b[32m1\u001b[39m simulator_backend = \u001b[43mprovider\u001b[49m\u001b[43m.\u001b[49m\u001b[43mget_backend\u001b[49m\u001b[43m(\u001b[49m\u001b[33;43m\"\u001b[39;49m\u001b[33;43mionq.simulator\u001b[39;49m\u001b[33;43m\"\u001b[39;49m\u001b[43m)\u001b[49m\n",
      "\u001b[32m      2\u001b[39m circuit = transpile(circuit, simulator_backend)\n",
      "\n",
      "\u001b[36mFile \u001b[39m\u001b[32m~/miniconda3/envs/CondaCodingAzureQuantumEnvironment/lib/python3.13/site-packages/azure/quantum/qiskit/provider.py:71\u001b[39m, in \u001b[36mAzureQuantumProvider.get_backend\u001b[39m\u001b[34m(self, name, **kwargs)\u001b[39m\n",
      "\u001b[32m     58\u001b[39m \u001b[38;5;28;01mdef\u001b[39;00m\u001b[38;5;250m \u001b[39m\u001b[34mget_backend\u001b[39m(\u001b[38;5;28mself\u001b[39m, name=\u001b[38;5;28;01mNone\u001b[39;00m, **kwargs) -> AzureBackendBase:\n",
      "\u001b[32m     59\u001b[39m \u001b[38;5;250m    \u001b[39m\u001b[33;03m\"\"\"Return a single backend matching the specified filtering.\u001b[39;00m\n",
      "\u001b[32m     60\u001b[39m \n",
      "\u001b[32m     61\u001b[39m \u001b[33;03m    Args:\u001b[39;00m\n",
      "\u001b[32m   (...)\u001b[39m\u001b[32m     68\u001b[39m \u001b[33;03m            more than one backend matches the filtering criteria.\u001b[39;00m\n",
      "\u001b[32m     69\u001b[39m \u001b[33;03m    \"\"\"\u001b[39;00m\n",
      "\u001b[32m---> \u001b[39m\u001b[32m71\u001b[39m     backends = \u001b[38;5;28;43mself\u001b[39;49m\u001b[43m.\u001b[49m\u001b[43mbackends\u001b[49m(name=name, **kwargs)\n",
      "\u001b[32m     73\u001b[39m     \u001b[38;5;28;01mif\u001b[39;00m \u001b[38;5;28mlen\u001b[39m(backends) > \u001b[32m1\u001b[39m:\n",
      "\u001b[32m     74\u001b[39m         \u001b[38;5;28;01mraise\u001b[39;00m QiskitBackendNotFoundError(\n",
      "\u001b[32m     75\u001b[39m             \u001b[33m\"\u001b[39m\u001b[33mMore than one backend matches the criteria\u001b[39m\u001b[33m\"\u001b[39m\n",
      "\u001b[32m     76\u001b[39m         )\n",
      "\n",
      "\u001b[31mAttributeError\u001b[39m: 'str' object has no attribute 'backends'"
     ]
    }
   ],
   "source": [
    "simulator_backend = provider.get_backend(\"ionq.simulator\")\n",
    "circuit = transpile(circuit, simulator_backend)"
   ]
  },
  {
   "cell_type": "code",
   "execution_count": null,
   "id": "80bf881d",
   "metadata": {},
   "outputs": [],
   "source": [
    "job = simulator_backend.run(circuit, shots=8)\n",
    "job_id = job.id()\n",
    "print(\"Job id\", job_id)\n"
   ]
  },
  {
   "cell_type": "code",
   "execution_count": null,
   "id": "c39b01b8",
   "metadata": {},
   "outputs": [],
   "source": [
    "result = job.result()\n",
    "print(result)"
   ]
  },
  {
   "cell_type": "code",
   "execution_count": null,
   "id": "aca238ef",
   "metadata": {},
   "outputs": [],
   "source": [
    "counts = {format(n, \"03b\"): 0 for n in range(8)}\n",
    "counts.update(result.get_counts(circuit))\n",
    "print(counts)\n",
    "plot_histogram(counts)"
   ]
  },
  {
   "cell_type": "markdown",
   "id": "a020b3bc",
   "metadata": {},
   "source": [
    "### Ejecutamos con un simulador"
   ]
  },
  {
   "cell_type": "code",
   "execution_count": null,
   "id": "d5e4ce75",
   "metadata": {},
   "outputs": [
    {
     "name": "stdout",
     "output_type": "stream",
     "text": [
      "         ┌───┐          ┌─┐   \n",
      "q_0: ────┤ S ├──────────┤M├───\n",
      "     ┌───┴───┴────┐┌───┐└╥┘┌─┐\n",
      "q_1: ┤ U1(6.1342) ├┤ Z ├─╫─┤M├\n",
      "     └────────────┘└───┘ ║ └╥┘\n",
      "c: 2/════════════════════╩══╩═\n",
      "                         0  1 \n",
      "{'00': 1024}\n"
     ]
    }
   ],
   "source": [
    "# load the required imports \n",
    "from qiskit.circuit.random import random_circuit\n",
    "from qsharp.interop.qiskit import QSharpBackend\n",
    "\n",
    "#QSharpBackend es un backend de Qiskit que \n",
    "# permite ejecutar circuitos de Qiskit simulados\n",
    "# usando el simulador de quantum de Q#.\n",
    "\n",
    "# define and display the circuit\n",
    "circuit = random_circuit(2, 2, measure=True)\n",
    "print(circuit)\n",
    "\n",
    "# run the circuit using the built-in sparse simulator\n",
    "backend = QSharpBackend()\n",
    "job = backend.run(circuit)\n",
    "counts = job.result().get_counts()\n",
    "\n",
    "print(counts)"
   ]
  },
  {
   "cell_type": "markdown",
   "id": "ca6071c4",
   "metadata": {},
   "source": [
    "Otro ejemplo"
   ]
  },
  {
   "cell_type": "code",
   "execution_count": null,
   "id": "cd2d6888",
   "metadata": {},
   "outputs": [],
   "source": [
    "\n",
    "%pip install azure-quantum[qiskit]\n",
    "\n",
    "from qiskit import QuantumCircuit\n",
    "\n",
    "from qiskit_azure_quantum import AzureQuantumProvider\n",
    "\n",
    "#--- 1. Definir el circuito Bell ---\n",
    "\n",
    "BellJob = QuantumCircuit(2, 2, name=\"BellJob\")\n",
    "BellJob.h(0)\n",
    "BellJob.cx(0, 1)\n",
    "BellJob.measure([0,1], [0,1])\n",
    "\n",
    "# --- 2. Conectarse al workspace de Azure Quantum ---\n",
    "# Sustituyo estos valores por los de mi workspace\n",
    "\n",
    "provider = AzureQuantumProvider(\n",
    "    resource_id=\"RESOURCE_ID_DE_TU_WORKSPACE\",\n",
    "    location=\"LOCATION_DE_TU_WORKSPACE\"  # Ej: \"westeurope\" o \"eastus\"\n",
    ")\n",
    "\n",
    "#--- 3. Elegir un backend ---\n",
    "# Ejemplo con simulador (puede ser \"microsoft.estimator\" o hardware de un partner como IonQ, Quantinuum, Rigetti...)\n",
    "\n",
    "backend = provider.get_backend(\"ionq.simulator\")\n",
    "\n",
    "# --- 4. Ejecutar el job ---\n",
    "\n",
    "job = backend.run(BellJob, shots=1000)\n",
    "\n",
    "#--- 5. Esperar resultados ---\n",
    "\n",
    "result = job.result()\n",
    "print(\"Resultados de BellJob:\", result.get_counts())"
   ]
  }
 ],
 "metadata": {
  "language_info": {
   "name": "python"
  }
 },
 "nbformat": 4,
 "nbformat_minor": 5
}
