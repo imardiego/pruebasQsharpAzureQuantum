{
 "cells": [
  {
   "cell_type": "markdown",
   "id": "606ca6e6",
   "metadata": {},
   "source": [
    "### CREACIÓN DE CUENTA Y WORKSPACE EN AZURE QUANTUM   \n",
    "\n",
    " **TODAVÍA NO HA SIDO POSIBLE CONFIGURAR UNA SUSCRIPCIÓN PARA UTILIZAR EL COMPUTADOR AZURE QUANTUM**\n",
    "\n",
    "**aquí solo la conexión con qsharp, en el fichero qiskitAzureQuantum.ipynb ponemos las llamadas  desde qiskit**\n",
    "\n",
    "Ahora que tenemos el programa compilado en el formato correcto, creamos un  **objeto azure.quantum.Workspace**  para conectar con Azure Quantum. \n",
    "\n",
    "Usaremos el identificador de recurso del área de trabajo de Azure Quantum para conectarnos. El identificador de recurso y la ubicación se pueden copiar de la página de información general del área de trabajo en Azure Portal una vez que hayamos creado la cuenta. \n",
    "\n",
    "Necesitamos importar azure.quantum para conectar con el área de trabajo de Azure Quantum\n",
    "\n",
    "import azure.quantum\n",
    "\n",
    "Para ello debo crear una cuenta "
   ]
  },
  {
   "cell_type": "markdown",
   "id": "8a1bc0e4",
   "metadata": {},
   "source": [
    "### Conexión a Azure Quantum y envío del trabajo\n",
    "\n",
    "Suponemos que ya hemos realizado todos los pasos para usar AzureQPU:\n",
    "\n",
    "    - Crear una cuenta en Azure\n",
    "    - Suscribir un programa gratuito o de pago\n",
    "    - Crear un servicio de Azure Quantum creando previamente un espacio de trabajo. \n",
    "\n",
    "Hecho esto ya solo tendría que establecer la conexión mediante mi identificador de recurso y localización de ejecución. \n",
    "\n",
    "    - MyResourceID\n",
    "    - MyLocation\n",
    "\n",
    "\n",
    "Veamos un ejemplo en python simple, (no qiskit)\n",
    "\n",
    "https://learn.microsoft.com/es-es/azure/quantum/how-to-submit-jobs?tabs=tabid-python&pivots=ide-jupyter"
   ]
  },
  {
   "cell_type": "markdown",
   "id": "a3b1b6f1",
   "metadata": {},
   "source": [
    "### Intentando conexión con azure"
   ]
  },
  {
   "cell_type": "code",
   "execution_count": 1,
   "id": "ecb8cb83",
   "metadata": {},
   "outputs": [
    {
     "data": {
      "application/javascript": "// Copyright (c) Microsoft Corporation.\n// Licensed under the MIT License.\n\n// This file provides CodeMirror syntax highlighting for Q# magic cells\n// in classic Jupyter Notebooks. It does nothing in other (Jupyter Notebook 7,\n// VS Code, Azure Notebooks, etc.) environments.\n\n// Detect the prerequisites and do nothing if they don't exist.\nif (window.require && window.CodeMirror && window.Jupyter) {\n  // The simple mode plugin for CodeMirror is not loaded by default, so require it.\n  window.require([\"codemirror/addon/mode/simple\"], function defineMode() {\n    let rules = [\n      {\n        token: \"comment\",\n        regex: /(\\/\\/).*/,\n        beginWord: false,\n      },\n      {\n        token: \"string\",\n        regex: String.raw`^\\\"(?:[^\\\"\\\\]|\\\\[\\s\\S])*(?:\\\"|$)`,\n        beginWord: false,\n      },\n      {\n        token: \"keyword\",\n        regex: String.raw`(namespace|open|as|operation|function|body|adjoint|newtype|controlled|internal)\\b`,\n        beginWord: true,\n      },\n      {\n        token: \"keyword\",\n        regex: String.raw`(if|elif|else|repeat|until|fixup|for|in|return|fail|within|apply)\\b`,\n        beginWord: true,\n      },\n      {\n        token: \"keyword\",\n        regex: String.raw`(Adjoint|Controlled|Adj|Ctl|is|self|auto|distribute|invert|intrinsic)\\b`,\n        beginWord: true,\n      },\n      {\n        token: \"keyword\",\n        regex: String.raw`(let|set|use|borrow|mutable)\\b`,\n        beginWord: true,\n      },\n      {\n        token: \"operatorKeyword\",\n        regex: String.raw`(not|and|or)\\b|(w/)`,\n        beginWord: true,\n      },\n      {\n        token: \"operatorKeyword\",\n        regex: String.raw`(=)|(!)|(<)|(>)|(\\+)|(-)|(\\*)|(/)|(\\^)|(%)|(\\|)|(&&&)|(~~~)|(\\.\\.\\.)|(\\.\\.)|(\\?)`,\n        beginWord: false,\n      },\n      {\n        token: \"meta\",\n        regex: String.raw`(Int|BigInt|Double|Bool|Qubit|Pauli|Result|Range|String|Unit)\\b`,\n        beginWord: true,\n      },\n      {\n        token: \"atom\",\n        regex: String.raw`(true|false|Pauli(I|X|Y|Z)|One|Zero)\\b`,\n        beginWord: true,\n      },\n    ];\n    let simpleRules = [];\n    for (let rule of rules) {\n      simpleRules.push({\n        token: rule.token,\n        regex: new RegExp(rule.regex, \"g\"),\n        sol: rule.beginWord,\n      });\n      if (rule.beginWord) {\n        // Need an additional rule due to the fact that CodeMirror simple mode doesn't work with ^ token\n        simpleRules.push({\n          token: rule.token,\n          regex: new RegExp(String.raw`\\W` + rule.regex, \"g\"),\n          sol: false,\n        });\n      }\n    }\n\n    // Register the mode defined above with CodeMirror\n    window.CodeMirror.defineSimpleMode(\"qsharp\", { start: simpleRules });\n    window.CodeMirror.defineMIME(\"text/x-qsharp\", \"qsharp\");\n\n    // Tell Jupyter to associate %%qsharp magic cells with the qsharp mode\n    window.Jupyter.CodeCell.options_default.highlight_modes[\"qsharp\"] = {\n      reg: [/^%%qsharp/],\n    };\n\n    // Force re-highlighting of all cells the first time this code runs\n    for (const cell of window.Jupyter.notebook.get_cells()) {\n      cell.auto_highlight();\n    }\n  });\n}\n",
      "text/plain": []
     },
     "metadata": {},
     "output_type": "display_data"
    }
   ],
   "source": [
    "from qiskit import QuantumCircuit, transpile\n",
    "from azure.quantum import Workspace\n",
    "from azure.quantum.qiskit import AzureQuantumProvider\n",
    "\n",
    "# Definir el Workspace (aquí sí van resource_id y location)\n",
    "workspace = Workspace(\n",
    "    resource_id=\"/subscriptions/0f4027d3-276d-4941-ad53-a9244c367728/resourceGroups/imardiegoGR/providers/Microsoft.Quantum/Workspaces/imardiegoAT\",\n",
    "    location=\"westeurope\"\n",
    ")\n",
    "\n",
    "# Inicializar provider con workspace\n",
    "provider = AzureQuantumProvider(workspace=workspace)"
   ]
  },
  {
   "cell_type": "code",
   "execution_count": 2,
   "id": "d16ebc6e",
   "metadata": {},
   "outputs": [
    {
     "name": "stderr",
     "output_type": "stream",
     "text": [
      "gio: https://login.microsoftonline.com/235bdb0d-7ee9-4049-ae95-0f2fb6253595/oauth2/v2.0/authorize?client_id=04b07795-8ddb-461a-bbee-02f9e1bf7b46&response_type=code&redirect_uri=http%3A%2F%2Flocalhost%3A8400&scope=https%3A%2F%2Fquantum.microsoft.com%2F.default+offline_access+openid+profile&state=zMdrEUphZHFxAvCa&code_challenge=0mpGYgjqtSRx6y5ij6X1VvsqeqGq5FRb-CnmCFug1uw&code_challenge_method=S256&nonce=e472d159d2bdc2c0c12c384407d76d93b1bd1d4da2ffd4f315360668368a50b0&client_info=1&prompt=select_account: Operation not supported\n"
     ]
    },
    {
     "name": "stdout",
     "output_type": "stream",
     "text": [
      "This workspace's targets:\n"
     ]
    },
    {
     "data": {
      "text/plain": [
       "[<Target name=\"quantinuum.sim.h1-1sc\", avg. queue time=4 s, TargetAvailability.AVAILABLE>,\n",
       " <Target name=\"quantinuum.sim.h1-1e\", avg. queue time=9511 s, TargetAvailability.AVAILABLE>,\n",
       " <Target name=\"rigetti.sim.qvm\", avg. queue time=5 s, TargetAvailability.AVAILABLE>]"
      ]
     },
     "execution_count": 2,
     "metadata": {},
     "output_type": "execute_result"
    }
   ],
   "source": [
    "MyTargets = workspace.get_targets()\n",
    "print(\"This workspace's targets:\")\n",
    "MyTargets"
   ]
  },
  {
   "cell_type": "code",
   "execution_count": 3,
   "id": "7556c733",
   "metadata": {},
   "outputs": [
    {
     "data": {
      "text/plain": [
       "'rigetti.sim.qvm'"
      ]
     },
     "execution_count": 3,
     "metadata": {},
     "output_type": "execute_result"
    }
   ],
   "source": [
    "qpu=MyTargets[2].name\n",
    "qpu"
   ]
  },
  {
   "cell_type": "code",
   "execution_count": 4,
   "id": "7debe8bf",
   "metadata": {},
   "outputs": [],
   "source": [
    "backend = provider.get_backend(qpu)"
   ]
  },
  {
   "cell_type": "code",
   "execution_count": 5,
   "id": "d90efe29",
   "metadata": {},
   "outputs": [
    {
     "data": {
      "text/plain": [
       "<qiskit.circuit.instructionset.InstructionSet at 0x75e000b8bac0>"
      ]
     },
     "execution_count": 5,
     "metadata": {},
     "output_type": "execute_result"
    }
   ],
   "source": [
    "qc = QuantumCircuit(2, 2)\n",
    "qc.h(0)\n",
    "qc.cx(0, 1)\n",
    "qc.measure([0,1], [0,1])"
   ]
  },
  {
   "cell_type": "code",
   "execution_count": 6,
   "id": "69e637c1",
   "metadata": {},
   "outputs": [],
   "source": [
    "qc_compiled = transpile(qc, backend)"
   ]
  },
  {
   "cell_type": "code",
   "execution_count": 7,
   "id": "5fb5155a",
   "metadata": {},
   "outputs": [
    {
     "ename": "HttpResponseError",
     "evalue": "(ManagedIdentityForbiddenStorageAccess) The workspace managed identity cannot access the linked storage account. If the workspace is new, please wait a few minutes for permissions to propagate before trying again. If issue persists, please check that the managed identity has Contributor access to the linked storage account and that the linked storage account exists.\nCode: ManagedIdentityForbiddenStorageAccess\nMessage: The workspace managed identity cannot access the linked storage account. If the workspace is new, please wait a few minutes for permissions to propagate before trying again. If issue persists, please check that the managed identity has Contributor access to the linked storage account and that the linked storage account exists.",
     "output_type": "error",
     "traceback": [
      "\u001b[31m---------------------------------------------------------------------------\u001b[39m",
      "\u001b[31mHttpResponseError\u001b[39m                         Traceback (most recent call last)",
      "\u001b[36mCell\u001b[39m\u001b[36m \u001b[39m\u001b[32mIn[7]\u001b[39m\u001b[32m, line 2\u001b[39m\n\u001b[32m      1\u001b[39m \u001b[38;5;66;03m# Enviar job\u001b[39;00m\n\u001b[32m----> \u001b[39m\u001b[32m2\u001b[39m job = \u001b[43mbackend\u001b[49m\u001b[43m.\u001b[49m\u001b[43mrun\u001b[49m\u001b[43m(\u001b[49m\u001b[43mqc_compiled\u001b[49m\u001b[43m,\u001b[49m\u001b[43m \u001b[49m\u001b[43mshots\u001b[49m\u001b[43m=\u001b[49m\u001b[32;43m100\u001b[39;49m\u001b[43m)\u001b[49m\n\u001b[32m      3\u001b[39m \u001b[38;5;28mprint\u001b[39m(\u001b[33m\"\u001b[39m\u001b[33mJob enviado. ID:\u001b[39m\u001b[33m\"\u001b[39m, job.id())\n\u001b[32m      5\u001b[39m \u001b[38;5;66;03m# Esperar y obtener resultados\u001b[39;00m\n",
      "\u001b[36mFile \u001b[39m\u001b[32m~/miniconda3/envs/CondaCodingAzureQuantumEnvironment/lib/python3.13/site-packages/azure/quantum/qiskit/backends/backend.py:385\u001b[39m, in \u001b[36mAzureQirBackend.run\u001b[39m\u001b[34m(self, run_input, shots, **options)\u001b[39m\n\u001b[32m    381\u001b[39m metadata = options.pop(\u001b[33m\"\u001b[39m\u001b[33mmetadata\u001b[39m\u001b[33m\"\u001b[39m, \u001b[38;5;28mself\u001b[39m._prepare_job_metadata(circuits))\n\u001b[32m    383\u001b[39m input_data = \u001b[38;5;28mself\u001b[39m._translate_input(circuits, input_params)\n\u001b[32m--> \u001b[39m\u001b[32m385\u001b[39m job = \u001b[38;5;28;43msuper\u001b[39;49m\u001b[43m(\u001b[49m\u001b[43m)\u001b[49m\u001b[43m.\u001b[49m\u001b[43m_run\u001b[49m\u001b[43m(\u001b[49m\u001b[43mjob_name\u001b[49m\u001b[43m,\u001b[49m\u001b[43m \u001b[49m\u001b[43minput_data\u001b[49m\u001b[43m,\u001b[49m\u001b[43m \u001b[49m\u001b[43minput_params\u001b[49m\u001b[43m,\u001b[49m\u001b[43m \u001b[49m\u001b[43mmetadata\u001b[49m\u001b[43m,\u001b[49m\u001b[43m \u001b[49m\u001b[43m*\u001b[49m\u001b[43m*\u001b[49m\u001b[43moptions\u001b[49m\u001b[43m)\u001b[49m\n\u001b[32m    386\u001b[39m logger.info(\n\u001b[32m    387\u001b[39m     \u001b[33mf\u001b[39m\u001b[33m\"\u001b[39m\u001b[33mSubmitted job with id \u001b[39m\u001b[33m'\u001b[39m\u001b[38;5;132;01m{\u001b[39;00mjob.id()\u001b[38;5;132;01m}\u001b[39;00m\u001b[33m'\u001b[39m\u001b[33m with shot count of \u001b[39m\u001b[38;5;132;01m{\u001b[39;00mshots_count\u001b[38;5;132;01m}\u001b[39;00m\u001b[33m:\u001b[39m\u001b[33m\"\u001b[39m\n\u001b[32m    388\u001b[39m )\n\u001b[32m    390\u001b[39m \u001b[38;5;28;01mreturn\u001b[39;00m job\n",
      "\u001b[36mFile \u001b[39m\u001b[32m~/miniconda3/envs/CondaCodingAzureQuantumEnvironment/lib/python3.13/site-packages/azure/quantum/qiskit/backends/backend.py:245\u001b[39m, in \u001b[36mAzureBackendBase._run\u001b[39m\u001b[34m(self, job_name, input_data, input_params, metadata, **options)\u001b[39m\n\u001b[32m    240\u001b[39m     message += (\n\u001b[32m    241\u001b[39m         \u001b[33mf\u001b[39m\u001b[33m'\u001b[39m\u001b[38;5;130;01m\\t\u001b[39;00m\u001b[33mprovider.get_backend(\u001b[39m\u001b[33m\"\u001b[39m\u001b[38;5;132;01m{\u001b[39;00m\u001b[38;5;28mself\u001b[39m.name()\u001b[38;5;132;01m}\u001b[39;00m\u001b[33m\"\u001b[39m\u001b[33m, input_data_format: \u001b[39m\u001b[33m\"\u001b[39m\u001b[33mqir.v1\u001b[39m\u001b[33m\"\u001b[39m\u001b[33m).\u001b[39m\u001b[33m'\u001b[39m\n\u001b[32m    242\u001b[39m     )\n\u001b[32m    243\u001b[39m     \u001b[38;5;28;01mraise\u001b[39;00m \u001b[38;5;167;01mValueError\u001b[39;00m(message)\n\u001b[32m--> \u001b[39m\u001b[32m245\u001b[39m job = \u001b[43mAzureQuantumJob\u001b[49m\u001b[43m(\u001b[49m\n\u001b[32m    246\u001b[39m \u001b[43m    \u001b[49m\u001b[43mbackend\u001b[49m\u001b[43m=\u001b[49m\u001b[38;5;28;43mself\u001b[39;49m\u001b[43m,\u001b[49m\n\u001b[32m    247\u001b[39m \u001b[43m    \u001b[49m\u001b[43mtarget\u001b[49m\u001b[43m=\u001b[49m\u001b[38;5;28;43mself\u001b[39;49m\u001b[43m.\u001b[49m\u001b[43mname\u001b[49m\u001b[43m(\u001b[49m\u001b[43m)\u001b[49m\u001b[43m,\u001b[49m\n\u001b[32m    248\u001b[39m \u001b[43m    \u001b[49m\u001b[43mname\u001b[49m\u001b[43m=\u001b[49m\u001b[43mjob_name\u001b[49m\u001b[43m,\u001b[49m\n\u001b[32m    249\u001b[39m \u001b[43m    \u001b[49m\u001b[43minput_data\u001b[49m\u001b[43m=\u001b[49m\u001b[43minput_data\u001b[49m\u001b[43m,\u001b[49m\n\u001b[32m    250\u001b[39m \u001b[43m    \u001b[49m\u001b[43mblob_name\u001b[49m\u001b[43m=\u001b[49m\u001b[43mblob_name\u001b[49m\u001b[43m,\u001b[49m\n\u001b[32m    251\u001b[39m \u001b[43m    \u001b[49m\u001b[43mcontent_type\u001b[49m\u001b[43m=\u001b[49m\u001b[43mcontent_type\u001b[49m\u001b[43m,\u001b[49m\n\u001b[32m    252\u001b[39m \u001b[43m    \u001b[49m\u001b[43mprovider_id\u001b[49m\u001b[43m=\u001b[49m\u001b[43mprovider_id\u001b[49m\u001b[43m,\u001b[49m\n\u001b[32m    253\u001b[39m \u001b[43m    \u001b[49m\u001b[43minput_data_format\u001b[49m\u001b[43m=\u001b[49m\u001b[43minput_data_format\u001b[49m\u001b[43m,\u001b[49m\n\u001b[32m    254\u001b[39m \u001b[43m    \u001b[49m\u001b[43moutput_data_format\u001b[49m\u001b[43m=\u001b[49m\u001b[43moutput_data_format\u001b[49m\u001b[43m,\u001b[49m\n\u001b[32m    255\u001b[39m \u001b[43m    \u001b[49m\u001b[43minput_params\u001b[49m\u001b[43m=\u001b[49m\u001b[43minput_params\u001b[49m\u001b[43m,\u001b[49m\n\u001b[32m    256\u001b[39m \u001b[43m    \u001b[49m\u001b[43mmetadata\u001b[49m\u001b[43m=\u001b[49m\u001b[43mmetadata\u001b[49m\u001b[43m,\u001b[49m\n\u001b[32m    257\u001b[39m \u001b[43m    \u001b[49m\u001b[43m*\u001b[49m\u001b[43m*\u001b[49m\u001b[43moptions\u001b[49m\u001b[43m,\u001b[49m\n\u001b[32m    258\u001b[39m \u001b[43m\u001b[49m\u001b[43m)\u001b[49m\n\u001b[32m    260\u001b[39m \u001b[38;5;28;01mreturn\u001b[39;00m job\n",
      "\u001b[36mFile \u001b[39m\u001b[32m~/miniconda3/envs/CondaCodingAzureQuantumEnvironment/lib/python3.13/site-packages/azure/quantum/qiskit/job.py:52\u001b[39m, in \u001b[36mAzureQuantumJob.__init__\u001b[39m\u001b[34m(self, backend, azure_job, **kwargs)\u001b[39m\n\u001b[32m     48\u001b[39m \u001b[38;5;250m\u001b[39m\u001b[33;03m\"\"\"\u001b[39;00m\n\u001b[32m     49\u001b[39m \u001b[33;03m    A Job running on Azure Quantum\u001b[39;00m\n\u001b[32m     50\u001b[39m \u001b[33;03m\"\"\"\u001b[39;00m\n\u001b[32m     51\u001b[39m \u001b[38;5;28;01mif\u001b[39;00m azure_job \u001b[38;5;129;01mis\u001b[39;00m \u001b[38;5;28;01mNone\u001b[39;00m:\n\u001b[32m---> \u001b[39m\u001b[32m52\u001b[39m     azure_job = \u001b[43mJob\u001b[49m\u001b[43m.\u001b[49m\u001b[43mfrom_input_data\u001b[49m\u001b[43m(\u001b[49m\n\u001b[32m     53\u001b[39m \u001b[43m        \u001b[49m\u001b[43mworkspace\u001b[49m\u001b[43m=\u001b[49m\u001b[43mbackend\u001b[49m\u001b[43m.\u001b[49m\u001b[43mprovider\u001b[49m\u001b[43m(\u001b[49m\u001b[43m)\u001b[49m\u001b[43m.\u001b[49m\u001b[43mget_workspace\u001b[49m\u001b[43m(\u001b[49m\u001b[43m)\u001b[49m\u001b[43m,\u001b[49m\n\u001b[32m     54\u001b[39m \u001b[43m        \u001b[49m\u001b[43msession_id\u001b[49m\u001b[43m=\u001b[49m\u001b[43mbackend\u001b[49m\u001b[43m.\u001b[49m\u001b[43mget_latest_session_id\u001b[49m\u001b[43m(\u001b[49m\u001b[43m)\u001b[49m\u001b[43m,\u001b[49m\n\u001b[32m     55\u001b[39m \u001b[43m        \u001b[49m\u001b[43m*\u001b[49m\u001b[43m*\u001b[49m\u001b[43mkwargs\u001b[49m\n\u001b[32m     56\u001b[39m \u001b[43m    \u001b[49m\u001b[43m)\u001b[49m\n\u001b[32m     58\u001b[39m \u001b[38;5;28mself\u001b[39m._azure_job = azure_job\n\u001b[32m     59\u001b[39m \u001b[38;5;28mself\u001b[39m._workspace = backend.provider().get_workspace()\n",
      "\u001b[36mFile \u001b[39m\u001b[32m~/miniconda3/envs/CondaCodingAzureQuantumEnvironment/lib/python3.13/site-packages/azure/quantum/job/base_job.py:128\u001b[39m, in \u001b[36mBaseJob.from_input_data\u001b[39m\u001b[34m(cls, workspace, name, target, input_data, content_type, blob_name, encoding, job_id, container_name, provider_id, input_data_format, output_data_format, input_params, session_id, **kwargs)\u001b[39m\n\u001b[32m    125\u001b[39m     job_id = \u001b[38;5;28mcls\u001b[39m.create_job_id()\n\u001b[32m    127\u001b[39m \u001b[38;5;66;03m# Create container if it does not yet exist\u001b[39;00m\n\u001b[32m--> \u001b[39m\u001b[32m128\u001b[39m container_uri = \u001b[43mworkspace\u001b[49m\u001b[43m.\u001b[49m\u001b[43mget_container_uri\u001b[49m\u001b[43m(\u001b[49m\n\u001b[32m    129\u001b[39m \u001b[43m    \u001b[49m\u001b[43mjob_id\u001b[49m\u001b[43m=\u001b[49m\u001b[43mjob_id\u001b[49m\u001b[43m,\u001b[49m\n\u001b[32m    130\u001b[39m \u001b[43m    \u001b[49m\u001b[43mcontainer_name\u001b[49m\u001b[43m=\u001b[49m\u001b[43mcontainer_name\u001b[49m\n\u001b[32m    131\u001b[39m \u001b[43m\u001b[49m\u001b[43m)\u001b[49m\n\u001b[32m    132\u001b[39m logger.debug(\u001b[33mf\u001b[39m\u001b[33m\"\u001b[39m\u001b[33mContainer URI: \u001b[39m\u001b[38;5;132;01m{\u001b[39;00mcontainer_uri\u001b[38;5;132;01m}\u001b[39;00m\u001b[33m\"\u001b[39m)\n\u001b[32m    134\u001b[39m \u001b[38;5;66;03m# Upload data to container\u001b[39;00m\n",
      "\u001b[36mFile \u001b[39m\u001b[32m~/miniconda3/envs/CondaCodingAzureQuantumEnvironment/lib/python3.13/site-packages/azure/quantum/workspace.py:909\u001b[39m, in \u001b[36mWorkspace.get_container_uri\u001b[39m\u001b[34m(self, job_id, container_name, container_name_format)\u001b[39m\n\u001b[32m    905\u001b[39m \u001b[38;5;66;03m# Create container URI and get container client\u001b[39;00m\n\u001b[32m    906\u001b[39m \u001b[38;5;28;01mif\u001b[39;00m \u001b[38;5;28mself\u001b[39m.storage \u001b[38;5;129;01mis\u001b[39;00m \u001b[38;5;28;01mNone\u001b[39;00m:\n\u001b[32m    907\u001b[39m     \u001b[38;5;66;03m# Get linked storage account from the service, create\u001b[39;00m\n\u001b[32m    908\u001b[39m     \u001b[38;5;66;03m# a new container if it does not yet exist\u001b[39;00m\n\u001b[32m--> \u001b[39m\u001b[32m909\u001b[39m     container_uri = \u001b[38;5;28;43mself\u001b[39;49m\u001b[43m.\u001b[49m\u001b[43m_get_linked_storage_sas_uri\u001b[49m\u001b[43m(\u001b[49m\n\u001b[32m    910\u001b[39m \u001b[43m        \u001b[49m\u001b[43mcontainer_name\u001b[49m\n\u001b[32m    911\u001b[39m \u001b[43m    \u001b[49m\u001b[43m)\u001b[49m\n\u001b[32m    912\u001b[39m     container_client = ContainerClient.from_container_url(\n\u001b[32m    913\u001b[39m         container_uri\n\u001b[32m    914\u001b[39m     )\n\u001b[32m    915\u001b[39m     create_container_using_client(container_client)\n",
      "\u001b[36mFile \u001b[39m\u001b[32m~/miniconda3/envs/CondaCodingAzureQuantumEnvironment/lib/python3.13/site-packages/azure/quantum/workspace.py:360\u001b[39m, in \u001b[36mWorkspace._get_linked_storage_sas_uri\u001b[39m\u001b[34m(self, container_name, blob_name)\u001b[39m\n\u001b[32m    356\u001b[39m client = \u001b[38;5;28mself\u001b[39m._get_workspace_storage_client()\n\u001b[32m    357\u001b[39m blob_details = BlobDetails(\n\u001b[32m    358\u001b[39m     container_name=container_name, blob_name=blob_name\n\u001b[32m    359\u001b[39m )\n\u001b[32m--> \u001b[39m\u001b[32m360\u001b[39m container_uri = \u001b[43mclient\u001b[49m\u001b[43m.\u001b[49m\u001b[43mget_sas_uri\u001b[49m\u001b[43m(\u001b[49m\n\u001b[32m    361\u001b[39m \u001b[43m    \u001b[49m\u001b[38;5;28;43mself\u001b[39;49m\u001b[43m.\u001b[49m\u001b[43m_subscription_id\u001b[49m\u001b[43m,\u001b[49m\n\u001b[32m    362\u001b[39m \u001b[43m    \u001b[49m\u001b[38;5;28;43mself\u001b[39;49m\u001b[43m.\u001b[49m\u001b[43m_resource_group\u001b[49m\u001b[43m,\u001b[49m\n\u001b[32m    363\u001b[39m \u001b[43m    \u001b[49m\u001b[38;5;28;43mself\u001b[39;49m\u001b[43m.\u001b[49m\u001b[43m_workspace_name\u001b[49m\u001b[43m,\u001b[49m\u001b[43m \u001b[49m\n\u001b[32m    364\u001b[39m \u001b[43m    \u001b[49m\u001b[43mblob_details\u001b[49m\u001b[43m=\u001b[49m\u001b[43mblob_details\u001b[49m\u001b[43m)\u001b[49m\n\u001b[32m    366\u001b[39m logger.debug(\u001b[33m\"\u001b[39m\u001b[33mContainer URI from service: \u001b[39m\u001b[38;5;132;01m%s\u001b[39;00m\u001b[33m\"\u001b[39m, container_uri)\n\u001b[32m    367\u001b[39m \u001b[38;5;28;01mreturn\u001b[39;00m container_uri.sas_uri\n",
      "\u001b[36mFile \u001b[39m\u001b[32m~/miniconda3/envs/CondaCodingAzureQuantumEnvironment/lib/python3.13/site-packages/azure/core/tracing/decorator.py:119\u001b[39m, in \u001b[36mdistributed_trace.<locals>.decorator.<locals>.wrapper_use_tracer\u001b[39m\u001b[34m(*args, **kwargs)\u001b[39m\n\u001b[32m    117\u001b[39m \u001b[38;5;66;03m# If tracing is disabled globally and user didn't explicitly enable it, don't trace.\u001b[39;00m\n\u001b[32m    118\u001b[39m \u001b[38;5;28;01mif\u001b[39;00m user_enabled \u001b[38;5;129;01mis\u001b[39;00m \u001b[38;5;28;01mFalse\u001b[39;00m \u001b[38;5;129;01mor\u001b[39;00m (\u001b[38;5;129;01mnot\u001b[39;00m tracing_enabled \u001b[38;5;129;01mand\u001b[39;00m user_enabled \u001b[38;5;129;01mis\u001b[39;00m \u001b[38;5;28;01mNone\u001b[39;00m):\n\u001b[32m--> \u001b[39m\u001b[32m119\u001b[39m     \u001b[38;5;28;01mreturn\u001b[39;00m \u001b[43mfunc\u001b[49m\u001b[43m(\u001b[49m\u001b[43m*\u001b[49m\u001b[43margs\u001b[49m\u001b[43m,\u001b[49m\u001b[43m \u001b[49m\u001b[43m*\u001b[49m\u001b[43m*\u001b[49m\u001b[43mkwargs\u001b[49m\u001b[43m)\u001b[49m\n\u001b[32m    121\u001b[39m \u001b[38;5;66;03m# Merge span is parameter is set, but only if no explicit parent are passed\u001b[39;00m\n\u001b[32m    122\u001b[39m \u001b[38;5;28;01mif\u001b[39;00m merge_span \u001b[38;5;129;01mand\u001b[39;00m \u001b[38;5;129;01mnot\u001b[39;00m passed_in_parent:\n",
      "\u001b[36mFile \u001b[39m\u001b[32m~/miniconda3/envs/CondaCodingAzureQuantumEnvironment/lib/python3.13/site-packages/azure/quantum/_client/operations/_operations.py:2031\u001b[39m, in \u001b[36mStorageOperations.get_sas_uri\u001b[39m\u001b[34m(self, subscription_id, resource_group_name, workspace_name, blob_details, **kwargs)\u001b[39m\n\u001b[32m   2029\u001b[39m             \u001b[38;5;28;01mpass\u001b[39;00m\n\u001b[32m   2030\u001b[39m     map_error(status_code=response.status_code, response=response, error_map=error_map)\n\u001b[32m-> \u001b[39m\u001b[32m2031\u001b[39m     \u001b[38;5;28;01mraise\u001b[39;00m HttpResponseError(response=response)\n\u001b[32m   2033\u001b[39m \u001b[38;5;28;01mif\u001b[39;00m _stream:\n\u001b[32m   2034\u001b[39m     deserialized = response.iter_bytes()\n",
      "\u001b[31mHttpResponseError\u001b[39m: (ManagedIdentityForbiddenStorageAccess) The workspace managed identity cannot access the linked storage account. If the workspace is new, please wait a few minutes for permissions to propagate before trying again. If issue persists, please check that the managed identity has Contributor access to the linked storage account and that the linked storage account exists.\nCode: ManagedIdentityForbiddenStorageAccess\nMessage: The workspace managed identity cannot access the linked storage account. If the workspace is new, please wait a few minutes for permissions to propagate before trying again. If issue persists, please check that the managed identity has Contributor access to the linked storage account and that the linked storage account exists."
     ]
    }
   ],
   "source": [
    "# Enviar job\n",
    "job = backend.run(qc_compiled, shots=100)\n",
    "print(\"Job enviado. ID:\", job.id())\n",
    "\n",
    "# Esperar y obtener resultados\n",
    "result = job.result()\n",
    "print(\"Resultados:\", result.get_counts())"
   ]
  },
  {
   "cell_type": "code",
   "execution_count": 8,
   "id": "4f6faccb",
   "metadata": {},
   "outputs": [],
   "source": [
    "import qsharp # en el caso de que sea un programa en qsharp.\n",
    "import azure.quantum # importamos azure quantum para usar los backends de qiskit o cirq"
   ]
  },
  {
   "cell_type": "code",
   "execution_count": 9,
   "id": "12c6f8c4",
   "metadata": {},
   "outputs": [],
   "source": [
    "#Configuramos el identificador de recurso y la ubicación del área de trabajo de Azure Quantum\n",
    "MyWorkspace = azure.quantum.Workspace(\n",
    "    resource_id = \"/subscriptions/0f4027d3-276d-4941-ad53-a9244c367728/resourceGroups/imardiegoGR/providers/Microsoft.Quantum/Workspaces/imardiegoAT\",\n",
    "    location = \"westeurope\"\n",
    ")"
   ]
  },
  {
   "cell_type": "code",
   "execution_count": 11,
   "id": "9d7ade52",
   "metadata": {},
   "outputs": [
    {
     "name": "stdout",
     "output_type": "stream",
     "text": [
      "This workspace's targets:\n"
     ]
    },
    {
     "data": {
      "text/plain": [
       "[<Target name=\"quantinuum.sim.h1-1sc\", avg. queue time=0 s, TargetAvailability.AVAILABLE>,\n",
       " <Target name=\"quantinuum.sim.h1-1e\", avg. queue time=7536 s, TargetAvailability.AVAILABLE>,\n",
       " <Target name=\"rigetti.sim.qvm\", avg. queue time=5 s, TargetAvailability.AVAILABLE>]"
      ]
     },
     "execution_count": 11,
     "metadata": {},
     "output_type": "execute_result"
    }
   ],
   "source": [
    "#Usamos el método get_targets para ver los computadores disponibles en el área de trabajo:\n",
    "MyTargets = MyWorkspace.get_targets()\n",
    "print(\"This workspace's targets:\")\n",
    "MyTargets"
   ]
  },
  {
   "cell_type": "code",
   "execution_count": 30,
   "id": "320ba140",
   "metadata": {},
   "outputs": [
    {
     "ename": "NameError",
     "evalue": "name 'MyWorkspace' is not defined",
     "output_type": "error",
     "traceback": [
      "\u001b[31m---------------------------------------------------------------------------\u001b[39m",
      "\u001b[31mNameError\u001b[39m                                 Traceback (most recent call last)",
      "\u001b[36mCell\u001b[39m\u001b[36m \u001b[39m\u001b[32mIn[30]\u001b[39m\u001b[32m, line 2\u001b[39m\n\u001b[32m      1\u001b[39m \u001b[38;5;66;03m# Seleccionamos uno disponible, por ejemplo :rigetti.sim.qvmtarget\u001b[39;00m\n\u001b[32m----> \u001b[39m\u001b[32m2\u001b[39m MyTarget = \u001b[43mMyWorkspace\u001b[49m.get_targets(\u001b[33m\"\u001b[39m\u001b[33mrigetti.sim.qvm\u001b[39m\u001b[33m\"\u001b[39m)\n",
      "\u001b[31mNameError\u001b[39m: name 'MyWorkspace' is not defined"
     ]
    }
   ],
   "source": [
    "# Seleccionamos uno disponible, por ejemplo :rigetti.sim.qvmtarget\n",
    "MyTarget = MyWorkspace.get_targets(\"rigetti.sim.qvm\")"
   ]
  },
  {
   "cell_type": "code",
   "execution_count": null,
   "id": "857514b1",
   "metadata": {},
   "outputs": [
    {
     "ename": "NameError",
     "evalue": "name 'MyProgram' is not defined",
     "output_type": "error",
     "traceback": [
      "\u001b[31m---------------------------------------------------------------------------\u001b[39m",
      "\u001b[31mNameError\u001b[39m                                 Traceback (most recent call last)",
      "\u001b[36mCell\u001b[39m\u001b[36m \u001b[39m\u001b[32mIn[13]\u001b[39m\u001b[32m, line 4\u001b[39m\n\u001b[32m      1\u001b[39m \u001b[38;5;66;03m#Por último, usamos el método submit para enviar el programa con sus parámetros y mostrar los resultados.\u001b[39;00m\n\u001b[32m      2\u001b[39m \u001b[38;5;66;03m# MyQuantumJob es el nombre que le damos al trabajo que estará codificado previamente y que es el programa\u001b[39;00m\n\u001b[32m      3\u001b[39m \u001b[38;5;66;03m# que queremos ejecutar en el backend seleccionado.\u001b[39;00m\n\u001b[32m----> \u001b[39m\u001b[32m4\u001b[39m job = MyTarget.submit(\u001b[43mMyProgram\u001b[49m, \u001b[33m\"\u001b[39m\u001b[33mMyQuantumJob\u001b[39m\u001b[33m\"\u001b[39m, shots=\u001b[32m100\u001b[39m)\n\u001b[32m      5\u001b[39m job.get_results()\n",
      "\u001b[31mNameError\u001b[39m: name 'MyProgram' is not defined"
     ]
    }
   ],
   "source": [
    "#Por último, usamos el método submit para enviar el programa con sus parámetros y mostrar los resultados.\n",
    "# MyQuantumJob es el nombre que le damos al trabajo que estará codificado previamente y que es el programa\n",
    "# que queremos ejecutar en el backend seleccionado.\n",
    "job = MyTarget.submit(MyProgram, \"MyQuantumJob\", shots=100)\n",
    "result = job.result()\n",
    "print(\"Resultados:\", result.get_counts())\n"
   ]
  },
  {
   "cell_type": "code",
   "execution_count": null,
   "id": "78116821",
   "metadata": {},
   "outputs": [],
   "source": [
    "# Todas las propiedades del trabajo son accesibles en job.details, por ejemplo:\n",
    "print(job.details)\n",
    "print(\"\\nJob name:\", job.details.name)\n",
    "print(\"Job status:\", job.details.status)\n",
    "print(\"Job ID:\", job.details.id)"
   ]
  },
  {
   "cell_type": "code",
   "execution_count": null,
   "id": "20ee62f7",
   "metadata": {},
   "outputs": [],
   "source": [
    "# Para obtener los datos del histograma\n",
    "print(job.get_results_histogram()) "
   ]
  },
  {
   "cell_type": "markdown",
   "id": "9f4432b6",
   "metadata": {},
   "source": [
    "### Un ejemplo de chat gpt"
   ]
  },
  {
   "cell_type": "code",
   "execution_count": 14,
   "id": "574a448a",
   "metadata": {},
   "outputs": [
    {
     "name": "stderr",
     "output_type": "stream",
     "text": [
      "/tmp/ipykernel_2220/1424566205.py:9: DeprecationWarning: Consider passing \"workspace\" argument explicitly. \n",
      "                 The ability to initialize AzureQuantumProvider with arguments \"resource_id\", \"location\" is going to be deprecated in future versions.\n",
      "  provider = AzureQuantumProvider(\n"
     ]
    },
    {
     "ename": "ValueError",
     "evalue": "Invalid resource id",
     "output_type": "error",
     "traceback": [
      "\u001b[31m---------------------------------------------------------------------------\u001b[39m",
      "\u001b[31mValueError\u001b[39m                                Traceback (most recent call last)",
      "\u001b[36mCell\u001b[39m\u001b[36m \u001b[39m\u001b[32mIn[14]\u001b[39m\u001b[32m, line 9\u001b[39m\n\u001b[32m      6\u001b[39m location = \u001b[33m\"\u001b[39m\u001b[33mwesteurope\u001b[39m\u001b[33m\"\u001b[39m  \u001b[38;5;66;03m# o la región de tu workspace\u001b[39;00m\n\u001b[32m      8\u001b[39m \u001b[38;5;66;03m# Conectarse al workspace de Azure Quantum\u001b[39;00m\n\u001b[32m----> \u001b[39m\u001b[32m9\u001b[39m provider = \u001b[43mAzureQuantumProvider\u001b[49m\u001b[43m(\u001b[49m\n\u001b[32m     10\u001b[39m \u001b[43m    \u001b[49m\u001b[43mresource_id\u001b[49m\u001b[43m=\u001b[49m\u001b[43mresource_id\u001b[49m\u001b[43m,\u001b[49m\n\u001b[32m     11\u001b[39m \u001b[43m    \u001b[49m\u001b[43mlocation\u001b[49m\u001b[43m=\u001b[49m\u001b[43mlocation\u001b[49m\n\u001b[32m     12\u001b[39m \u001b[43m)\u001b[49m\n\u001b[32m     14\u001b[39m \u001b[38;5;66;03m# Listar backends disponibles\u001b[39;00m\n\u001b[32m     15\u001b[39m \u001b[38;5;28mprint\u001b[39m(\u001b[33m\"\u001b[39m\u001b[33mBackends disponibles:\u001b[39m\u001b[33m\"\u001b[39m)\n",
      "\u001b[36mFile \u001b[39m\u001b[32m~/miniconda3/envs/CondaCodingAzureQuantumEnvironment/lib/python3.13/site-packages/azure/quantum/qiskit/provider.py:46\u001b[39m, in \u001b[36mAzureQuantumProvider.__init__\u001b[39m\u001b[34m(self, workspace, **kwargs)\u001b[39m\n\u001b[32m     40\u001b[39m     warn(\u001b[33mf\u001b[39m\u001b[33m\"\"\"\u001b[39m\u001b[33mConsider passing \u001b[39m\u001b[38;5;130;01m\\\"\u001b[39;00m\u001b[33mworkspace\u001b[39m\u001b[38;5;130;01m\\\"\u001b[39;00m\u001b[33m argument explicitly. \u001b[39m\n\u001b[32m     41\u001b[39m \u001b[33m         The ability to initialize AzureQuantumProvider with arguments \u001b[39m\u001b[38;5;132;01m{\u001b[39;00m\u001b[33m'\u001b[39m\u001b[33m, \u001b[39m\u001b[33m'\u001b[39m.join(\u001b[33mf\u001b[39m\u001b[33m'\u001b[39m\u001b[33m\"\u001b[39m\u001b[38;5;132;01m{\u001b[39;00margName\u001b[38;5;132;01m}\u001b[39;00m\u001b[33m\"\u001b[39m\u001b[33m'\u001b[39m\u001b[38;5;250m \u001b[39m\u001b[38;5;28;01mfor\u001b[39;00m\u001b[38;5;250m \u001b[39margName\u001b[38;5;250m \u001b[39m\u001b[38;5;129;01min\u001b[39;00m\u001b[38;5;250m \u001b[39mkwargs)\u001b[38;5;132;01m}\u001b[39;00m\u001b[33m is going to be deprecated in future versions.\u001b[39m\u001b[33m\"\"\"\u001b[39m, \n\u001b[32m     42\u001b[39m          \u001b[38;5;167;01mDeprecationWarning\u001b[39;00m, \n\u001b[32m     43\u001b[39m          stacklevel=\u001b[32m2\u001b[39m)\n\u001b[32m     45\u001b[39m \u001b[38;5;28;01mif\u001b[39;00m workspace \u001b[38;5;129;01mis\u001b[39;00m \u001b[38;5;28;01mNone\u001b[39;00m:\n\u001b[32m---> \u001b[39m\u001b[32m46\u001b[39m     workspace = \u001b[43mWorkspace\u001b[49m\u001b[43m(\u001b[49m\u001b[43m*\u001b[49m\u001b[43m*\u001b[49m\u001b[43mkwargs\u001b[49m\u001b[43m)\u001b[49m\n\u001b[32m     48\u001b[39m workspace.append_user_agent(QISKIT_USER_AGENT)\n\u001b[32m     50\u001b[39m \u001b[38;5;28mself\u001b[39m._workspace = workspace\n",
      "\u001b[36mFile \u001b[39m\u001b[32m~/miniconda3/envs/CondaCodingAzureQuantumEnvironment/lib/python3.13/site-packages/azure/quantum/workspace.py:125\u001b[39m, in \u001b[36mWorkspace.__init__\u001b[39m\u001b[34m(self, subscription_id, resource_group, name, storage, resource_id, location, credential, user_agent, **kwargs)\u001b[39m\n\u001b[32m    113\u001b[39m \u001b[38;5;28;01mdef\u001b[39;00m\u001b[38;5;250m \u001b[39m\u001b[34m__init__\u001b[39m(\n\u001b[32m    114\u001b[39m     \u001b[38;5;28mself\u001b[39m,\n\u001b[32m    115\u001b[39m     subscription_id: Optional[\u001b[38;5;28mstr\u001b[39m] = \u001b[38;5;28;01mNone\u001b[39;00m,\n\u001b[32m   (...)\u001b[39m\u001b[32m    123\u001b[39m     **kwargs: Any,\n\u001b[32m    124\u001b[39m ) -> \u001b[38;5;28;01mNone\u001b[39;00m:\n\u001b[32m--> \u001b[39m\u001b[32m125\u001b[39m     connection_params = \u001b[43mWorkspaceConnectionParams\u001b[49m\u001b[43m(\u001b[49m\n\u001b[32m    126\u001b[39m \u001b[43m        \u001b[49m\u001b[43mlocation\u001b[49m\u001b[43m=\u001b[49m\u001b[43mlocation\u001b[49m\u001b[43m,\u001b[49m\n\u001b[32m    127\u001b[39m \u001b[43m        \u001b[49m\u001b[43msubscription_id\u001b[49m\u001b[43m=\u001b[49m\u001b[43msubscription_id\u001b[49m\u001b[43m,\u001b[49m\n\u001b[32m    128\u001b[39m \u001b[43m        \u001b[49m\u001b[43mresource_group\u001b[49m\u001b[43m=\u001b[49m\u001b[43mresource_group\u001b[49m\u001b[43m,\u001b[49m\n\u001b[32m    129\u001b[39m \u001b[43m        \u001b[49m\u001b[43mworkspace_name\u001b[49m\u001b[43m=\u001b[49m\u001b[43mname\u001b[49m\u001b[43m,\u001b[49m\n\u001b[32m    130\u001b[39m \u001b[43m        \u001b[49m\u001b[43mcredential\u001b[49m\u001b[43m=\u001b[49m\u001b[43mcredential\u001b[49m\u001b[43m,\u001b[49m\n\u001b[32m    131\u001b[39m \u001b[43m        \u001b[49m\u001b[43mresource_id\u001b[49m\u001b[43m=\u001b[49m\u001b[43mresource_id\u001b[49m\u001b[43m,\u001b[49m\n\u001b[32m    132\u001b[39m \u001b[43m        \u001b[49m\u001b[43muser_agent\u001b[49m\u001b[43m=\u001b[49m\u001b[43muser_agent\u001b[49m\u001b[43m,\u001b[49m\n\u001b[32m    133\u001b[39m \u001b[43m        \u001b[49m\u001b[43m*\u001b[49m\u001b[43m*\u001b[49m\u001b[43mkwargs\u001b[49m\n\u001b[32m    134\u001b[39m \u001b[43m    \u001b[49m\u001b[43m)\u001b[49m.default_from_env_vars()\n\u001b[32m    136\u001b[39m     logger.info(\u001b[33m\"\u001b[39m\u001b[33mUsing \u001b[39m\u001b[38;5;132;01m%s\u001b[39;00m\u001b[33m environment.\u001b[39m\u001b[33m\"\u001b[39m, connection_params.environment)\n\u001b[32m    138\u001b[39m     connection_params.assert_complete()\n",
      "\u001b[36mFile \u001b[39m\u001b[32m~/miniconda3/envs/CondaCodingAzureQuantumEnvironment/lib/python3.13/site-packages/azure/quantum/_workspace_connection_params.py:110\u001b[39m, in \u001b[36mWorkspaceConnectionParams.__init__\u001b[39m\u001b[34m(self, subscription_id, resource_group, workspace_name, location, quantum_endpoint, arm_endpoint, environment, credential, resource_id, user_agent, user_agent_app_id, tenant_id, client_id, api_version, connection_string, on_new_client_request)\u001b[39m\n\u001b[32m     94\u001b[39m \u001b[38;5;28mself\u001b[39m.apply_connection_string(connection_string)\n\u001b[32m     95\u001b[39m \u001b[38;5;28mself\u001b[39m.merge(\n\u001b[32m     96\u001b[39m     api_version=api_version,\n\u001b[32m     97\u001b[39m     arm_endpoint=arm_endpoint,\n\u001b[32m   (...)\u001b[39m\u001b[32m    108\u001b[39m     workspace_name=workspace_name,\n\u001b[32m    109\u001b[39m )\n\u001b[32m--> \u001b[39m\u001b[32m110\u001b[39m \u001b[38;5;28;43mself\u001b[39;49m\u001b[43m.\u001b[49m\u001b[43mapply_resource_id\u001b[49m\u001b[43m(\u001b[49m\u001b[43mresource_id\u001b[49m\u001b[43m=\u001b[49m\u001b[43mresource_id\u001b[49m\u001b[43m)\u001b[49m\n",
      "\u001b[36mFile \u001b[39m\u001b[32m~/miniconda3/envs/CondaCodingAzureQuantumEnvironment/lib/python3.13/site-packages/azure/quantum/_workspace_connection_params.py:223\u001b[39m, in \u001b[36mWorkspaceConnectionParams.apply_resource_id\u001b[39m\u001b[34m(self, resource_id)\u001b[39m\n\u001b[32m    219\u001b[39m match = re.search(\n\u001b[32m    220\u001b[39m     WorkspaceConnectionParams.RESOURCE_ID_REGEX,\n\u001b[32m    221\u001b[39m     resource_id)\n\u001b[32m    222\u001b[39m \u001b[38;5;28;01mif\u001b[39;00m \u001b[38;5;129;01mnot\u001b[39;00m match:\n\u001b[32m--> \u001b[39m\u001b[32m223\u001b[39m     \u001b[38;5;28;01mraise\u001b[39;00m \u001b[38;5;167;01mValueError\u001b[39;00m(\u001b[33m\"\u001b[39m\u001b[33mInvalid resource id\u001b[39m\u001b[33m\"\u001b[39m)\n\u001b[32m    224\u001b[39m \u001b[38;5;28mself\u001b[39m._merge_re_match(match)\n",
      "\u001b[31mValueError\u001b[39m: Invalid resource id"
     ]
    }
   ],
   "source": [
    "from qiskit import QuantumCircuit, transpile\n",
    "from azure.quantum.qiskit import AzureQuantumProvider\n",
    "\n",
    "# Datos de tu espacio de trabajo en Azure Quantum\n",
    "resource_id = \"/subscriptions/0f4027d3-276d-4941-ad53-a9244c367728/resourceGroups/mrg-imardiegoAT-quantinuum\"\n",
    "location = \"westeurope\"  # o la región de tu workspace\n",
    "\n",
    "# Conectarse al workspace de Azure Quantum\n",
    "provider = AzureQuantumProvider(\n",
    "    resource_id=resource_id,\n",
    "    location=location\n",
    ")\n",
    "\n",
    "# Listar backends disponibles\n",
    "print(\"Backends disponibles:\")\n",
    "for backend in provider.backends():\n",
    "    print(\"-\", backend.name())\n",
    "\n"
   ]
  },
  {
   "cell_type": "code",
   "execution_count": null,
   "id": "02157bcf",
   "metadata": {},
   "outputs": [],
   "source": [
    "# Crear un circuito sencillo\n",
    "qc = QuantumCircuit(2)\n",
    "qc.h(0)\n",
    "qc.cx(0, 1)\n",
    "qc.measure_all()\n",
    "\n",
    "# Seleccionar un backend (ejemplo: IonQ, Quantinuum, Rigetti, etc.)\n",
    "backend = provider.get_backend(\"ionq.simulator\")\n",
    "\n",
    "# Transpilar y enviar el trabajo\n",
    "transpiled_circuit = transpile(qc, backend=backend)\n",
    "job = backend.run(transpiled_circuit, shots=100)\n",
    "\n",
    "print(\"Job ID:\", job.id())\n",
    "result = job.result()\n",
    "print(\"Resultados:\", result.get_counts())"
   ]
  },
  {
   "cell_type": "markdown",
   "id": "34c103f5",
   "metadata": {},
   "source": [
    "### Una prueba good"
   ]
  },
  {
   "cell_type": "code",
   "execution_count": 1,
   "id": "57addfb5",
   "metadata": {},
   "outputs": [
    {
     "data": {
      "application/javascript": "// Copyright (c) Microsoft Corporation.\n// Licensed under the MIT License.\n\n// This file provides CodeMirror syntax highlighting for Q# magic cells\n// in classic Jupyter Notebooks. It does nothing in other (Jupyter Notebook 7,\n// VS Code, Azure Notebooks, etc.) environments.\n\n// Detect the prerequisites and do nothing if they don't exist.\nif (window.require && window.CodeMirror && window.Jupyter) {\n  // The simple mode plugin for CodeMirror is not loaded by default, so require it.\n  window.require([\"codemirror/addon/mode/simple\"], function defineMode() {\n    let rules = [\n      {\n        token: \"comment\",\n        regex: /(\\/\\/).*/,\n        beginWord: false,\n      },\n      {\n        token: \"string\",\n        regex: String.raw`^\\\"(?:[^\\\"\\\\]|\\\\[\\s\\S])*(?:\\\"|$)`,\n        beginWord: false,\n      },\n      {\n        token: \"keyword\",\n        regex: String.raw`(namespace|open|as|operation|function|body|adjoint|newtype|controlled|internal)\\b`,\n        beginWord: true,\n      },\n      {\n        token: \"keyword\",\n        regex: String.raw`(if|elif|else|repeat|until|fixup|for|in|return|fail|within|apply)\\b`,\n        beginWord: true,\n      },\n      {\n        token: \"keyword\",\n        regex: String.raw`(Adjoint|Controlled|Adj|Ctl|is|self|auto|distribute|invert|intrinsic)\\b`,\n        beginWord: true,\n      },\n      {\n        token: \"keyword\",\n        regex: String.raw`(let|set|use|borrow|mutable)\\b`,\n        beginWord: true,\n      },\n      {\n        token: \"operatorKeyword\",\n        regex: String.raw`(not|and|or)\\b|(w/)`,\n        beginWord: true,\n      },\n      {\n        token: \"operatorKeyword\",\n        regex: String.raw`(=)|(!)|(<)|(>)|(\\+)|(-)|(\\*)|(/)|(\\^)|(%)|(\\|)|(&&&)|(~~~)|(\\.\\.\\.)|(\\.\\.)|(\\?)`,\n        beginWord: false,\n      },\n      {\n        token: \"meta\",\n        regex: String.raw`(Int|BigInt|Double|Bool|Qubit|Pauli|Result|Range|String|Unit)\\b`,\n        beginWord: true,\n      },\n      {\n        token: \"atom\",\n        regex: String.raw`(true|false|Pauli(I|X|Y|Z)|One|Zero)\\b`,\n        beginWord: true,\n      },\n    ];\n    let simpleRules = [];\n    for (let rule of rules) {\n      simpleRules.push({\n        token: rule.token,\n        regex: new RegExp(rule.regex, \"g\"),\n        sol: rule.beginWord,\n      });\n      if (rule.beginWord) {\n        // Need an additional rule due to the fact that CodeMirror simple mode doesn't work with ^ token\n        simpleRules.push({\n          token: rule.token,\n          regex: new RegExp(String.raw`\\W` + rule.regex, \"g\"),\n          sol: false,\n        });\n      }\n    }\n\n    // Register the mode defined above with CodeMirror\n    window.CodeMirror.defineSimpleMode(\"qsharp\", { start: simpleRules });\n    window.CodeMirror.defineMIME(\"text/x-qsharp\", \"qsharp\");\n\n    // Tell Jupyter to associate %%qsharp magic cells with the qsharp mode\n    window.Jupyter.CodeCell.options_default.highlight_modes[\"qsharp\"] = {\n      reg: [/^%%qsharp/],\n    };\n\n    // Force re-highlighting of all cells the first time this code runs\n    for (const cell of window.Jupyter.notebook.get_cells()) {\n      cell.auto_highlight();\n    }\n  });\n}\n",
      "text/plain": []
     },
     "metadata": {},
     "output_type": "display_data"
    }
   ],
   "source": [
    "from qiskit import QuantumCircuit, transpile\n",
    "from azure.quantum import Workspace\n",
    "from azure.quantum.qiskit import AzureQuantumProvider"
   ]
  },
  {
   "cell_type": "code",
   "execution_count": 2,
   "id": "f477a3be",
   "metadata": {},
   "outputs": [
    {
     "ename": "ValueError",
     "evalue": "Invalid resource id",
     "output_type": "error",
     "traceback": [
      "\u001b[31m---------------------------------------------------------------------------\u001b[39m",
      "\u001b[31mValueError\u001b[39m                                Traceback (most recent call last)",
      "\u001b[36mCell\u001b[39m\u001b[36m \u001b[39m\u001b[32mIn[2]\u001b[39m\u001b[32m, line 2\u001b[39m\n\u001b[32m      1\u001b[39m \u001b[38;5;66;03m# Definir el Workspace (aquí sí van resource_id y location)\u001b[39;00m\n\u001b[32m----> \u001b[39m\u001b[32m2\u001b[39m workspace = \u001b[43mWorkspace\u001b[49m\u001b[43m(\u001b[49m\n\u001b[32m      3\u001b[39m \u001b[43m    \u001b[49m\u001b[43mresource_id\u001b[49m\u001b[43m=\u001b[49m\u001b[33;43m\"\u001b[39;49m\u001b[33;43m/subscriptions/0f4027d3-276d-4941-ad53-a9244c367728/resourceGroups/mrg-imardiegoAT\u001b[39;49m\u001b[33;43m\"\u001b[39;49m\u001b[43m,\u001b[49m\n\u001b[32m      4\u001b[39m \u001b[43m    \u001b[49m\u001b[43mlocation\u001b[49m\u001b[43m=\u001b[49m\u001b[33;43m\"\u001b[39;49m\u001b[33;43mwesteurope\u001b[39;49m\u001b[33;43m\"\u001b[39;49m\n\u001b[32m      5\u001b[39m \u001b[43m)\u001b[49m\n",
      "\u001b[36mFile \u001b[39m\u001b[32m~/miniconda3/envs/CondaCodingAzureQuantumEnvironment/lib/python3.13/site-packages/azure/quantum/workspace.py:125\u001b[39m, in \u001b[36mWorkspace.__init__\u001b[39m\u001b[34m(self, subscription_id, resource_group, name, storage, resource_id, location, credential, user_agent, **kwargs)\u001b[39m\n\u001b[32m    113\u001b[39m \u001b[38;5;28;01mdef\u001b[39;00m\u001b[38;5;250m \u001b[39m\u001b[34m__init__\u001b[39m(\n\u001b[32m    114\u001b[39m     \u001b[38;5;28mself\u001b[39m,\n\u001b[32m    115\u001b[39m     subscription_id: Optional[\u001b[38;5;28mstr\u001b[39m] = \u001b[38;5;28;01mNone\u001b[39;00m,\n\u001b[32m   (...)\u001b[39m\u001b[32m    123\u001b[39m     **kwargs: Any,\n\u001b[32m    124\u001b[39m ) -> \u001b[38;5;28;01mNone\u001b[39;00m:\n\u001b[32m--> \u001b[39m\u001b[32m125\u001b[39m     connection_params = \u001b[43mWorkspaceConnectionParams\u001b[49m\u001b[43m(\u001b[49m\n\u001b[32m    126\u001b[39m \u001b[43m        \u001b[49m\u001b[43mlocation\u001b[49m\u001b[43m=\u001b[49m\u001b[43mlocation\u001b[49m\u001b[43m,\u001b[49m\n\u001b[32m    127\u001b[39m \u001b[43m        \u001b[49m\u001b[43msubscription_id\u001b[49m\u001b[43m=\u001b[49m\u001b[43msubscription_id\u001b[49m\u001b[43m,\u001b[49m\n\u001b[32m    128\u001b[39m \u001b[43m        \u001b[49m\u001b[43mresource_group\u001b[49m\u001b[43m=\u001b[49m\u001b[43mresource_group\u001b[49m\u001b[43m,\u001b[49m\n\u001b[32m    129\u001b[39m \u001b[43m        \u001b[49m\u001b[43mworkspace_name\u001b[49m\u001b[43m=\u001b[49m\u001b[43mname\u001b[49m\u001b[43m,\u001b[49m\n\u001b[32m    130\u001b[39m \u001b[43m        \u001b[49m\u001b[43mcredential\u001b[49m\u001b[43m=\u001b[49m\u001b[43mcredential\u001b[49m\u001b[43m,\u001b[49m\n\u001b[32m    131\u001b[39m \u001b[43m        \u001b[49m\u001b[43mresource_id\u001b[49m\u001b[43m=\u001b[49m\u001b[43mresource_id\u001b[49m\u001b[43m,\u001b[49m\n\u001b[32m    132\u001b[39m \u001b[43m        \u001b[49m\u001b[43muser_agent\u001b[49m\u001b[43m=\u001b[49m\u001b[43muser_agent\u001b[49m\u001b[43m,\u001b[49m\n\u001b[32m    133\u001b[39m \u001b[43m        \u001b[49m\u001b[43m*\u001b[49m\u001b[43m*\u001b[49m\u001b[43mkwargs\u001b[49m\n\u001b[32m    134\u001b[39m \u001b[43m    \u001b[49m\u001b[43m)\u001b[49m.default_from_env_vars()\n\u001b[32m    136\u001b[39m     logger.info(\u001b[33m\"\u001b[39m\u001b[33mUsing \u001b[39m\u001b[38;5;132;01m%s\u001b[39;00m\u001b[33m environment.\u001b[39m\u001b[33m\"\u001b[39m, connection_params.environment)\n\u001b[32m    138\u001b[39m     connection_params.assert_complete()\n",
      "\u001b[36mFile \u001b[39m\u001b[32m~/miniconda3/envs/CondaCodingAzureQuantumEnvironment/lib/python3.13/site-packages/azure/quantum/_workspace_connection_params.py:110\u001b[39m, in \u001b[36mWorkspaceConnectionParams.__init__\u001b[39m\u001b[34m(self, subscription_id, resource_group, workspace_name, location, quantum_endpoint, arm_endpoint, environment, credential, resource_id, user_agent, user_agent_app_id, tenant_id, client_id, api_version, connection_string, on_new_client_request)\u001b[39m\n\u001b[32m     94\u001b[39m \u001b[38;5;28mself\u001b[39m.apply_connection_string(connection_string)\n\u001b[32m     95\u001b[39m \u001b[38;5;28mself\u001b[39m.merge(\n\u001b[32m     96\u001b[39m     api_version=api_version,\n\u001b[32m     97\u001b[39m     arm_endpoint=arm_endpoint,\n\u001b[32m   (...)\u001b[39m\u001b[32m    108\u001b[39m     workspace_name=workspace_name,\n\u001b[32m    109\u001b[39m )\n\u001b[32m--> \u001b[39m\u001b[32m110\u001b[39m \u001b[38;5;28;43mself\u001b[39;49m\u001b[43m.\u001b[49m\u001b[43mapply_resource_id\u001b[49m\u001b[43m(\u001b[49m\u001b[43mresource_id\u001b[49m\u001b[43m=\u001b[49m\u001b[43mresource_id\u001b[49m\u001b[43m)\u001b[49m\n",
      "\u001b[36mFile \u001b[39m\u001b[32m~/miniconda3/envs/CondaCodingAzureQuantumEnvironment/lib/python3.13/site-packages/azure/quantum/_workspace_connection_params.py:223\u001b[39m, in \u001b[36mWorkspaceConnectionParams.apply_resource_id\u001b[39m\u001b[34m(self, resource_id)\u001b[39m\n\u001b[32m    219\u001b[39m match = re.search(\n\u001b[32m    220\u001b[39m     WorkspaceConnectionParams.RESOURCE_ID_REGEX,\n\u001b[32m    221\u001b[39m     resource_id)\n\u001b[32m    222\u001b[39m \u001b[38;5;28;01mif\u001b[39;00m \u001b[38;5;129;01mnot\u001b[39;00m match:\n\u001b[32m--> \u001b[39m\u001b[32m223\u001b[39m     \u001b[38;5;28;01mraise\u001b[39;00m \u001b[38;5;167;01mValueError\u001b[39;00m(\u001b[33m\"\u001b[39m\u001b[33mInvalid resource id\u001b[39m\u001b[33m\"\u001b[39m)\n\u001b[32m    224\u001b[39m \u001b[38;5;28mself\u001b[39m._merge_re_match(match)\n",
      "\u001b[31mValueError\u001b[39m: Invalid resource id"
     ]
    }
   ],
   "source": [
    "# Definir el Workspace (aquí sí van resource_id y location)\n",
    "workspace = Workspace(\n",
    "    resource_id=\"/subscriptions/0f4027d3-276d-4941-ad53-a9244c367728/resourceGroups/mrg-imardiegoAT\",\n",
    "    location=\"westeurope\"\n",
    ")"
   ]
  },
  {
   "cell_type": "code",
   "execution_count": null,
   "id": "cfa02da5",
   "metadata": {},
   "outputs": [
    {
     "ename": "ValueError",
     "evalue": "Invalid resource id",
     "output_type": "error",
     "traceback": [
      "\u001b[31m---------------------------------------------------------------------------\u001b[39m",
      "\u001b[31mValueError\u001b[39m                                Traceback (most recent call last)",
      "\u001b[36mCell\u001b[39m\u001b[36m \u001b[39m\u001b[32mIn[17]\u001b[39m\u001b[32m, line 9\u001b[39m\n\u001b[32m      6\u001b[39m BellJob.measure([\u001b[32m0\u001b[39m,\u001b[32m1\u001b[39m], [\u001b[32m0\u001b[39m,\u001b[32m1\u001b[39m])\n\u001b[32m      8\u001b[39m \u001b[38;5;66;03m# Definir el Workspace (aquí sí van resource_id y location)\u001b[39;00m\n\u001b[32m----> \u001b[39m\u001b[32m9\u001b[39m workspace = \u001b[43mWorkspace\u001b[49m\u001b[43m(\u001b[49m\n\u001b[32m     10\u001b[39m \u001b[43m    \u001b[49m\u001b[43mresource_id\u001b[49m\u001b[43m=\u001b[49m\u001b[33;43m\"\u001b[39;49m\u001b[33;43m/subscriptions/0f4027d3-276d-4941-ad53-a9244c367728/resourceGroups/mrg-imardiegoAT\u001b[39;49m\u001b[33;43m\"\u001b[39;49m\u001b[43m,\u001b[49m\n\u001b[32m     11\u001b[39m \u001b[43m    \u001b[49m\u001b[43mlocation\u001b[49m\u001b[43m=\u001b[49m\u001b[33;43m\"\u001b[39;49m\u001b[33;43mwesteurope\u001b[39;49m\u001b[33;43m\"\u001b[39;49m\n\u001b[32m     12\u001b[39m \u001b[43m)\u001b[49m\n\u001b[32m     14\u001b[39m \u001b[38;5;66;03m# Inicializar provider con workspace\u001b[39;00m\n\u001b[32m     15\u001b[39m provider = AzureQuantumProvider(workspace=workspace)\n",
      "\u001b[36mFile \u001b[39m\u001b[32m~/miniconda3/envs/CondaCodingAzureQuantumEnvironment/lib/python3.13/site-packages/azure/quantum/workspace.py:125\u001b[39m, in \u001b[36mWorkspace.__init__\u001b[39m\u001b[34m(self, subscription_id, resource_group, name, storage, resource_id, location, credential, user_agent, **kwargs)\u001b[39m\n\u001b[32m    113\u001b[39m \u001b[38;5;28;01mdef\u001b[39;00m\u001b[38;5;250m \u001b[39m\u001b[34m__init__\u001b[39m(\n\u001b[32m    114\u001b[39m     \u001b[38;5;28mself\u001b[39m,\n\u001b[32m    115\u001b[39m     subscription_id: Optional[\u001b[38;5;28mstr\u001b[39m] = \u001b[38;5;28;01mNone\u001b[39;00m,\n\u001b[32m   (...)\u001b[39m\u001b[32m    123\u001b[39m     **kwargs: Any,\n\u001b[32m    124\u001b[39m ) -> \u001b[38;5;28;01mNone\u001b[39;00m:\n\u001b[32m--> \u001b[39m\u001b[32m125\u001b[39m     connection_params = \u001b[43mWorkspaceConnectionParams\u001b[49m\u001b[43m(\u001b[49m\n\u001b[32m    126\u001b[39m \u001b[43m        \u001b[49m\u001b[43mlocation\u001b[49m\u001b[43m=\u001b[49m\u001b[43mlocation\u001b[49m\u001b[43m,\u001b[49m\n\u001b[32m    127\u001b[39m \u001b[43m        \u001b[49m\u001b[43msubscription_id\u001b[49m\u001b[43m=\u001b[49m\u001b[43msubscription_id\u001b[49m\u001b[43m,\u001b[49m\n\u001b[32m    128\u001b[39m \u001b[43m        \u001b[49m\u001b[43mresource_group\u001b[49m\u001b[43m=\u001b[49m\u001b[43mresource_group\u001b[49m\u001b[43m,\u001b[49m\n\u001b[32m    129\u001b[39m \u001b[43m        \u001b[49m\u001b[43mworkspace_name\u001b[49m\u001b[43m=\u001b[49m\u001b[43mname\u001b[49m\u001b[43m,\u001b[49m\n\u001b[32m    130\u001b[39m \u001b[43m        \u001b[49m\u001b[43mcredential\u001b[49m\u001b[43m=\u001b[49m\u001b[43mcredential\u001b[49m\u001b[43m,\u001b[49m\n\u001b[32m    131\u001b[39m \u001b[43m        \u001b[49m\u001b[43mresource_id\u001b[49m\u001b[43m=\u001b[49m\u001b[43mresource_id\u001b[49m\u001b[43m,\u001b[49m\n\u001b[32m    132\u001b[39m \u001b[43m        \u001b[49m\u001b[43muser_agent\u001b[49m\u001b[43m=\u001b[49m\u001b[43muser_agent\u001b[49m\u001b[43m,\u001b[49m\n\u001b[32m    133\u001b[39m \u001b[43m        \u001b[49m\u001b[43m*\u001b[49m\u001b[43m*\u001b[49m\u001b[43mkwargs\u001b[49m\n\u001b[32m    134\u001b[39m \u001b[43m    \u001b[49m\u001b[43m)\u001b[49m.default_from_env_vars()\n\u001b[32m    136\u001b[39m     logger.info(\u001b[33m\"\u001b[39m\u001b[33mUsing \u001b[39m\u001b[38;5;132;01m%s\u001b[39;00m\u001b[33m environment.\u001b[39m\u001b[33m\"\u001b[39m, connection_params.environment)\n\u001b[32m    138\u001b[39m     connection_params.assert_complete()\n",
      "\u001b[36mFile \u001b[39m\u001b[32m~/miniconda3/envs/CondaCodingAzureQuantumEnvironment/lib/python3.13/site-packages/azure/quantum/_workspace_connection_params.py:110\u001b[39m, in \u001b[36mWorkspaceConnectionParams.__init__\u001b[39m\u001b[34m(self, subscription_id, resource_group, workspace_name, location, quantum_endpoint, arm_endpoint, environment, credential, resource_id, user_agent, user_agent_app_id, tenant_id, client_id, api_version, connection_string, on_new_client_request)\u001b[39m\n\u001b[32m     94\u001b[39m \u001b[38;5;28mself\u001b[39m.apply_connection_string(connection_string)\n\u001b[32m     95\u001b[39m \u001b[38;5;28mself\u001b[39m.merge(\n\u001b[32m     96\u001b[39m     api_version=api_version,\n\u001b[32m     97\u001b[39m     arm_endpoint=arm_endpoint,\n\u001b[32m   (...)\u001b[39m\u001b[32m    108\u001b[39m     workspace_name=workspace_name,\n\u001b[32m    109\u001b[39m )\n\u001b[32m--> \u001b[39m\u001b[32m110\u001b[39m \u001b[38;5;28;43mself\u001b[39;49m\u001b[43m.\u001b[49m\u001b[43mapply_resource_id\u001b[49m\u001b[43m(\u001b[49m\u001b[43mresource_id\u001b[49m\u001b[43m=\u001b[49m\u001b[43mresource_id\u001b[49m\u001b[43m)\u001b[49m\n",
      "\u001b[36mFile \u001b[39m\u001b[32m~/miniconda3/envs/CondaCodingAzureQuantumEnvironment/lib/python3.13/site-packages/azure/quantum/_workspace_connection_params.py:223\u001b[39m, in \u001b[36mWorkspaceConnectionParams.apply_resource_id\u001b[39m\u001b[34m(self, resource_id)\u001b[39m\n\u001b[32m    219\u001b[39m match = re.search(\n\u001b[32m    220\u001b[39m     WorkspaceConnectionParams.RESOURCE_ID_REGEX,\n\u001b[32m    221\u001b[39m     resource_id)\n\u001b[32m    222\u001b[39m \u001b[38;5;28;01mif\u001b[39;00m \u001b[38;5;129;01mnot\u001b[39;00m match:\n\u001b[32m--> \u001b[39m\u001b[32m223\u001b[39m     \u001b[38;5;28;01mraise\u001b[39;00m \u001b[38;5;167;01mValueError\u001b[39;00m(\u001b[33m\"\u001b[39m\u001b[33mInvalid resource id\u001b[39m\u001b[33m\"\u001b[39m)\n\u001b[32m    224\u001b[39m \u001b[38;5;28mself\u001b[39m._merge_re_match(match)\n",
      "\u001b[31mValueError\u001b[39m: Invalid resource id"
     ]
    }
   ],
   "source": [
    "#--- 1. Definir el circuito Bell ---\n",
    "\n",
    "BellJob = QuantumCircuit(2, 2, name=\"BellJob\")\n",
    "BellJob.h(0)\n",
    "BellJob.cx(0, 1)\n",
    "BellJob.measure([0,1], [0,1])\n",
    "\n",
    "\n",
    "\n",
    "# Inicializar provider con workspace\n",
    "provider = AzureQuantumProvider(workspace=workspace)\n",
    "\n",
    "# Listar backends disponibles\n",
    "print(\"Backends disponibles:\")\n",
    "\n",
    "for backend in provider.backends():\n",
    "    backends.append(backend)\n",
    "    print(\"-\", backend.name())"
   ]
  },
  {
   "cell_type": "code",
   "execution_count": 10,
   "id": "cda34ba9",
   "metadata": {},
   "outputs": [
    {
     "data": {
      "text/plain": [
       "[<QuantinuumSyntaxCheckerQirBackend('quantinuum.sim.h1-1sc')>,\n",
       " <QuantinuumEmulatorQirBackend('quantinuum.sim.h1-1e')>,\n",
       " <RigettiSimulatorBackend('rigetti.sim.qvm')>]"
      ]
     },
     "execution_count": 10,
     "metadata": {},
     "output_type": "execute_result"
    }
   ],
   "source": [
    "backends\n",
    "\n"
   ]
  },
  {
   "cell_type": "code",
   "execution_count": null,
   "id": "53adb802",
   "metadata": {},
   "outputs": [
    {
     "name": "stderr",
     "output_type": "stream",
     "text": [
      "/tmp/ipykernel_1940/484160344.py:16: DeprecationWarning: Consider passing \"workspace\" argument explicitly. \n",
      "                 The ability to initialize AzureQuantumProvider with arguments \"resource_id\", \"location\" is going to be deprecated in future versions.\n",
      "  provider = AzureQuantumProvider(\n"
     ]
    },
    {
     "ename": "ValueError",
     "evalue": "Invalid resource id",
     "output_type": "error",
     "traceback": [
      "\u001b[31m---------------------------------------------------------------------------\u001b[39m",
      "\u001b[31mValueError\u001b[39m                                Traceback (most recent call last)",
      "\u001b[36mCell\u001b[39m\u001b[36m \u001b[39m\u001b[32mIn[2]\u001b[39m\u001b[32m, line 16\u001b[39m\n\u001b[32m     11\u001b[39m BellJob.measure([\u001b[32m0\u001b[39m,\u001b[32m1\u001b[39m], [\u001b[32m0\u001b[39m,\u001b[32m1\u001b[39m])\n\u001b[32m     13\u001b[39m \u001b[38;5;66;03m# --- 2. Conectarse al workspace de Azure Quantum ---\u001b[39;00m\n\u001b[32m     14\u001b[39m \u001b[38;5;66;03m# Sustituyo estos valores por los de mi workspace\u001b[39;00m\n\u001b[32m---> \u001b[39m\u001b[32m16\u001b[39m provider = \u001b[43mAzureQuantumProvider\u001b[49m\u001b[43m(\u001b[49m\n\u001b[32m     17\u001b[39m \u001b[43m    \u001b[49m\u001b[38;5;66;43;03m#resource_id=\"RESOURCE_ID_DE_TU_WORKSPACE\",\u001b[39;49;00m\n\u001b[32m     18\u001b[39m \u001b[43m    \u001b[49m\u001b[43mresource_id\u001b[49m\u001b[43m=\u001b[49m\u001b[33;43m\"\u001b[39;49m\u001b[33;43m/subscriptions/0f4027d3-276d-4941-ad53-a9244c367728/resourceGroups/imardiegoGR/providers/Microsoft.Solutions/applications/imardiegoAT-quantinuum\u001b[39;49m\u001b[33;43m\"\u001b[39;49m\u001b[43m,\u001b[49m\n\u001b[32m     19\u001b[39m \u001b[43m    \u001b[49m\u001b[43mlocation\u001b[49m\u001b[43m=\u001b[49m\u001b[33;43m\"\u001b[39;49m\u001b[33;43mwesteurope\u001b[39;49m\u001b[33;43m\"\u001b[39;49m\u001b[43m  \u001b[49m\u001b[38;5;66;43;03m# Ej: \"westeurope\" o \"eastus\"\u001b[39;49;00m\n\u001b[32m     20\u001b[39m \u001b[43m)\u001b[49m\n\u001b[32m     22\u001b[39m \u001b[38;5;66;03m#--- 3. Elegir un backend ---\u001b[39;00m\n\u001b[32m     23\u001b[39m \u001b[38;5;66;03m# Ejemplo con simulador (puede ser \"microsoft.estimator\" o hardware de un partner como IonQ, Quantinuum, Rigetti...)\u001b[39;00m\n\u001b[32m     25\u001b[39m backend = provider.get_backend(\u001b[33m\"\u001b[39m\u001b[33mionq.simulator\u001b[39m\u001b[33m\"\u001b[39m)\n",
      "\u001b[36mFile \u001b[39m\u001b[32m~/miniconda3/envs/CondaCodingAzureQuantumEnvironment/lib/python3.13/site-packages/azure/quantum/qiskit/provider.py:46\u001b[39m, in \u001b[36mAzureQuantumProvider.__init__\u001b[39m\u001b[34m(self, workspace, **kwargs)\u001b[39m\n\u001b[32m     40\u001b[39m     warn(\u001b[33mf\u001b[39m\u001b[33m\"\"\"\u001b[39m\u001b[33mConsider passing \u001b[39m\u001b[38;5;130;01m\\\"\u001b[39;00m\u001b[33mworkspace\u001b[39m\u001b[38;5;130;01m\\\"\u001b[39;00m\u001b[33m argument explicitly. \u001b[39m\n\u001b[32m     41\u001b[39m \u001b[33m         The ability to initialize AzureQuantumProvider with arguments \u001b[39m\u001b[38;5;132;01m{\u001b[39;00m\u001b[33m'\u001b[39m\u001b[33m, \u001b[39m\u001b[33m'\u001b[39m.join(\u001b[33mf\u001b[39m\u001b[33m'\u001b[39m\u001b[33m\"\u001b[39m\u001b[38;5;132;01m{\u001b[39;00margName\u001b[38;5;132;01m}\u001b[39;00m\u001b[33m\"\u001b[39m\u001b[33m'\u001b[39m\u001b[38;5;250m \u001b[39m\u001b[38;5;28;01mfor\u001b[39;00m\u001b[38;5;250m \u001b[39margName\u001b[38;5;250m \u001b[39m\u001b[38;5;129;01min\u001b[39;00m\u001b[38;5;250m \u001b[39mkwargs)\u001b[38;5;132;01m}\u001b[39;00m\u001b[33m is going to be deprecated in future versions.\u001b[39m\u001b[33m\"\"\"\u001b[39m, \n\u001b[32m     42\u001b[39m          \u001b[38;5;167;01mDeprecationWarning\u001b[39;00m, \n\u001b[32m     43\u001b[39m          stacklevel=\u001b[32m2\u001b[39m)\n\u001b[32m     45\u001b[39m \u001b[38;5;28;01mif\u001b[39;00m workspace \u001b[38;5;129;01mis\u001b[39;00m \u001b[38;5;28;01mNone\u001b[39;00m:\n\u001b[32m---> \u001b[39m\u001b[32m46\u001b[39m     workspace = \u001b[43mWorkspace\u001b[49m\u001b[43m(\u001b[49m\u001b[43m*\u001b[49m\u001b[43m*\u001b[49m\u001b[43mkwargs\u001b[49m\u001b[43m)\u001b[49m\n\u001b[32m     48\u001b[39m workspace.append_user_agent(QISKIT_USER_AGENT)\n\u001b[32m     50\u001b[39m \u001b[38;5;28mself\u001b[39m._workspace = workspace\n",
      "\u001b[36mFile \u001b[39m\u001b[32m~/miniconda3/envs/CondaCodingAzureQuantumEnvironment/lib/python3.13/site-packages/azure/quantum/workspace.py:125\u001b[39m, in \u001b[36mWorkspace.__init__\u001b[39m\u001b[34m(self, subscription_id, resource_group, name, storage, resource_id, location, credential, user_agent, **kwargs)\u001b[39m\n\u001b[32m    113\u001b[39m \u001b[38;5;28;01mdef\u001b[39;00m\u001b[38;5;250m \u001b[39m\u001b[34m__init__\u001b[39m(\n\u001b[32m    114\u001b[39m     \u001b[38;5;28mself\u001b[39m,\n\u001b[32m    115\u001b[39m     subscription_id: Optional[\u001b[38;5;28mstr\u001b[39m] = \u001b[38;5;28;01mNone\u001b[39;00m,\n\u001b[32m   (...)\u001b[39m\u001b[32m    123\u001b[39m     **kwargs: Any,\n\u001b[32m    124\u001b[39m ) -> \u001b[38;5;28;01mNone\u001b[39;00m:\n\u001b[32m--> \u001b[39m\u001b[32m125\u001b[39m     connection_params = \u001b[43mWorkspaceConnectionParams\u001b[49m\u001b[43m(\u001b[49m\n\u001b[32m    126\u001b[39m \u001b[43m        \u001b[49m\u001b[43mlocation\u001b[49m\u001b[43m=\u001b[49m\u001b[43mlocation\u001b[49m\u001b[43m,\u001b[49m\n\u001b[32m    127\u001b[39m \u001b[43m        \u001b[49m\u001b[43msubscription_id\u001b[49m\u001b[43m=\u001b[49m\u001b[43msubscription_id\u001b[49m\u001b[43m,\u001b[49m\n\u001b[32m    128\u001b[39m \u001b[43m        \u001b[49m\u001b[43mresource_group\u001b[49m\u001b[43m=\u001b[49m\u001b[43mresource_group\u001b[49m\u001b[43m,\u001b[49m\n\u001b[32m    129\u001b[39m \u001b[43m        \u001b[49m\u001b[43mworkspace_name\u001b[49m\u001b[43m=\u001b[49m\u001b[43mname\u001b[49m\u001b[43m,\u001b[49m\n\u001b[32m    130\u001b[39m \u001b[43m        \u001b[49m\u001b[43mcredential\u001b[49m\u001b[43m=\u001b[49m\u001b[43mcredential\u001b[49m\u001b[43m,\u001b[49m\n\u001b[32m    131\u001b[39m \u001b[43m        \u001b[49m\u001b[43mresource_id\u001b[49m\u001b[43m=\u001b[49m\u001b[43mresource_id\u001b[49m\u001b[43m,\u001b[49m\n\u001b[32m    132\u001b[39m \u001b[43m        \u001b[49m\u001b[43muser_agent\u001b[49m\u001b[43m=\u001b[49m\u001b[43muser_agent\u001b[49m\u001b[43m,\u001b[49m\n\u001b[32m    133\u001b[39m \u001b[43m        \u001b[49m\u001b[43m*\u001b[49m\u001b[43m*\u001b[49m\u001b[43mkwargs\u001b[49m\n\u001b[32m    134\u001b[39m \u001b[43m    \u001b[49m\u001b[43m)\u001b[49m.default_from_env_vars()\n\u001b[32m    136\u001b[39m     logger.info(\u001b[33m\"\u001b[39m\u001b[33mUsing \u001b[39m\u001b[38;5;132;01m%s\u001b[39;00m\u001b[33m environment.\u001b[39m\u001b[33m\"\u001b[39m, connection_params.environment)\n\u001b[32m    138\u001b[39m     connection_params.assert_complete()\n",
      "\u001b[36mFile \u001b[39m\u001b[32m~/miniconda3/envs/CondaCodingAzureQuantumEnvironment/lib/python3.13/site-packages/azure/quantum/_workspace_connection_params.py:110\u001b[39m, in \u001b[36mWorkspaceConnectionParams.__init__\u001b[39m\u001b[34m(self, subscription_id, resource_group, workspace_name, location, quantum_endpoint, arm_endpoint, environment, credential, resource_id, user_agent, user_agent_app_id, tenant_id, client_id, api_version, connection_string, on_new_client_request)\u001b[39m\n\u001b[32m     94\u001b[39m \u001b[38;5;28mself\u001b[39m.apply_connection_string(connection_string)\n\u001b[32m     95\u001b[39m \u001b[38;5;28mself\u001b[39m.merge(\n\u001b[32m     96\u001b[39m     api_version=api_version,\n\u001b[32m     97\u001b[39m     arm_endpoint=arm_endpoint,\n\u001b[32m   (...)\u001b[39m\u001b[32m    108\u001b[39m     workspace_name=workspace_name,\n\u001b[32m    109\u001b[39m )\n\u001b[32m--> \u001b[39m\u001b[32m110\u001b[39m \u001b[38;5;28;43mself\u001b[39;49m\u001b[43m.\u001b[49m\u001b[43mapply_resource_id\u001b[49m\u001b[43m(\u001b[49m\u001b[43mresource_id\u001b[49m\u001b[43m=\u001b[49m\u001b[43mresource_id\u001b[49m\u001b[43m)\u001b[49m\n",
      "\u001b[36mFile \u001b[39m\u001b[32m~/miniconda3/envs/CondaCodingAzureQuantumEnvironment/lib/python3.13/site-packages/azure/quantum/_workspace_connection_params.py:223\u001b[39m, in \u001b[36mWorkspaceConnectionParams.apply_resource_id\u001b[39m\u001b[34m(self, resource_id)\u001b[39m\n\u001b[32m    219\u001b[39m match = re.search(\n\u001b[32m    220\u001b[39m     WorkspaceConnectionParams.RESOURCE_ID_REGEX,\n\u001b[32m    221\u001b[39m     resource_id)\n\u001b[32m    222\u001b[39m \u001b[38;5;28;01mif\u001b[39;00m \u001b[38;5;129;01mnot\u001b[39;00m match:\n\u001b[32m--> \u001b[39m\u001b[32m223\u001b[39m     \u001b[38;5;28;01mraise\u001b[39;00m \u001b[38;5;167;01mValueError\u001b[39;00m(\u001b[33m\"\u001b[39m\u001b[33mInvalid resource id\u001b[39m\u001b[33m\"\u001b[39m)\n\u001b[32m    224\u001b[39m \u001b[38;5;28mself\u001b[39m._merge_re_match(match)\n",
      "\u001b[31mValueError\u001b[39m: Invalid resource id"
     ]
    }
   ],
   "source": [
    "\n",
    "#--- 3. Elegir un backend ---\n",
    "# Ejemplo con simulador (puede ser \"microsoft.estimator\" o hardware de un partner como IonQ, Quantinuum, Rigetti...)\n",
    "\n",
    "backend = provider.get_backend(\"ionq.simulator\")\n",
    "\n",
    "# --- 4. Ejecutar el job ---\n",
    "\n",
    "job = backend.run(BellJob, shots=1000)\n",
    "\n",
    "#--- 5. Esperar resultados ---\n",
    "\n",
    "result = job.result()\n",
    "print(\"Resultados de BellJob:\", result.get_counts())"
   ]
  }
 ],
 "metadata": {
  "kernelspec": {
   "display_name": "CondaCodingAzureQuantumEnvironment",
   "language": "python",
   "name": "python3"
  },
  "language_info": {
   "codemirror_mode": {
    "name": "ipython",
    "version": 3
   },
   "file_extension": ".py",
   "mimetype": "text/x-python",
   "name": "python",
   "nbconvert_exporter": "python",
   "pygments_lexer": "ipython3",
   "version": "3.13.5"
  }
 },
 "nbformat": 4,
 "nbformat_minor": 5
}
